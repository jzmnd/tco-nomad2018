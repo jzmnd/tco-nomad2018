{
 "cells": [
  {
   "cell_type": "code",
   "execution_count": 1,
   "metadata": {},
   "outputs": [],
   "source": [
    "%matplotlib inline"
   ]
  },
  {
   "cell_type": "code",
   "execution_count": 2,
   "metadata": {},
   "outputs": [],
   "source": [
    "import os\n",
    "import sys"
   ]
  },
  {
   "cell_type": "code",
   "execution_count": 3,
   "metadata": {},
   "outputs": [
    {
     "name": "stdout",
     "output_type": "stream",
     "text": [
      "2.7.14 (default, Jan 17 2018, 15:13:18) \n",
      "[GCC 4.2.1 Compatible Apple LLVM 9.0.0 (clang-900.0.39.2)]\n"
     ]
    }
   ],
   "source": [
    "print sys.version"
   ]
  },
  {
   "cell_type": "code",
   "execution_count": 4,
   "metadata": {},
   "outputs": [],
   "source": [
    "import matplotlib.pyplot as plt\n",
    "import numpy as np\n",
    "import pandas as pd\n",
    "import seaborn as sns"
   ]
  },
  {
   "cell_type": "code",
   "execution_count": 5,
   "metadata": {},
   "outputs": [
    {
     "name": "stderr",
     "output_type": "stream",
     "text": [
      "/usr/local/lib/python2.7/site-packages/pymatgen/__init__.py:87: UserWarning: \n",
      "Pymatgen will drop Py2k support from v2019.1.1. Pls consult the documentation\n",
      "at https://www.pymatgen.org for more details.\n",
      "  at https://www.pymatgen.org for more details.\"\"\")\n"
     ]
    }
   ],
   "source": [
    "import xgboost as xgb\n",
    "import pymatgen as mg\n",
    "import datetime as dt"
   ]
  },
  {
   "cell_type": "code",
   "execution_count": 6,
   "metadata": {},
   "outputs": [],
   "source": [
    "from utils import rmsle"
   ]
  },
  {
   "cell_type": "markdown",
   "metadata": {},
   "source": [
    "#### Load data"
   ]
  },
  {
   "cell_type": "code",
   "execution_count": 7,
   "metadata": {},
   "outputs": [],
   "source": [
    "DATA_DIR = './data'"
   ]
  },
  {
   "cell_type": "code",
   "execution_count": 8,
   "metadata": {},
   "outputs": [],
   "source": [
    "train = pd.read_csv(os.path.join(DATA_DIR, 'train.csv'),\n",
    "                    names=['id', 'spacegroup', 'natoms', 'al',\n",
    "                           'ga', 'in', 'a', 'b', 'c',\n",
    "                           'alpha', 'beta',\n",
    "                           'gamma', 'E0',\n",
    "                           'bandgap'],\n",
    "                    header=0,\n",
    "                    sep=',')\n",
    "test = pd.read_csv(os.path.join(DATA_DIR, 'test.csv'),\n",
    "                    names=['id', 'spacegroup', 'natoms', 'al',\n",
    "                           'ga', 'in', 'a', 'b', 'c',\n",
    "                           'alpha', 'beta',\n",
    "                           'gamma'],\n",
    "                    header=0,\n",
    "                    sep=',')"
   ]
  },
  {
   "cell_type": "code",
   "execution_count": 9,
   "metadata": {},
   "outputs": [],
   "source": [
    "train_ext = pd.read_csv(os.path.join(DATA_DIR, 'train_ext.csv'),\n",
    "                    header=0,\n",
    "                    sep=',')\n",
    "test_ext = pd.read_csv(os.path.join(DATA_DIR, 'test_ext.csv'),\n",
    "                    header=0,\n",
    "                    sep=',')"
   ]
  },
  {
   "cell_type": "code",
   "execution_count": 10,
   "metadata": {},
   "outputs": [],
   "source": [
    "train = train.merge(train_ext, on='id')\n",
    "test = test.merge(test_ext, on='id')"
   ]
  },
  {
   "cell_type": "markdown",
   "metadata": {},
   "source": [
    "#### Add the spacegroup_natoms category:"
   ]
  },
  {
   "cell_type": "code",
   "execution_count": 11,
   "metadata": {},
   "outputs": [],
   "source": [
    "train['spacegroup_natoms'] = train['spacegroup'].astype(str) +\\\n",
    "    '_' + train['natoms'].astype(int).astype(str)\n",
    "test['spacegroup_natoms'] = test['spacegroup'].astype(str) +\\\n",
    "    '_' + test['natoms'].astype(int).astype(str)"
   ]
  },
  {
   "cell_type": "markdown",
   "metadata": {},
   "source": [
    "#### Add cell volume and calculate atomic and mass density:"
   ]
  },
  {
   "cell_type": "code",
   "execution_count": 12,
   "metadata": {},
   "outputs": [],
   "source": [
    "train['cellvol'] = train.apply(lambda r: mg.Lattice.from_parameters(r['a'], r['b'], r['c'],\n",
    "                                         r['alpha'], r['beta'], r['gamma']).volume,\n",
    "                               axis=1)\n",
    "test['cellvol'] = test.apply(lambda r: mg.Lattice.from_parameters(r['a'], r['b'], r['c'],\n",
    "                                       r['alpha'], r['beta'], r['gamma']).volume,\n",
    "                             axis=1)"
   ]
  },
  {
   "cell_type": "code",
   "execution_count": 13,
   "metadata": {},
   "outputs": [],
   "source": [
    "train['atom_density'] = train['natoms'] / train['cellvol']\n",
    "test['atom_density'] = test['natoms'] / test['cellvol']"
   ]
  },
  {
   "cell_type": "code",
   "execution_count": 14,
   "metadata": {},
   "outputs": [],
   "source": [
    "train['mass_density'] = train['avg_mass'] / train['cellvol']\n",
    "test['mass_density'] = test['avg_mass'] / test['cellvol']"
   ]
  },
  {
   "cell_type": "markdown",
   "metadata": {},
   "source": [
    "#### Convert angles to radians:"
   ]
  },
  {
   "cell_type": "code",
   "execution_count": 15,
   "metadata": {},
   "outputs": [],
   "source": [
    "train['alpha_r'] = np.radians(train['alpha'])\n",
    "train['beta_r'] = np.radians(train['beta'])\n",
    "train['gamma_r'] = np.radians(train['gamma'])\n",
    "test['alpha_r'] = np.radians(test['alpha'])\n",
    "test['beta_r'] = np.radians(test['beta'])\n",
    "test['gamma_r'] = np.radians(test['gamma'])"
   ]
  },
  {
   "cell_type": "markdown",
   "metadata": {},
   "source": [
    "#### Check O fraction = 0.6:"
   ]
  },
  {
   "cell_type": "code",
   "execution_count": 16,
   "metadata": {},
   "outputs": [],
   "source": [
    "train['o_fraction'] = train['o_cnt'] / train['natoms']\n",
    "test['o_fraction'] = test['o_cnt'] / test['natoms']"
   ]
  },
  {
   "cell_type": "markdown",
   "metadata": {},
   "source": [
    "#### Build train and test data sets:"
   ]
  },
  {
   "cell_type": "code",
   "execution_count": 17,
   "metadata": {},
   "outputs": [],
   "source": [
    "X_train = train.drop(['id', 'natoms', 'spacegroup',\n",
    "                      'alpha', 'beta', 'gamma',\n",
    "                      'ga', 'o_cnt', 'cellvol', 'o_fraction', 'avg_mass',\n",
    "                      'bandgap', 'E0'], axis=1)\n",
    "X_test = test.drop(['id', 'natoms', 'spacegroup',\n",
    "                    'alpha', 'beta', 'gamma',\n",
    "                    'ga', 'o_cnt', 'cellvol', 'o_fraction', 'avg_mass'], axis=1)"
   ]
  },
  {
   "cell_type": "code",
   "execution_count": 18,
   "metadata": {},
   "outputs": [],
   "source": [
    "# Use log1p of energies to correct for skew\n",
    "y_bg_train = train['bandgap']\n",
    "y_e0_train = np.log1p(train['E0'])"
   ]
  },
  {
   "cell_type": "code",
   "execution_count": 19,
   "metadata": {},
   "outputs": [],
   "source": [
    "X_train = pd.concat([X_train.drop('spacegroup_natoms', axis=1),\n",
    "                    pd.get_dummies(X_train['spacegroup_natoms'])], axis=1)\n",
    "X_test = pd.concat([X_test.drop('spacegroup_natoms', axis=1),\n",
    "                    pd.get_dummies(X_test['spacegroup_natoms'])], axis=1)"
   ]
  },
  {
   "cell_type": "code",
   "execution_count": 25,
   "metadata": {},
   "outputs": [
    {
     "data": {
      "text/plain": [
       "['al',\n",
       " 'in',\n",
       " 'a',\n",
       " 'b',\n",
       " 'c',\n",
       " 'avg_elec',\n",
       " 'avg_ea',\n",
       " 'avg_ip',\n",
       " 'avg_rs_max',\n",
       " 'avg_rp_max',\n",
       " 'avg_rd_max',\n",
       " 'atom_density',\n",
       " 'mass_density',\n",
       " 'alpha_r',\n",
       " 'beta_r',\n",
       " 'gamma_r',\n",
       " '12_20',\n",
       " '12_80',\n",
       " '167_30',\n",
       " '167_60',\n",
       " '194_10',\n",
       " '194_80',\n",
       " '206_80',\n",
       " '227_40',\n",
       " '33_40',\n",
       " '33_80']"
      ]
     },
     "execution_count": 25,
     "metadata": {},
     "output_type": "execute_result"
    }
   ],
   "source": [
    "# Features list\n",
    "X_train.columns.tolist()"
   ]
  },
  {
   "cell_type": "code",
   "execution_count": 26,
   "metadata": {},
   "outputs": [],
   "source": [
    "# Create DMatrix for train\n",
    "dtrain_bg = xgb.DMatrix(data=X_train, label=y_bg_train)\n",
    "dtrain_e0 = xgb.DMatrix(data=X_train, label=y_e0_train)\n",
    "dtest = xgb.DMatrix(data=X_test)"
   ]
  },
  {
   "cell_type": "markdown",
   "metadata": {},
   "source": [
    "#### Build the XGBoost models and train"
   ]
  },
  {
   "cell_type": "code",
   "execution_count": 28,
   "metadata": {},
   "outputs": [],
   "source": [
    "param = {'eta': 0.1,                 # Step size shrinkage used in update (Learning rate)\n",
    "         'alpha': 0.10,              # L1 regularization term on weights\n",
    "         'max_depth': 5,\n",
    "         'colsample_bytree': 0.90,\n",
    "         'colsample_bylevel': 0.90,\n",
    "         'silent': True,\n",
    "         'objective': 'reg:linear'}\n",
    "num_round = 1000"
   ]
  },
  {
   "cell_type": "code",
   "execution_count": 29,
   "metadata": {
    "scrolled": false
   },
   "outputs": [
    {
     "name": "stdout",
     "output_type": "stream",
     "text": [
      "[0]\ttrain-rmse:0.309501+0.00103304\ttest-rmse:0.309558+0.00434323\n",
      "[1]\ttrain-rmse:0.279436+0.000914552\ttest-rmse:0.279586+0.00397396\n",
      "[2]\ttrain-rmse:0.252405+0.000820455\ttest-rmse:0.252668+0.00355557\n",
      "[3]\ttrain-rmse:0.228119+0.000726328\ttest-rmse:0.228439+0.00326878\n",
      "[4]\ttrain-rmse:0.206252+0.000642594\ttest-rmse:0.206658+0.00294549\n",
      "[5]\ttrain-rmse:0.186566+0.000558539\ttest-rmse:0.187065+0.00267513\n",
      "[6]\ttrain-rmse:0.168911+0.000481572\ttest-rmse:0.169607+0.00242109\n",
      "[7]\ttrain-rmse:0.153025+0.000410344\ttest-rmse:0.153828+0.00220987\n",
      "[8]\ttrain-rmse:0.13874+0.000363647\ttest-rmse:0.13974+0.00188016\n",
      "[9]\ttrain-rmse:0.12593+0.000317309\ttest-rmse:0.127111+0.00168398\n",
      "[10]\ttrain-rmse:0.114438+0.000262419\ttest-rmse:0.115746+0.00144301\n",
      "[11]\ttrain-rmse:0.104126+0.000241996\ttest-rmse:0.105534+0.00128324\n",
      "[12]\ttrain-rmse:0.0949282+0.000234046\ttest-rmse:0.0964746+0.00119886\n",
      "[13]\ttrain-rmse:0.0866962+0.000218959\ttest-rmse:0.0884746+0.0010507\n",
      "[14]\ttrain-rmse:0.079343+0.000236639\ttest-rmse:0.0813362+0.000991453\n",
      "[15]\ttrain-rmse:0.0727932+0.000250008\ttest-rmse:0.0749894+0.000977752\n",
      "[16]\ttrain-rmse:0.0669958+0.000268499\ttest-rmse:0.0694066+0.000990729\n",
      "[17]\ttrain-rmse:0.0618326+0.000281713\ttest-rmse:0.0645046+0.00103931\n",
      "[18]\ttrain-rmse:0.0572746+0.000328426\ttest-rmse:0.0602044+0.00107635\n",
      "[19]\ttrain-rmse:0.0532386+0.000341951\ttest-rmse:0.056394+0.00119011\n",
      "[20]\ttrain-rmse:0.0496764+0.000377339\ttest-rmse:0.0530802+0.00125965\n",
      "[21]\ttrain-rmse:0.0465482+0.000392188\ttest-rmse:0.0502006+0.00139184\n",
      "[22]\ttrain-rmse:0.0438294+0.000394759\ttest-rmse:0.0477488+0.00151411\n",
      "[23]\ttrain-rmse:0.041445+0.000419474\ttest-rmse:0.0456036+0.00162661\n",
      "[24]\ttrain-rmse:0.0393814+0.000446723\ttest-rmse:0.043758+0.00173589\n",
      "[25]\ttrain-rmse:0.03759+0.00047292\ttest-rmse:0.042198+0.00183113\n",
      "[26]\ttrain-rmse:0.0360358+0.000490904\ttest-rmse:0.040806+0.00194229\n",
      "[27]\ttrain-rmse:0.034691+0.000519764\ttest-rmse:0.0396548+0.00203147\n",
      "[28]\ttrain-rmse:0.0335408+0.000537262\ttest-rmse:0.0386752+0.00210544\n",
      "[29]\ttrain-rmse:0.0325588+0.000553303\ttest-rmse:0.0378272+0.00217165\n",
      "[30]\ttrain-rmse:0.031716+0.000569268\ttest-rmse:0.0371552+0.00222952\n",
      "[31]\ttrain-rmse:0.0309876+0.000575046\ttest-rmse:0.036578+0.00228785\n",
      "[32]\ttrain-rmse:0.0303624+0.000569131\ttest-rmse:0.0360926+0.00236566\n",
      "[33]\ttrain-rmse:0.0298216+0.000572865\ttest-rmse:0.035671+0.00238506\n",
      "[34]\ttrain-rmse:0.029342+0.000603613\ttest-rmse:0.0353236+0.00245326\n",
      "[35]\ttrain-rmse:0.0289176+0.00060936\ttest-rmse:0.0350458+0.00247944\n",
      "[36]\ttrain-rmse:0.0285498+0.000614181\ttest-rmse:0.0347976+0.00250088\n",
      "[37]\ttrain-rmse:0.0282544+0.000623421\ttest-rmse:0.0345846+0.0025255\n",
      "[38]\ttrain-rmse:0.0279844+0.000626587\ttest-rmse:0.0343966+0.00255227\n",
      "[39]\ttrain-rmse:0.0277476+0.000636529\ttest-rmse:0.0342308+0.00257228\n",
      "[40]\ttrain-rmse:0.0275456+0.00063843\ttest-rmse:0.0341038+0.0025993\n",
      "[41]\ttrain-rmse:0.0273482+0.0006531\ttest-rmse:0.0340082+0.002638\n",
      "[42]\ttrain-rmse:0.0271844+0.000649218\ttest-rmse:0.0339086+0.00265897\n",
      "[43]\ttrain-rmse:0.0270374+0.000639623\ttest-rmse:0.0338276+0.00268068\n",
      "[44]\ttrain-rmse:0.0268876+0.000648356\ttest-rmse:0.0337412+0.00269437\n",
      "[45]\ttrain-rmse:0.0267562+0.000653315\ttest-rmse:0.033675+0.00270524\n",
      "[46]\ttrain-rmse:0.0266542+0.000654939\ttest-rmse:0.0336166+0.0027103\n",
      "[47]\ttrain-rmse:0.0265404+0.00065754\ttest-rmse:0.0335766+0.00272421\n",
      "[48]\ttrain-rmse:0.0264518+0.000664025\ttest-rmse:0.0335412+0.00273794\n",
      "[49]\ttrain-rmse:0.0263484+0.000669788\ttest-rmse:0.0335228+0.00275056\n",
      "[50]\ttrain-rmse:0.0262748+0.000673302\ttest-rmse:0.0334952+0.00276076\n",
      "[51]\ttrain-rmse:0.026172+0.000667695\ttest-rmse:0.0334824+0.00276035\n",
      "[52]\ttrain-rmse:0.0261026+0.000666635\ttest-rmse:0.0334546+0.00276913\n",
      "[53]\ttrain-rmse:0.0260276+0.000670123\ttest-rmse:0.0334266+0.00277228\n",
      "[54]\ttrain-rmse:0.0259438+0.000664585\ttest-rmse:0.0334066+0.00276982\n",
      "[55]\ttrain-rmse:0.0258754+0.000667809\ttest-rmse:0.0333886+0.00275944\n",
      "[56]\ttrain-rmse:0.0258096+0.000668769\ttest-rmse:0.0333806+0.00277949\n",
      "[57]\ttrain-rmse:0.025729+0.00067489\ttest-rmse:0.0333518+0.002788\n",
      "[58]\ttrain-rmse:0.025649+0.000661192\ttest-rmse:0.0333392+0.00279594\n",
      "[59]\ttrain-rmse:0.0255932+0.000661416\ttest-rmse:0.0333318+0.00280643\n",
      "[60]\ttrain-rmse:0.0255234+0.000648298\ttest-rmse:0.033332+0.00280767\n",
      "[61]\ttrain-rmse:0.025452+0.000631767\ttest-rmse:0.0333324+0.00278962\n",
      "[62]\ttrain-rmse:0.0253928+0.000626785\ttest-rmse:0.033321+0.00279392\n",
      "[63]\ttrain-rmse:0.0253314+0.000627411\ttest-rmse:0.0333516+0.00280797\n",
      "[64]\ttrain-rmse:0.0252706+0.000621635\ttest-rmse:0.033347+0.00280025\n",
      "[65]\ttrain-rmse:0.0252094+0.000624836\ttest-rmse:0.0333532+0.00281747\n",
      "[66]\ttrain-rmse:0.0251416+0.000617524\ttest-rmse:0.0333628+0.00281774\n",
      "[67]\ttrain-rmse:0.025089+0.000623022\ttest-rmse:0.0333714+0.00281463\n",
      "[68]\ttrain-rmse:0.0250366+0.000626973\ttest-rmse:0.0333694+0.00281848\n",
      "[69]\ttrain-rmse:0.0249718+0.000630837\ttest-rmse:0.0333878+0.00281447\n",
      "[70]\ttrain-rmse:0.0249258+0.000624783\ttest-rmse:0.0334012+0.00280666\n",
      "[71]\ttrain-rmse:0.0248658+0.000627943\ttest-rmse:0.033412+0.00281199\n",
      "[72]\ttrain-rmse:0.0248044+0.000634718\ttest-rmse:0.0334232+0.00282497\n"
     ]
    }
   ],
   "source": [
    "result_e0 = xgb.cv(param, dtrain_e0, num_round, nfold=5,\n",
    "                   metrics={'rmse'}, seed=42,\n",
    "                   callbacks=[xgb.callback.print_evaluation(show_stdv=True)],\n",
    "                   early_stopping_rounds=10)"
   ]
  },
  {
   "cell_type": "code",
   "execution_count": 30,
   "metadata": {},
   "outputs": [
    {
     "data": {
      "image/png": "[encoded data removed]",
      "text/plain": [
       "<matplotlib.figure.Figure at 0x10f419550>"
      ]
     },
     "metadata": {},
     "output_type": "display_data"
    }
   ],
   "source": [
    "result_e0[['train-rmse-mean', 'test-rmse-mean']].plot();"
   ]
  },
  {
   "cell_type": "code",
   "execution_count": 31,
   "metadata": {},
   "outputs": [],
   "source": [
    "model_e0 = xgb.train(param, dtrain_e0, len(result_e0))\n",
    "#model_e0 = xgb.train(param, dtrain_e0, 59)"
   ]
  },
  {
   "cell_type": "code",
   "execution_count": 32,
   "metadata": {},
   "outputs": [
    {
     "data": {
      "image/png": "[encoded data removed]",
      "text/plain": [
       "<matplotlib.figure.Figure at 0x1165d2890>"
      ]
     },
     "metadata": {},
     "output_type": "display_data"
    }
   ],
   "source": [
    "plt.scatter(model_e0.predict(dtrain_e0), y_e0_train);"
   ]
  },
  {
   "cell_type": "code",
   "execution_count": 33,
   "metadata": {
    "scrolled": false
   },
   "outputs": [
    {
     "name": "stdout",
     "output_type": "stream",
     "text": [
      "[0]\ttrain-rmse:1.68999+0.0142307\ttest-rmse:1.68973+0.0576802\n",
      "[1]\ttrain-rmse:1.52718+0.012762\ttest-rmse:1.52804+0.0520976\n",
      "[2]\ttrain-rmse:1.38063+0.0115422\ttest-rmse:1.38221+0.046874\n",
      "[3]\ttrain-rmse:1.24903+0.0102348\ttest-rmse:1.25138+0.0422503\n",
      "[4]\ttrain-rmse:1.13059+0.0093343\ttest-rmse:1.13381+0.0375034\n",
      "[5]\ttrain-rmse:1.02431+0.00803748\ttest-rmse:1.02911+0.0337422\n",
      "[6]\ttrain-rmse:0.928706+0.0070108\ttest-rmse:0.934883+0.0297348\n",
      "[7]\ttrain-rmse:0.842691+0.00624651\ttest-rmse:0.849795+0.0272074\n",
      "[8]\ttrain-rmse:0.7653+0.00565273\ttest-rmse:0.773691+0.0242313\n",
      "[9]\ttrain-rmse:0.695959+0.0051419\ttest-rmse:0.705537+0.0213899\n",
      "[10]\ttrain-rmse:0.633748+0.00477649\ttest-rmse:0.644426+0.0187352\n",
      "[11]\ttrain-rmse:0.578056+0.00444644\ttest-rmse:0.590577+0.0170244\n",
      "[12]\ttrain-rmse:0.528316+0.00406071\ttest-rmse:0.542628+0.0151459\n",
      "[13]\ttrain-rmse:0.484047+0.00380872\ttest-rmse:0.500003+0.0134555\n",
      "[14]\ttrain-rmse:0.444387+0.00365867\ttest-rmse:0.461849+0.0121476\n",
      "[15]\ttrain-rmse:0.409065+0.00341878\ttest-rmse:0.428941+0.0114331\n",
      "[16]\ttrain-rmse:0.377757+0.00317892\ttest-rmse:0.400003+0.010559\n",
      "[17]\ttrain-rmse:0.350219+0.00308033\ttest-rmse:0.37503+0.00990487\n",
      "[18]\ttrain-rmse:0.325775+0.0031123\ttest-rmse:0.352802+0.0100326\n",
      "[19]\ttrain-rmse:0.304222+0.00299308\ttest-rmse:0.333201+0.00992417\n",
      "[20]\ttrain-rmse:0.285242+0.00292979\ttest-rmse:0.317033+0.0101943\n",
      "[21]\ttrain-rmse:0.268701+0.00291038\ttest-rmse:0.303166+0.0101979\n",
      "[22]\ttrain-rmse:0.254375+0.00290953\ttest-rmse:0.290835+0.0107071\n",
      "[23]\ttrain-rmse:0.241715+0.0029989\ttest-rmse:0.280578+0.0108086\n",
      "[24]\ttrain-rmse:0.230557+0.00300906\ttest-rmse:0.271944+0.0109689\n",
      "[25]\ttrain-rmse:0.221162+0.00294275\ttest-rmse:0.264336+0.0113669\n",
      "[26]\ttrain-rmse:0.212669+0.00310106\ttest-rmse:0.258256+0.0118028\n",
      "[27]\ttrain-rmse:0.205478+0.00320426\ttest-rmse:0.252893+0.0119443\n",
      "[28]\ttrain-rmse:0.199203+0.00324391\ttest-rmse:0.248388+0.0124341\n",
      "[29]\ttrain-rmse:0.193682+0.00321487\ttest-rmse:0.24458+0.0129124\n",
      "[30]\ttrain-rmse:0.188938+0.00325553\ttest-rmse:0.241377+0.0132045\n",
      "[31]\ttrain-rmse:0.18483+0.00338942\ttest-rmse:0.238846+0.0130747\n",
      "[32]\ttrain-rmse:0.181269+0.00350149\ttest-rmse:0.236651+0.0132619\n",
      "[33]\ttrain-rmse:0.17828+0.00356804\ttest-rmse:0.234989+0.0133685\n",
      "[34]\ttrain-rmse:0.175624+0.00355416\ttest-rmse:0.233593+0.0134531\n",
      "[35]\ttrain-rmse:0.173195+0.00343266\ttest-rmse:0.232463+0.0136885\n",
      "[36]\ttrain-rmse:0.170845+0.003493\ttest-rmse:0.231661+0.0136416\n",
      "[37]\ttrain-rmse:0.168897+0.00342399\ttest-rmse:0.230896+0.0135656\n",
      "[38]\ttrain-rmse:0.166938+0.00346503\ttest-rmse:0.230332+0.0136709\n",
      "[39]\ttrain-rmse:0.165247+0.0035678\ttest-rmse:0.229947+0.0137664\n",
      "[40]\ttrain-rmse:0.163728+0.00340481\ttest-rmse:0.229509+0.0136564\n",
      "[41]\ttrain-rmse:0.162285+0.00331114\ttest-rmse:0.229149+0.0136939\n",
      "[42]\ttrain-rmse:0.160848+0.0032992\ttest-rmse:0.228777+0.013609\n",
      "[43]\ttrain-rmse:0.159695+0.00329784\ttest-rmse:0.22878+0.0134787\n",
      "[44]\ttrain-rmse:0.158705+0.00342792\ttest-rmse:0.228635+0.0132904\n",
      "[45]\ttrain-rmse:0.157742+0.00347795\ttest-rmse:0.228475+0.0133068\n",
      "[46]\ttrain-rmse:0.156741+0.00355016\ttest-rmse:0.228346+0.0131262\n",
      "[47]\ttrain-rmse:0.155718+0.00378381\ttest-rmse:0.228252+0.0133529\n",
      "[48]\ttrain-rmse:0.154962+0.00385397\ttest-rmse:0.228263+0.0133587\n",
      "[49]\ttrain-rmse:0.154141+0.00384604\ttest-rmse:0.228034+0.0132615\n",
      "[50]\ttrain-rmse:0.153156+0.00380507\ttest-rmse:0.228192+0.0133491\n",
      "[51]\ttrain-rmse:0.152334+0.00384062\ttest-rmse:0.228429+0.0136037\n",
      "[52]\ttrain-rmse:0.151557+0.00390314\ttest-rmse:0.228382+0.0136431\n",
      "[53]\ttrain-rmse:0.150625+0.00377557\ttest-rmse:0.228573+0.0135084\n",
      "[54]\ttrain-rmse:0.149826+0.00387205\ttest-rmse:0.228695+0.0135972\n",
      "[55]\ttrain-rmse:0.149308+0.00386545\ttest-rmse:0.228723+0.0135502\n",
      "[56]\ttrain-rmse:0.14873+0.00381941\ttest-rmse:0.22863+0.0137188\n",
      "[57]\ttrain-rmse:0.148041+0.00378168\ttest-rmse:0.228619+0.0138082\n",
      "[58]\ttrain-rmse:0.147506+0.00377321\ttest-rmse:0.228597+0.0137021\n",
      "[59]\ttrain-rmse:0.146975+0.00390428\ttest-rmse:0.228533+0.0136415\n"
     ]
    }
   ],
   "source": [
    "result_bg = xgb.cv(param, dtrain_bg, num_round, nfold=5,\n",
    "                   metrics={'rmse'}, seed=42,\n",
    "                   callbacks=[xgb.callback.print_evaluation(show_stdv=True)],\n",
    "                   early_stopping_rounds=10)"
   ]
  },
  {
   "cell_type": "code",
   "execution_count": 34,
   "metadata": {},
   "outputs": [
    {
     "data": {
      "image/png": "[encoded data removed]",
      "text/plain": [
       "<matplotlib.figure.Figure at 0x1166743d0>"
      ]
     },
     "metadata": {},
     "output_type": "display_data"
    }
   ],
   "source": [
    "result_bg[['train-rmse-mean', 'test-rmse-mean']].plot();"
   ]
  },
  {
   "cell_type": "code",
   "execution_count": 35,
   "metadata": {},
   "outputs": [],
   "source": [
    "model_bg = xgb.train(param, dtrain_bg, len(result_bg))\n",
    "#model_bg = xgb.train(param, dtrain_bg, 59)"
   ]
  },
  {
   "cell_type": "code",
   "execution_count": 36,
   "metadata": {},
   "outputs": [
    {
     "data": {
      "image/png": "[encoded data removed]",
      "text/plain": [
       "<matplotlib.figure.Figure at 0x11663ca10>"
      ]
     },
     "metadata": {},
     "output_type": "display_data"
    }
   ],
   "source": [
    "plt.scatter(model_bg.predict(dtrain_bg), y_bg_train);"
   ]
  },
  {
   "cell_type": "markdown",
   "metadata": {},
   "source": [
    "#### Output predictions"
   ]
  },
  {
   "cell_type": "code",
   "execution_count": 37,
   "metadata": {},
   "outputs": [],
   "source": [
    "predicted_bg = model_bg.predict(dtest)\n",
    "predicted_e0 = np.expm1(model_e0.predict(dtest))"
   ]
  },
  {
   "cell_type": "code",
   "execution_count": 38,
   "metadata": {},
   "outputs": [],
   "source": [
    "predicted = pd.DataFrame({'formation_energy_ev_natom': predicted_e0,\n",
    "                          'bandgap_energy_ev': predicted_bg}) \\\n",
    "              .reset_index().rename(columns={'index': 'id'})\n",
    "predicted['id'] += 1"
   ]
  },
  {
   "cell_type": "code",
   "execution_count": 39,
   "metadata": {},
   "outputs": [
    {
     "data": {
      "text/html": [
       "<div>\n",
       "<style scoped>\n",
       "    .dataframe tbody tr th:only-of-type {\n",
       "        vertical-align: middle;\n",
       "    }\n",
       "\n",
       "    .dataframe tbody tr th {\n",
       "        vertical-align: top;\n",
       "    }\n",
       "\n",
       "    .dataframe thead th {\n",
       "        text-align: right;\n",
       "    }\n",
       "</style>\n",
       "<table border=\"1\" class=\"dataframe\">\n",
       "  <thead>\n",
       "    <tr style=\"text-align: right;\">\n",
       "      <th></th>\n",
       "      <th>id</th>\n",
       "      <th>bandgap_energy_ev</th>\n",
       "      <th>formation_energy_ev_natom</th>\n",
       "    </tr>\n",
       "  </thead>\n",
       "  <tbody>\n",
       "    <tr>\n",
       "      <th>0</th>\n",
       "      <td>1</td>\n",
       "      <td>1.576747</td>\n",
       "      <td>0.204890</td>\n",
       "    </tr>\n",
       "    <tr>\n",
       "      <th>1</th>\n",
       "      <td>2</td>\n",
       "      <td>3.748866</td>\n",
       "      <td>0.062565</td>\n",
       "    </tr>\n",
       "    <tr>\n",
       "      <th>2</th>\n",
       "      <td>3</td>\n",
       "      <td>3.375566</td>\n",
       "      <td>0.163532</td>\n",
       "    </tr>\n",
       "    <tr>\n",
       "      <th>3</th>\n",
       "      <td>4</td>\n",
       "      <td>3.028989</td>\n",
       "      <td>0.031719</td>\n",
       "    </tr>\n",
       "    <tr>\n",
       "      <th>4</th>\n",
       "      <td>5</td>\n",
       "      <td>1.586242</td>\n",
       "      <td>0.138183</td>\n",
       "    </tr>\n",
       "  </tbody>\n",
       "</table>\n",
       "</div>"
      ],
      "text/plain": [
       "   id  bandgap_energy_ev  formation_energy_ev_natom\n",
       "0   1           1.576747                   0.204890\n",
       "1   2           3.748866                   0.062565\n",
       "2   3           3.375566                   0.163532\n",
       "3   4           3.028989                   0.031719\n",
       "4   5           1.586242                   0.138183"
      ]
     },
     "execution_count": 39,
     "metadata": {},
     "output_type": "execute_result"
    }
   ],
   "source": [
    "predicted.head()"
   ]
  },
  {
   "cell_type": "code",
   "execution_count": 40,
   "metadata": {},
   "outputs": [],
   "source": [
    "err_e0 = rmsle(np.expm1(model_e0.predict(dtrain_e0)), np.expm1(y_e0_train))\n",
    "err_bg = rmsle(model_bg.predict(dtrain_bg), y_bg_train)"
   ]
  },
  {
   "cell_type": "code",
   "execution_count": 41,
   "metadata": {},
   "outputs": [
    {
     "name": "stdout",
     "output_type": "stream",
     "text": [
      "RMSLE BG: 0.0660148164688, RMSLE E0: 0.0262373719559, RMSLE AVG: 0.0461260942124\n"
     ]
    }
   ],
   "source": [
    "# Training RMSLE values\n",
    "print \"RMSLE BG: {}, RMSLE E0: {}, RMSLE AVG: {}\".format(err_bg, err_e0,\n",
    "                                                         0.5 * (err_bg + err_e0))"
   ]
  },
  {
   "cell_type": "markdown",
   "metadata": {},
   "source": [
    "#### Write to file"
   ]
  },
  {
   "cell_type": "code",
   "execution_count": 42,
   "metadata": {},
   "outputs": [],
   "source": [
    "now = dt.datetime.now().strftime(\"%Y%m%d-%H%M%S\")\n",
    "predicted.to_csv(os.path.join('output', 'xgb-ext-{}.csv'.format(now)),\n",
    "                columns=['id', 'formation_energy_ev_natom', 'bandgap_energy_ev'],\n",
    "                index=False)"
   ]
  },
  {
   "cell_type": "code",
   "execution_count": null,
   "metadata": {},
   "outputs": [],
   "source": []
  }
 ],
 "metadata": {
  "kernelspec": {
   "display_name": "Python 2",
   "language": "python",
   "name": "python2"
  },
  "language_info": {
   "codemirror_mode": {
    "name": "ipython",
    "version": 2
   },
   "file_extension": ".py",
   "mimetype": "text/x-python",
   "name": "python",
   "nbconvert_exporter": "python",
   "pygments_lexer": "ipython2",
   "version": "2.7.14"
  }
 },
 "nbformat": 4,
 "nbformat_minor": 2
}
