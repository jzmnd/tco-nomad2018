{
 "cells": [
  {
   "cell_type": "code",
   "execution_count": 1,
   "metadata": {},
   "outputs": [],
   "source": [
    "%matplotlib inline"
   ]
  },
  {
   "cell_type": "code",
   "execution_count": 2,
   "metadata": {},
   "outputs": [],
   "source": [
    "import os\n",
    "import sys"
   ]
  },
  {
   "cell_type": "code",
   "execution_count": 3,
   "metadata": {},
   "outputs": [
    {
     "name": "stdout",
     "output_type": "stream",
     "text": [
      "2.7.14 (default, Jan 17 2018, 15:13:18) \n",
      "[GCC 4.2.1 Compatible Apple LLVM 9.0.0 (clang-900.0.39.2)]\n"
     ]
    }
   ],
   "source": [
    "print sys.version"
   ]
  },
  {
   "cell_type": "code",
   "execution_count": 34,
   "metadata": {},
   "outputs": [],
   "source": [
    "import matplotlib.pyplot as plt\n",
    "import numpy as np\n",
    "import pandas as pd\n",
    "import seaborn as sns\n",
    "from tqdm import tqdm_notebook"
   ]
  },
  {
   "cell_type": "code",
   "execution_count": 5,
   "metadata": {},
   "outputs": [
    {
     "name": "stderr",
     "output_type": "stream",
     "text": [
      "/usr/local/lib/python2.7/site-packages/pymatgen/__init__.py:87: UserWarning: \n",
      "Pymatgen will drop Py2k support from v2019.1.1. Pls consult the documentation\n",
      "at https://www.pymatgen.org for more details.\n",
      "  at https://www.pymatgen.org for more details.\"\"\")\n"
     ]
    }
   ],
   "source": [
    "from utils import get_xyz_data, get_size"
   ]
  },
  {
   "cell_type": "code",
   "execution_count": 6,
   "metadata": {},
   "outputs": [],
   "source": [
    "from properties import get_element_properties\n",
    "from properties import ElementExtended"
   ]
  },
  {
   "cell_type": "code",
   "execution_count": 7,
   "metadata": {},
   "outputs": [],
   "source": [
    "DATA_DIR = './data'"
   ]
  },
  {
   "cell_type": "markdown",
   "metadata": {},
   "source": [
    "#### Get element properties from files (as check)"
   ]
  },
  {
   "cell_type": "code",
   "execution_count": 8,
   "metadata": {},
   "outputs": [],
   "source": [
    "elem_properties = get_element_properties(DATA_DIR)"
   ]
  },
  {
   "cell_type": "code",
   "execution_count": 9,
   "metadata": {},
   "outputs": [
    {
     "data": {
      "text/html": [
       "<div>\n",
       "<style scoped>\n",
       "    .dataframe tbody tr th:only-of-type {\n",
       "        vertical-align: middle;\n",
       "    }\n",
       "\n",
       "    .dataframe tbody tr th {\n",
       "        vertical-align: top;\n",
       "    }\n",
       "\n",
       "    .dataframe thead th {\n",
       "        text-align: right;\n",
       "    }\n",
       "</style>\n",
       "<table border=\"1\" class=\"dataframe\">\n",
       "  <thead>\n",
       "    <tr style=\"text-align: right;\">\n",
       "      <th></th>\n",
       "      <th>element</th>\n",
       "      <th>ea</th>\n",
       "      <th>ip</th>\n",
       "      <th>rs_max</th>\n",
       "      <th>rp_max</th>\n",
       "      <th>rd_max</th>\n",
       "    </tr>\n",
       "  </thead>\n",
       "  <tbody>\n",
       "    <tr>\n",
       "      <th>0</th>\n",
       "      <td>In</td>\n",
       "      <td>-0.312500</td>\n",
       "      <td>-5.537400</td>\n",
       "      <td>1.09</td>\n",
       "      <td>1.390000</td>\n",
       "      <td>1.940000</td>\n",
       "    </tr>\n",
       "    <tr>\n",
       "      <th>1</th>\n",
       "      <td>Ga</td>\n",
       "      <td>-0.108100</td>\n",
       "      <td>-5.818200</td>\n",
       "      <td>0.99</td>\n",
       "      <td>1.330000</td>\n",
       "      <td>2.160000</td>\n",
       "    </tr>\n",
       "    <tr>\n",
       "      <th>2</th>\n",
       "      <td>Al</td>\n",
       "      <td>-0.256300</td>\n",
       "      <td>-5.780000</td>\n",
       "      <td>1.13</td>\n",
       "      <td>1.500000</td>\n",
       "      <td>3.110000</td>\n",
       "    </tr>\n",
       "    <tr>\n",
       "      <th>3</th>\n",
       "      <td>O</td>\n",
       "      <td>-0.225633</td>\n",
       "      <td>-5.711867</td>\n",
       "      <td>1.07</td>\n",
       "      <td>1.406667</td>\n",
       "      <td>2.403333</td>\n",
       "    </tr>\n",
       "  </tbody>\n",
       "</table>\n",
       "</div>"
      ],
      "text/plain": [
       "  element        ea        ip  rs_max    rp_max    rd_max\n",
       "0      In -0.312500 -5.537400    1.09  1.390000  1.940000\n",
       "1      Ga -0.108100 -5.818200    0.99  1.330000  2.160000\n",
       "2      Al -0.256300 -5.780000    1.13  1.500000  3.110000\n",
       "3       O -0.225633 -5.711867    1.07  1.406667  2.403333"
      ]
     },
     "execution_count": 9,
     "metadata": {},
     "output_type": "execute_result"
    }
   ],
   "source": [
    "elem_properties"
   ]
  },
  {
   "cell_type": "markdown",
   "metadata": {},
   "source": [
    "#### Process all files (test and train)"
   ]
  },
  {
   "cell_type": "code",
   "execution_count": 35,
   "metadata": {},
   "outputs": [],
   "source": [
    "def process_xyz_files(batch='train'):\n",
    "    \"\"\"\n",
    "    Function to process each .xyz file and calculate average properties.\n",
    "    Returns a dataframe with these quantities for each structure id.\n",
    "    \"\"\"\n",
    "    \n",
    "    summary_result = []\n",
    "    \n",
    "    pbar = tqdm_notebook(os.listdir(os.path.join(DATA_DIR, batch)))\n",
    "    \n",
    "    for i in pbar:\n",
    "        # Load .xyz data\n",
    "        fname = os.path.join(DATA_DIR, batch, i, 'geometry.xyz')\n",
    "        pos, latvec, natoms = get_xyz_data(fname)\n",
    "        \n",
    "        # Element index\n",
    "        idx = int(i)\n",
    "        \n",
    "        # Properties including O\n",
    "        avg_mass = pos['atomic_mass'].mean()\n",
    "        \n",
    "        # Properties excluding O\n",
    "        pos = pos[pos['element'] != 'O']\n",
    "        avg_elec = pos['electroneg'].mean()\n",
    "        avg_ea = pos['ea'].mean()\n",
    "        avg_ip = pos['ip'].mean()\n",
    "        avg_rs_max = pos['rs_max'].mean()\n",
    "        avg_rp_max = pos['rp_max'].mean()\n",
    "        avg_rd_max = pos['rd_max'].mean()\n",
    "\n",
    "        o_cnt = get_size(natoms, 'O')\n",
    "\n",
    "        row = [idx, avg_elec, avg_mass, o_cnt,\n",
    "               avg_ea, avg_ip,\n",
    "               avg_rs_max, avg_rp_max, avg_rd_max]\n",
    "        \n",
    "        summary_result.append(row)\n",
    "    \n",
    "    summary_result_df = pd.DataFrame(summary_result,\n",
    "                                     columns=['id', 'avg_elec', 'avg_mass', 'o_cnt',\n",
    "                                              'avg_ea', 'avg_ip',\n",
    "                                              'avg_rs_max', 'avg_rp_max', 'avg_rd_max'])\n",
    "    return summary_result_df.sort_values('id')"
   ]
  },
  {
   "cell_type": "markdown",
   "metadata": {},
   "source": [
    "#### Process files"
   ]
  },
  {
   "cell_type": "code",
   "execution_count": 36,
   "metadata": {},
   "outputs": [
    {
     "data": {
      "application/vnd.jupyter.widget-view+json": {
       "model_id": "cc3ac4ba014b4395aa2d5ae6ca0e0850",
       "version_major": 2,
       "version_minor": 0
      },
      "text/html": [
       "<p>Failed to display Jupyter Widget of type <code>HBox</code>.</p>\n",
       "<p>\n",
       "  If you're reading this message in the Jupyter Notebook or JupyterLab Notebook, it may mean\n",
       "  that the widgets JavaScript is still loading. If this message persists, it\n",
       "  likely means that the widgets JavaScript library is either not installed or\n",
       "  not enabled. See the <a href=\"https://ipywidgets.readthedocs.io/en/stable/user_install.html\">Jupyter\n",
       "  Widgets Documentation</a> for setup instructions.\n",
       "</p>\n",
       "<p>\n",
       "  If you're reading this message in another frontend (for example, a static\n",
       "  rendering on GitHub or <a href=\"https://nbviewer.jupyter.org/\">NBViewer</a>),\n",
       "  it may mean that your frontend doesn't currently support widgets.\n",
       "</p>\n"
      ],
      "text/plain": [
       "HBox(children=(IntProgress(value=0, max=2400), HTML(value=u'')))"
      ]
     },
     "metadata": {},
     "output_type": "display_data"
    },
    {
     "name": "stdout",
     "output_type": "stream",
     "text": [
      "\n"
     ]
    },
    {
     "data": {
      "application/vnd.jupyter.widget-view+json": {
       "model_id": "c09ab7508bd34ba5908a3406ca669f19",
       "version_major": 2,
       "version_minor": 0
      },
      "text/html": [
       "<p>Failed to display Jupyter Widget of type <code>HBox</code>.</p>\n",
       "<p>\n",
       "  If you're reading this message in the Jupyter Notebook or JupyterLab Notebook, it may mean\n",
       "  that the widgets JavaScript is still loading. If this message persists, it\n",
       "  likely means that the widgets JavaScript library is either not installed or\n",
       "  not enabled. See the <a href=\"https://ipywidgets.readthedocs.io/en/stable/user_install.html\">Jupyter\n",
       "  Widgets Documentation</a> for setup instructions.\n",
       "</p>\n",
       "<p>\n",
       "  If you're reading this message in another frontend (for example, a static\n",
       "  rendering on GitHub or <a href=\"https://nbviewer.jupyter.org/\">NBViewer</a>),\n",
       "  it may mean that your frontend doesn't currently support widgets.\n",
       "</p>\n"
      ],
      "text/plain": [
       "HBox(children=(IntProgress(value=0, max=600), HTML(value=u'')))"
      ]
     },
     "metadata": {},
     "output_type": "display_data"
    },
    {
     "name": "stdout",
     "output_type": "stream",
     "text": [
      "\n"
     ]
    }
   ],
   "source": [
    "data_train = process_xyz_files(batch='train')\n",
    "data_test = process_xyz_files(batch='test')"
   ]
  },
  {
   "cell_type": "code",
   "execution_count": 18,
   "metadata": {},
   "outputs": [
    {
     "data": {
      "text/html": [
       "<div>\n",
       "<style scoped>\n",
       "    .dataframe tbody tr th:only-of-type {\n",
       "        vertical-align: middle;\n",
       "    }\n",
       "\n",
       "    .dataframe tbody tr th {\n",
       "        vertical-align: top;\n",
       "    }\n",
       "\n",
       "    .dataframe thead th {\n",
       "        text-align: right;\n",
       "    }\n",
       "</style>\n",
       "<table border=\"1\" class=\"dataframe\">\n",
       "  <thead>\n",
       "    <tr style=\"text-align: right;\">\n",
       "      <th></th>\n",
       "      <th>id</th>\n",
       "      <th>avg_elec</th>\n",
       "      <th>avg_mass</th>\n",
       "      <th>o_cnt</th>\n",
       "      <th>avg_ea</th>\n",
       "      <th>avg_ip</th>\n",
       "      <th>avg_rs_max</th>\n",
       "      <th>avg_rp_max</th>\n",
       "      <th>avg_rd_max</th>\n",
       "    </tr>\n",
       "  </thead>\n",
       "  <tbody>\n",
       "    <tr>\n",
       "      <th>1067</th>\n",
       "      <td>1</td>\n",
       "      <td>1.68500</td>\n",
       "      <td>26.803475</td>\n",
       "      <td>48</td>\n",
       "      <td>-0.200725</td>\n",
       "      <td>-5.794325</td>\n",
       "      <td>1.07750</td>\n",
       "      <td>1.436250</td>\n",
       "      <td>2.753750</td>\n",
       "    </tr>\n",
       "    <tr>\n",
       "      <th>2327</th>\n",
       "      <td>2</td>\n",
       "      <td>1.68500</td>\n",
       "      <td>26.803475</td>\n",
       "      <td>48</td>\n",
       "      <td>-0.200725</td>\n",
       "      <td>-5.794325</td>\n",
       "      <td>1.07750</td>\n",
       "      <td>1.436250</td>\n",
       "      <td>2.753750</td>\n",
       "    </tr>\n",
       "    <tr>\n",
       "      <th>2219</th>\n",
       "      <td>3</td>\n",
       "      <td>1.64750</td>\n",
       "      <td>23.597865</td>\n",
       "      <td>24</td>\n",
       "      <td>-0.228512</td>\n",
       "      <td>-5.787162</td>\n",
       "      <td>1.10375</td>\n",
       "      <td>1.468125</td>\n",
       "      <td>2.931875</td>\n",
       "    </tr>\n",
       "    <tr>\n",
       "      <th>2201</th>\n",
       "      <td>4</td>\n",
       "      <td>1.65250</td>\n",
       "      <td>29.175902</td>\n",
       "      <td>18</td>\n",
       "      <td>-0.270350</td>\n",
       "      <td>-5.719350</td>\n",
       "      <td>1.12000</td>\n",
       "      <td>1.472500</td>\n",
       "      <td>2.817500</td>\n",
       "    </tr>\n",
       "    <tr>\n",
       "      <th>2342</th>\n",
       "      <td>5</td>\n",
       "      <td>1.79875</td>\n",
       "      <td>44.253090</td>\n",
       "      <td>48</td>\n",
       "      <td>-0.184750</td>\n",
       "      <td>-5.712900</td>\n",
       "      <td>1.02750</td>\n",
       "      <td>1.352500</td>\n",
       "      <td>2.077500</td>\n",
       "    </tr>\n",
       "  </tbody>\n",
       "</table>\n",
       "</div>"
      ],
      "text/plain": [
       "      id  avg_elec   avg_mass  o_cnt    avg_ea    avg_ip  avg_rs_max  \\\n",
       "1067   1   1.68500  26.803475     48 -0.200725 -5.794325     1.07750   \n",
       "2327   2   1.68500  26.803475     48 -0.200725 -5.794325     1.07750   \n",
       "2219   3   1.64750  23.597865     24 -0.228512 -5.787162     1.10375   \n",
       "2201   4   1.65250  29.175902     18 -0.270350 -5.719350     1.12000   \n",
       "2342   5   1.79875  44.253090     48 -0.184750 -5.712900     1.02750   \n",
       "\n",
       "      avg_rp_max  avg_rd_max  \n",
       "1067    1.436250    2.753750  \n",
       "2327    1.436250    2.753750  \n",
       "2219    1.468125    2.931875  \n",
       "2201    1.472500    2.817500  \n",
       "2342    1.352500    2.077500  "
      ]
     },
     "execution_count": 18,
     "metadata": {},
     "output_type": "execute_result"
    }
   ],
   "source": [
    "data_train.head()"
   ]
  },
  {
   "cell_type": "code",
   "execution_count": 19,
   "metadata": {},
   "outputs": [
    {
     "data": {
      "text/html": [
       "<div>\n",
       "<style scoped>\n",
       "    .dataframe tbody tr th:only-of-type {\n",
       "        vertical-align: middle;\n",
       "    }\n",
       "\n",
       "    .dataframe tbody tr th {\n",
       "        vertical-align: top;\n",
       "    }\n",
       "\n",
       "    .dataframe thead th {\n",
       "        text-align: right;\n",
       "    }\n",
       "</style>\n",
       "<table border=\"1\" class=\"dataframe\">\n",
       "  <thead>\n",
       "    <tr style=\"text-align: right;\">\n",
       "      <th></th>\n",
       "      <th>id</th>\n",
       "      <th>avg_elec</th>\n",
       "      <th>avg_mass</th>\n",
       "      <th>o_cnt</th>\n",
       "      <th>avg_ea</th>\n",
       "      <th>avg_ip</th>\n",
       "      <th>avg_rs_max</th>\n",
       "      <th>avg_rp_max</th>\n",
       "      <th>avg_rd_max</th>\n",
       "    </tr>\n",
       "  </thead>\n",
       "  <tbody>\n",
       "    <tr>\n",
       "      <th>260</th>\n",
       "      <td>1</td>\n",
       "      <td>1.762188</td>\n",
       "      <td>40.483793</td>\n",
       "      <td>48</td>\n",
       "      <td>-0.206150</td>\n",
       "      <td>-5.714512</td>\n",
       "      <td>1.050625</td>\n",
       "      <td>1.382500</td>\n",
       "      <td>2.262500</td>\n",
       "    </tr>\n",
       "    <tr>\n",
       "      <th>578</th>\n",
       "      <td>2</td>\n",
       "      <td>1.660000</td>\n",
       "      <td>24.666402</td>\n",
       "      <td>48</td>\n",
       "      <td>-0.219250</td>\n",
       "      <td>-5.789550</td>\n",
       "      <td>1.095000</td>\n",
       "      <td>1.457500</td>\n",
       "      <td>2.872500</td>\n",
       "    </tr>\n",
       "    <tr>\n",
       "      <th>543</th>\n",
       "      <td>3</td>\n",
       "      <td>1.671667</td>\n",
       "      <td>29.097450</td>\n",
       "      <td>18</td>\n",
       "      <td>-0.240967</td>\n",
       "      <td>-5.745933</td>\n",
       "      <td>1.100000</td>\n",
       "      <td>1.453333</td>\n",
       "      <td>2.756667</td>\n",
       "    </tr>\n",
       "    <tr>\n",
       "      <th>539</th>\n",
       "      <td>4</td>\n",
       "      <td>1.697500</td>\n",
       "      <td>27.872011</td>\n",
       "      <td>48</td>\n",
       "      <td>-0.191462</td>\n",
       "      <td>-5.796712</td>\n",
       "      <td>1.068750</td>\n",
       "      <td>1.425625</td>\n",
       "      <td>2.694375</td>\n",
       "    </tr>\n",
       "    <tr>\n",
       "      <th>583</th>\n",
       "      <td>5</td>\n",
       "      <td>1.763125</td>\n",
       "      <td>39.920105</td>\n",
       "      <td>48</td>\n",
       "      <td>-0.199762</td>\n",
       "      <td>-5.723288</td>\n",
       "      <td>1.047500</td>\n",
       "      <td>1.380625</td>\n",
       "      <td>2.269375</td>\n",
       "    </tr>\n",
       "  </tbody>\n",
       "</table>\n",
       "</div>"
      ],
      "text/plain": [
       "     id  avg_elec   avg_mass  o_cnt    avg_ea    avg_ip  avg_rs_max  \\\n",
       "260   1  1.762188  40.483793     48 -0.206150 -5.714512    1.050625   \n",
       "578   2  1.660000  24.666402     48 -0.219250 -5.789550    1.095000   \n",
       "543   3  1.671667  29.097450     18 -0.240967 -5.745933    1.100000   \n",
       "539   4  1.697500  27.872011     48 -0.191462 -5.796712    1.068750   \n",
       "583   5  1.763125  39.920105     48 -0.199762 -5.723288    1.047500   \n",
       "\n",
       "     avg_rp_max  avg_rd_max  \n",
       "260    1.382500    2.262500  \n",
       "578    1.457500    2.872500  \n",
       "543    1.453333    2.756667  \n",
       "539    1.425625    2.694375  \n",
       "583    1.380625    2.269375  "
      ]
     },
     "execution_count": 19,
     "metadata": {},
     "output_type": "execute_result"
    }
   ],
   "source": [
    "data_test.head()"
   ]
  },
  {
   "cell_type": "markdown",
   "metadata": {},
   "source": [
    "#### Write out extended test and train data files"
   ]
  },
  {
   "cell_type": "code",
   "execution_count": 20,
   "metadata": {},
   "outputs": [],
   "source": [
    "data_train.to_csv(os.path.join(DATA_DIR, 'train_ext.csv'), index=False)"
   ]
  },
  {
   "cell_type": "code",
   "execution_count": 21,
   "metadata": {},
   "outputs": [],
   "source": [
    "data_test.to_csv(os.path.join(DATA_DIR, 'test_ext.csv'), index=False)"
   ]
  },
  {
   "cell_type": "code",
   "execution_count": null,
   "metadata": {},
   "outputs": [],
   "source": []
  }
 ],
 "metadata": {
  "kernelspec": {
   "display_name": "Python 2",
   "language": "python",
   "name": "python2"
  },
  "language_info": {
   "codemirror_mode": {
    "name": "ipython",
    "version": 2
   },
   "file_extension": ".py",
   "mimetype": "text/x-python",
   "name": "python",
   "nbconvert_exporter": "python",
   "pygments_lexer": "ipython2",
   "version": "2.7.14"
  }
 },
 "nbformat": 4,
 "nbformat_minor": 2
}
