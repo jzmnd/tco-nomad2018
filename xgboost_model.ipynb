{
 "cells": [
  {
   "cell_type": "code",
   "execution_count": 1,
   "metadata": {},
   "outputs": [],
   "source": [
    "%matplotlib inline"
   ]
  },
  {
   "cell_type": "code",
   "execution_count": 2,
   "metadata": {},
   "outputs": [],
   "source": [
    "import os\n",
    "import sys"
   ]
  },
  {
   "cell_type": "code",
   "execution_count": 3,
   "metadata": {},
   "outputs": [
    {
     "name": "stdout",
     "output_type": "stream",
     "text": [
      "2.7.14 (default, Feb 15 2018, 20:22:28) \n",
      "[GCC 4.2.1 Compatible Apple LLVM 9.0.0 (clang-900.0.39.2)]\n"
     ]
    }
   ],
   "source": [
    "print sys.version"
   ]
  },
  {
   "cell_type": "code",
   "execution_count": 4,
   "metadata": {},
   "outputs": [],
   "source": [
    "import matplotlib.pyplot as plt\n",
    "import numpy as np\n",
    "import pandas as pd\n",
    "import seaborn as sns"
   ]
  },
  {
   "cell_type": "code",
   "execution_count": 5,
   "metadata": {},
   "outputs": [
    {
     "name": "stderr",
     "output_type": "stream",
     "text": [
      "/usr/local/lib/python2.7/site-packages/pymatgen/__init__.py:87: UserWarning: \n",
      "Pymatgen will drop Py2k support from v2019.1.1. Pls consult the documentation\n",
      "at https://www.pymatgen.org for more details.\n",
      "  at https://www.pymatgen.org for more details.\"\"\")\n"
     ]
    }
   ],
   "source": [
    "import xgboost as xgb\n",
    "import pymatgen as mg\n",
    "import datetime as dt"
   ]
  },
  {
   "cell_type": "code",
   "execution_count": 6,
   "metadata": {},
   "outputs": [],
   "source": [
    "from utils import rmsle"
   ]
  },
  {
   "cell_type": "code",
   "execution_count": 7,
   "metadata": {},
   "outputs": [],
   "source": [
    "from dataload import load_features"
   ]
  },
  {
   "cell_type": "markdown",
   "metadata": {},
   "source": [
    "### Load data"
   ]
  },
  {
   "cell_type": "code",
   "execution_count": 9,
   "metadata": {},
   "outputs": [],
   "source": [
    "DATA_DIR = './data'"
   ]
  },
  {
   "cell_type": "code",
   "execution_count": 10,
   "metadata": {},
   "outputs": [],
   "source": [
    "train, test = load_features(DATA_DIR, with_ext=False, with_geo=False)"
   ]
  },
  {
   "cell_type": "markdown",
   "metadata": {},
   "source": [
    "### Build train and test data sets"
   ]
  },
  {
   "cell_type": "code",
   "execution_count": 12,
   "metadata": {},
   "outputs": [],
   "source": [
    "X_train = train.drop(['id', 'natoms', 'spacegroup',\n",
    "                      'alpha', 'beta', 'gamma',\n",
    "                      'ga', 'cellvol',\n",
    "                      'bandgap', 'E0'], axis=1)\n",
    "X_test = test.drop(['id', 'natoms', 'spacegroup',\n",
    "                    'alpha', 'beta', 'gamma',\n",
    "                    'ga', 'cellvol'], axis=1)"
   ]
  },
  {
   "cell_type": "code",
   "execution_count": 13,
   "metadata": {},
   "outputs": [],
   "source": [
    "# Use log1p of energies to correct for skew\n",
    "y_bg_train = np.log1p(train['bandgap'])\n",
    "y_e0_train = np.log1p(train['E0'])"
   ]
  },
  {
   "cell_type": "code",
   "execution_count": 14,
   "metadata": {},
   "outputs": [],
   "source": [
    "X_train = pd.concat([X_train.drop('spacegroup_natoms', axis=1),\n",
    "                    pd.get_dummies(X_train['spacegroup_natoms'])], axis=1)\n",
    "X_test = pd.concat([X_test.drop('spacegroup_natoms', axis=1),\n",
    "                    pd.get_dummies(X_test['spacegroup_natoms'])], axis=1)"
   ]
  },
  {
   "cell_type": "code",
   "execution_count": 15,
   "metadata": {},
   "outputs": [
    {
     "data": {
      "text/html": [
       "<div>\n",
       "<style scoped>\n",
       "    .dataframe tbody tr th:only-of-type {\n",
       "        vertical-align: middle;\n",
       "    }\n",
       "\n",
       "    .dataframe tbody tr th {\n",
       "        vertical-align: top;\n",
       "    }\n",
       "\n",
       "    .dataframe thead th {\n",
       "        text-align: right;\n",
       "    }\n",
       "</style>\n",
       "<table border=\"1\" class=\"dataframe\">\n",
       "  <thead>\n",
       "    <tr style=\"text-align: right;\">\n",
       "      <th></th>\n",
       "      <th>al</th>\n",
       "      <th>in</th>\n",
       "      <th>a</th>\n",
       "      <th>b</th>\n",
       "      <th>c</th>\n",
       "      <th>atom_density</th>\n",
       "      <th>alpha_r</th>\n",
       "      <th>beta_r</th>\n",
       "      <th>gamma_r</th>\n",
       "      <th>12_20</th>\n",
       "      <th>12_80</th>\n",
       "      <th>167_30</th>\n",
       "      <th>167_60</th>\n",
       "      <th>194_10</th>\n",
       "      <th>194_80</th>\n",
       "      <th>206_80</th>\n",
       "      <th>227_40</th>\n",
       "      <th>33_40</th>\n",
       "      <th>33_80</th>\n",
       "    </tr>\n",
       "  </thead>\n",
       "  <tbody>\n",
       "    <tr>\n",
       "      <th>0</th>\n",
       "      <td>0.6250</td>\n",
       "      <td>0.000</td>\n",
       "      <td>9.9523</td>\n",
       "      <td>8.5513</td>\n",
       "      <td>9.1775</td>\n",
       "      <td>0.102426</td>\n",
       "      <td>1.570842</td>\n",
       "      <td>1.570836</td>\n",
       "      <td>1.570826</td>\n",
       "      <td>0</td>\n",
       "      <td>0</td>\n",
       "      <td>0</td>\n",
       "      <td>0</td>\n",
       "      <td>0</td>\n",
       "      <td>0</td>\n",
       "      <td>0</td>\n",
       "      <td>0</td>\n",
       "      <td>0</td>\n",
       "      <td>1</td>\n",
       "    </tr>\n",
       "    <tr>\n",
       "      <th>1</th>\n",
       "      <td>0.6250</td>\n",
       "      <td>0.000</td>\n",
       "      <td>6.1840</td>\n",
       "      <td>6.1838</td>\n",
       "      <td>23.6287</td>\n",
       "      <td>0.102236</td>\n",
       "      <td>1.571121</td>\n",
       "      <td>1.570761</td>\n",
       "      <td>2.094439</td>\n",
       "      <td>0</td>\n",
       "      <td>0</td>\n",
       "      <td>0</td>\n",
       "      <td>0</td>\n",
       "      <td>0</td>\n",
       "      <td>1</td>\n",
       "      <td>0</td>\n",
       "      <td>0</td>\n",
       "      <td>0</td>\n",
       "      <td>0</td>\n",
       "    </tr>\n",
       "    <tr>\n",
       "      <th>2</th>\n",
       "      <td>0.8125</td>\n",
       "      <td>0.000</td>\n",
       "      <td>9.7510</td>\n",
       "      <td>5.6595</td>\n",
       "      <td>13.9630</td>\n",
       "      <td>0.102242</td>\n",
       "      <td>1.587705</td>\n",
       "      <td>1.590393</td>\n",
       "      <td>0.532648</td>\n",
       "      <td>0</td>\n",
       "      <td>0</td>\n",
       "      <td>0</td>\n",
       "      <td>0</td>\n",
       "      <td>0</td>\n",
       "      <td>0</td>\n",
       "      <td>0</td>\n",
       "      <td>1</td>\n",
       "      <td>0</td>\n",
       "      <td>0</td>\n",
       "    </tr>\n",
       "    <tr>\n",
       "      <th>3</th>\n",
       "      <td>0.7500</td>\n",
       "      <td>0.250</td>\n",
       "      <td>5.0036</td>\n",
       "      <td>5.0034</td>\n",
       "      <td>13.5318</td>\n",
       "      <td>0.102257</td>\n",
       "      <td>1.570601</td>\n",
       "      <td>1.571004</td>\n",
       "      <td>2.094425</td>\n",
       "      <td>0</td>\n",
       "      <td>0</td>\n",
       "      <td>1</td>\n",
       "      <td>0</td>\n",
       "      <td>0</td>\n",
       "      <td>0</td>\n",
       "      <td>0</td>\n",
       "      <td>0</td>\n",
       "      <td>0</td>\n",
       "      <td>0</td>\n",
       "    </tr>\n",
       "    <tr>\n",
       "      <th>4</th>\n",
       "      <td>0.0000</td>\n",
       "      <td>0.375</td>\n",
       "      <td>6.6614</td>\n",
       "      <td>6.6612</td>\n",
       "      <td>24.5813</td>\n",
       "      <td>0.084682</td>\n",
       "      <td>1.570727</td>\n",
       "      <td>1.570807</td>\n",
       "      <td>2.094208</td>\n",
       "      <td>0</td>\n",
       "      <td>0</td>\n",
       "      <td>0</td>\n",
       "      <td>0</td>\n",
       "      <td>0</td>\n",
       "      <td>1</td>\n",
       "      <td>0</td>\n",
       "      <td>0</td>\n",
       "      <td>0</td>\n",
       "      <td>0</td>\n",
       "    </tr>\n",
       "  </tbody>\n",
       "</table>\n",
       "</div>"
      ],
      "text/plain": [
       "       al     in       a       b        c  atom_density   alpha_r    beta_r  \\\n",
       "0  0.6250  0.000  9.9523  8.5513   9.1775      0.102426  1.570842  1.570836   \n",
       "1  0.6250  0.000  6.1840  6.1838  23.6287      0.102236  1.571121  1.570761   \n",
       "2  0.8125  0.000  9.7510  5.6595  13.9630      0.102242  1.587705  1.590393   \n",
       "3  0.7500  0.250  5.0036  5.0034  13.5318      0.102257  1.570601  1.571004   \n",
       "4  0.0000  0.375  6.6614  6.6612  24.5813      0.084682  1.570727  1.570807   \n",
       "\n",
       "    gamma_r  12_20  12_80  167_30  167_60  194_10  194_80  206_80  227_40  \\\n",
       "0  1.570826      0      0       0       0       0       0       0       0   \n",
       "1  2.094439      0      0       0       0       0       1       0       0   \n",
       "2  0.532648      0      0       0       0       0       0       0       1   \n",
       "3  2.094425      0      0       1       0       0       0       0       0   \n",
       "4  2.094208      0      0       0       0       0       1       0       0   \n",
       "\n",
       "   33_40  33_80  \n",
       "0      0      1  \n",
       "1      0      0  \n",
       "2      0      0  \n",
       "3      0      0  \n",
       "4      0      0  "
      ]
     },
     "execution_count": 15,
     "metadata": {},
     "output_type": "execute_result"
    }
   ],
   "source": [
    "X_train.head()"
   ]
  },
  {
   "cell_type": "code",
   "execution_count": 16,
   "metadata": {},
   "outputs": [],
   "source": [
    "# Create DMatrix for train and test\n",
    "dtrain_bg = xgb.DMatrix(data=X_train, label=y_bg_train)\n",
    "dtrain_e0 = xgb.DMatrix(data=X_train, label=y_e0_train)\n",
    "dtest = xgb.DMatrix(data=X_test)"
   ]
  },
  {
   "cell_type": "markdown",
   "metadata": {},
   "source": [
    "### Build the XGBoost models and train"
   ]
  },
  {
   "cell_type": "code",
   "execution_count": 17,
   "metadata": {},
   "outputs": [],
   "source": [
    "param = {'eta': 0.05,                 # Step size shrinkage used in update (Learning rate)\n",
    "         'alpha': 0.10,               # L1 regularization term on weights\n",
    "         'max_depth': 5,\n",
    "         'silent': True,\n",
    "         'objective': 'reg:linear'}\n",
    "num_round = 1000"
   ]
  },
  {
   "cell_type": "code",
   "execution_count": 18,
   "metadata": {
    "scrolled": false
   },
   "outputs": [
    {
     "name": "stdout",
     "output_type": "stream",
     "text": [
      "[0]\ttrain-rmse:0.326203+0.00108975\ttest-rmse:0.326216+0.00444432\n",
      "[1]\ttrain-rmse:0.310323+0.0010299\ttest-rmse:0.310367+0.00421252\n",
      "[2]\ttrain-rmse:0.295245+0.000967873\ttest-rmse:0.295321+0.00403452\n",
      "[3]\ttrain-rmse:0.280931+0.000915862\ttest-rmse:0.281044+0.00380521\n",
      "[4]\ttrain-rmse:0.26734+0.00086557\ttest-rmse:0.267526+0.00362725\n",
      "[5]\ttrain-rmse:0.254435+0.00082174\ttest-rmse:0.254658+0.00344647\n",
      "[6]\ttrain-rmse:0.242177+0.000772122\ttest-rmse:0.242482+0.00327838\n",
      "[7]\ttrain-rmse:0.230538+0.000722792\ttest-rmse:0.230888+0.00313875\n",
      "[8]\ttrain-rmse:0.219493+0.000686081\ttest-rmse:0.219895+0.00300223\n",
      "[9]\ttrain-rmse:0.20901+0.000637658\ttest-rmse:0.209479+0.00287885\n",
      "[10]\ttrain-rmse:0.199049+0.000599317\ttest-rmse:0.199553+0.00273866\n",
      "[11]\ttrain-rmse:0.189587+0.000560097\ttest-rmse:0.190123+0.00257433\n",
      "[12]\ttrain-rmse:0.180603+0.0005225\ttest-rmse:0.181205+0.00249061\n",
      "[13]\ttrain-rmse:0.172064+0.000495226\ttest-rmse:0.172708+0.00236717\n",
      "[14]\ttrain-rmse:0.163963+0.00047804\ttest-rmse:0.164616+0.00222514\n",
      "[15]\ttrain-rmse:0.156272+0.000440522\ttest-rmse:0.157+0.00211034\n",
      "[16]\ttrain-rmse:0.148971+0.0004176\ttest-rmse:0.149732+0.00196619\n",
      "[17]\ttrain-rmse:0.142041+0.00039197\ttest-rmse:0.142857+0.00185849\n",
      "[18]\ttrain-rmse:0.135465+0.000376732\ttest-rmse:0.136323+0.00171971\n",
      "[19]\ttrain-rmse:0.129226+0.000352712\ttest-rmse:0.130141+0.001627\n",
      "[20]\ttrain-rmse:0.123318+0.000334411\ttest-rmse:0.124297+0.001553\n",
      "[21]\ttrain-rmse:0.117712+0.000322675\ttest-rmse:0.118745+0.00147672\n",
      "[22]\ttrain-rmse:0.112396+0.000315855\ttest-rmse:0.113492+0.00139648\n",
      "[23]\ttrain-rmse:0.107357+0.000306561\ttest-rmse:0.108498+0.00133323\n",
      "[24]\ttrain-rmse:0.102594+0.000303874\ttest-rmse:0.103806+0.00128336\n",
      "[25]\ttrain-rmse:0.0980712+0.000292265\ttest-rmse:0.0993604+0.00126441\n",
      "[26]\ttrain-rmse:0.093788+0.000283509\ttest-rmse:0.095149+0.0012048\n",
      "[27]\ttrain-rmse:0.0897352+0.000288996\ttest-rmse:0.091194+0.00116515\n",
      "[28]\ttrain-rmse:0.085904+0.000285509\ttest-rmse:0.0874394+0.00114055\n",
      "[29]\ttrain-rmse:0.0822742+0.000291838\ttest-rmse:0.0838906+0.00108228\n",
      "[30]\ttrain-rmse:0.0788488+0.000298314\ttest-rmse:0.080555+0.0010803\n",
      "[31]\ttrain-rmse:0.0756056+0.000296739\ttest-rmse:0.0774076+0.00107038\n",
      "[32]\ttrain-rmse:0.0725528+0.000307025\ttest-rmse:0.0744338+0.0010603\n",
      "[33]\ttrain-rmse:0.0696638+0.000312264\ttest-rmse:0.071648+0.0010603\n",
      "[34]\ttrain-rmse:0.0669412+0.000319771\ttest-rmse:0.0690248+0.00104116\n",
      "[35]\ttrain-rmse:0.0643872+0.000336517\ttest-rmse:0.0665518+0.00103894\n",
      "[36]\ttrain-rmse:0.0619722+0.000336631\ttest-rmse:0.0642548+0.00107332\n",
      "[37]\ttrain-rmse:0.0596898+0.000355338\ttest-rmse:0.0620714+0.00110299\n",
      "[38]\ttrain-rmse:0.057541+0.000351458\ttest-rmse:0.060019+0.00115323\n",
      "[39]\ttrain-rmse:0.05552+0.000371138\ttest-rmse:0.0581032+0.00118729\n",
      "[40]\ttrain-rmse:0.0536204+0.000387898\ttest-rmse:0.056315+0.00121492\n",
      "[41]\ttrain-rmse:0.051828+0.000405452\ttest-rmse:0.0546244+0.00124404\n",
      "[42]\ttrain-rmse:0.0501504+0.000406348\ttest-rmse:0.0530536+0.00130717\n",
      "[43]\ttrain-rmse:0.0485704+0.000415254\ttest-rmse:0.0515948+0.00136154\n",
      "[44]\ttrain-rmse:0.047088+0.000427424\ttest-rmse:0.0502212+0.00138815\n",
      "[45]\ttrain-rmse:0.0457034+0.000426872\ttest-rmse:0.0489472+0.00145754\n",
      "[46]\ttrain-rmse:0.044404+0.000427324\ttest-rmse:0.0477358+0.0014987\n",
      "[47]\ttrain-rmse:0.0431956+0.000430283\ttest-rmse:0.0466536+0.00155295\n",
      "[48]\ttrain-rmse:0.0420554+0.000435029\ttest-rmse:0.045607+0.00158976\n",
      "[49]\ttrain-rmse:0.0409978+0.000444836\ttest-rmse:0.0446424+0.00162601\n",
      "[50]\ttrain-rmse:0.0399988+0.000463484\ttest-rmse:0.043738+0.00166425\n",
      "[51]\ttrain-rmse:0.0390782+0.00047412\ttest-rmse:0.0429152+0.00170857\n",
      "[52]\ttrain-rmse:0.0382136+0.00048085\ttest-rmse:0.0421634+0.00175664\n",
      "[53]\ttrain-rmse:0.0374106+0.000495063\ttest-rmse:0.0414484+0.00178908\n",
      "[54]\ttrain-rmse:0.0366592+0.000497431\ttest-rmse:0.0407896+0.00182344\n",
      "[55]\ttrain-rmse:0.035961+0.000509122\ttest-rmse:0.040193+0.00186336\n",
      "[56]\ttrain-rmse:0.0353142+0.000514531\ttest-rmse:0.0396496+0.00189843\n",
      "[57]\ttrain-rmse:0.0347132+0.000522504\ttest-rmse:0.0391358+0.00195627\n",
      "[58]\ttrain-rmse:0.0341486+0.000538066\ttest-rmse:0.038663+0.00197746\n",
      "[59]\ttrain-rmse:0.0336314+0.000547735\ttest-rmse:0.0382196+0.00199418\n",
      "[60]\ttrain-rmse:0.033147+0.000556344\ttest-rmse:0.0378256+0.0020284\n",
      "[61]\ttrain-rmse:0.032699+0.000561351\ttest-rmse:0.0374492+0.00205195\n",
      "[62]\ttrain-rmse:0.03228+0.000573436\ttest-rmse:0.0371202+0.00205804\n",
      "[63]\ttrain-rmse:0.0318884+0.000573293\ttest-rmse:0.0368088+0.00209187\n",
      "[64]\ttrain-rmse:0.0315348+0.000580227\ttest-rmse:0.036532+0.00211594\n",
      "[65]\ttrain-rmse:0.031202+0.000584563\ttest-rmse:0.0362586+0.00213674\n",
      "[66]\ttrain-rmse:0.0308978+0.000594973\ttest-rmse:0.0360176+0.00215464\n",
      "[67]\ttrain-rmse:0.0306144+0.000597755\ttest-rmse:0.0357916+0.00218737\n",
      "[68]\ttrain-rmse:0.0303324+0.000598411\ttest-rmse:0.0355896+0.00221884\n",
      "[69]\ttrain-rmse:0.0300764+0.000593945\ttest-rmse:0.0353998+0.00222281\n",
      "[70]\ttrain-rmse:0.0298356+0.000599438\ttest-rmse:0.0352236+0.00224116\n",
      "[71]\ttrain-rmse:0.0296086+0.00059953\ttest-rmse:0.0350526+0.00225812\n",
      "[72]\ttrain-rmse:0.0294036+0.00060461\ttest-rmse:0.0349142+0.00228222\n",
      "[73]\ttrain-rmse:0.029212+0.000605591\ttest-rmse:0.0347652+0.00229061\n",
      "[74]\ttrain-rmse:0.029031+0.000616128\ttest-rmse:0.0346448+0.00229935\n",
      "[75]\ttrain-rmse:0.028865+0.000612898\ttest-rmse:0.034532+0.0023109\n",
      "[76]\ttrain-rmse:0.0287114+0.000613603\ttest-rmse:0.034419+0.00233349\n",
      "[77]\ttrain-rmse:0.028565+0.00061767\ttest-rmse:0.0343134+0.00234226\n",
      "[78]\ttrain-rmse:0.0284204+0.000614095\ttest-rmse:0.0342188+0.00236264\n",
      "[79]\ttrain-rmse:0.0282952+0.000624163\ttest-rmse:0.0341362+0.00236323\n",
      "[80]\ttrain-rmse:0.02817+0.000625231\ttest-rmse:0.0340482+0.00238027\n",
      "[81]\ttrain-rmse:0.0280472+0.000623653\ttest-rmse:0.0339674+0.00239531\n",
      "[82]\ttrain-rmse:0.0279368+0.000622253\ttest-rmse:0.0339014+0.00241026\n",
      "[83]\ttrain-rmse:0.0278342+0.000624214\ttest-rmse:0.033832+0.00243346\n",
      "[84]\ttrain-rmse:0.0277364+0.000625218\ttest-rmse:0.0337758+0.00244375\n",
      "[85]\ttrain-rmse:0.0276454+0.000623605\ttest-rmse:0.0337164+0.00245399\n",
      "[86]\ttrain-rmse:0.027564+0.000628372\ttest-rmse:0.0336648+0.00244894\n",
      "[87]\ttrain-rmse:0.0274762+0.000626045\ttest-rmse:0.0336282+0.00246378\n",
      "[88]\ttrain-rmse:0.0273984+0.000629507\ttest-rmse:0.033575+0.00246042\n",
      "[89]\ttrain-rmse:0.027332+0.000627411\ttest-rmse:0.0335346+0.00246422\n",
      "[90]\ttrain-rmse:0.027249+0.000626285\ttest-rmse:0.033495+0.00247492\n",
      "[91]\ttrain-rmse:0.027183+0.000620367\ttest-rmse:0.0334548+0.00248904\n",
      "[92]\ttrain-rmse:0.0271116+0.00062276\ttest-rmse:0.0334216+0.00249175\n",
      "[93]\ttrain-rmse:0.0270508+0.000623534\ttest-rmse:0.0333994+0.00249587\n",
      "[94]\ttrain-rmse:0.026993+0.000631765\ttest-rmse:0.033371+0.00251038\n",
      "[95]\ttrain-rmse:0.0269358+0.000629392\ttest-rmse:0.0333452+0.00252098\n",
      "[96]\ttrain-rmse:0.026884+0.000630066\ttest-rmse:0.0333272+0.00253067\n",
      "[97]\ttrain-rmse:0.0268244+0.00063816\ttest-rmse:0.0333056+0.00254707\n",
      "[98]\ttrain-rmse:0.0267716+0.000638931\ttest-rmse:0.0332922+0.00255566\n",
      "[99]\ttrain-rmse:0.0267252+0.000638642\ttest-rmse:0.0332804+0.00256102\n",
      "[100]\ttrain-rmse:0.0266794+0.000638396\ttest-rmse:0.033267+0.00257342\n",
      "[101]\ttrain-rmse:0.0266344+0.000639395\ttest-rmse:0.033252+0.00257563\n",
      "[102]\ttrain-rmse:0.0265918+0.000632139\ttest-rmse:0.0332354+0.00258185\n",
      "[103]\ttrain-rmse:0.026553+0.00063159\ttest-rmse:0.0332316+0.00258537\n",
      "[104]\ttrain-rmse:0.026512+0.000630675\ttest-rmse:0.0332182+0.0025838\n",
      "[105]\ttrain-rmse:0.0264686+0.000638031\ttest-rmse:0.0332158+0.00258915\n",
      "[106]\ttrain-rmse:0.0264232+0.000632032\ttest-rmse:0.0332042+0.00259181\n",
      "[107]\ttrain-rmse:0.026384+0.000626338\ttest-rmse:0.0331988+0.00259854\n",
      "[108]\ttrain-rmse:0.0263504+0.000628777\ttest-rmse:0.0331952+0.00259869\n",
      "[109]\ttrain-rmse:0.0263108+0.000622154\ttest-rmse:0.0331894+0.00259939\n",
      "[110]\ttrain-rmse:0.0262682+0.000626317\ttest-rmse:0.0331886+0.00260416\n",
      "[111]\ttrain-rmse:0.026227+0.000626765\ttest-rmse:0.0331892+0.002611\n",
      "[112]\ttrain-rmse:0.026193+0.000618122\ttest-rmse:0.0331834+0.00261244\n",
      "[113]\ttrain-rmse:0.0261592+0.00062296\ttest-rmse:0.0331776+0.00261927\n",
      "[114]\ttrain-rmse:0.0261188+0.000619162\ttest-rmse:0.0331754+0.00261588\n",
      "[115]\ttrain-rmse:0.0260742+0.000620857\ttest-rmse:0.0331704+0.00261593\n",
      "[116]\ttrain-rmse:0.0260386+0.000619296\ttest-rmse:0.0331712+0.00261701\n",
      "[117]\ttrain-rmse:0.0260102+0.000621033\ttest-rmse:0.033164+0.00262129\n",
      "[118]\ttrain-rmse:0.0259748+0.00061937\ttest-rmse:0.033158+0.00261585\n",
      "[119]\ttrain-rmse:0.025949+0.00061539\ttest-rmse:0.033157+0.00261541\n",
      "[120]\ttrain-rmse:0.025909+0.000616987\ttest-rmse:0.033161+0.00261863\n"
     ]
    },
    {
     "name": "stdout",
     "output_type": "stream",
     "text": [
      "[121]\ttrain-rmse:0.0258828+0.000613095\ttest-rmse:0.0331578+0.0026253\n",
      "[122]\ttrain-rmse:0.025844+0.000613155\ttest-rmse:0.0331646+0.00262233\n",
      "[123]\ttrain-rmse:0.0258122+0.000604636\ttest-rmse:0.0331582+0.00262749\n"
     ]
    }
   ],
   "source": [
    "result_e0 = xgb.cv(param, dtrain_e0, num_round, nfold=5,\n",
    "                   metrics={'rmse'}, seed=42,\n",
    "                   callbacks=[xgb.callback.print_evaluation(show_stdv=True)],\n",
    "                   early_stopping_rounds=4)"
   ]
  },
  {
   "cell_type": "code",
   "execution_count": 19,
   "metadata": {},
   "outputs": [
    {
     "data": {
      "image/png": "[encoded data removed]",
      "text/plain": [
       "<matplotlib.figure.Figure at 0x110406050>"
      ]
     },
     "metadata": {},
     "output_type": "display_data"
    }
   ],
   "source": [
    "result_e0[['train-rmse-mean', 'test-rmse-mean']].plot();"
   ]
  },
  {
   "cell_type": "code",
   "execution_count": 20,
   "metadata": {},
   "outputs": [],
   "source": [
    "model_e0 = xgb.train(param, dtrain_e0, len(result_e0))"
   ]
  },
  {
   "cell_type": "code",
   "execution_count": 21,
   "metadata": {},
   "outputs": [
    {
     "data": {
      "image/png": "[encoded data removed]",
      "text/plain": [
       "<matplotlib.figure.Figure at 0x111561410>"
      ]
     },
     "metadata": {},
     "output_type": "display_data"
    }
   ],
   "source": [
    "plt.scatter(model_e0.predict(dtrain_e0), y_e0_train);"
   ]
  },
  {
   "cell_type": "code",
   "execution_count": 22,
   "metadata": {
    "scrolled": false
   },
   "outputs": [
    {
     "name": "stdout",
     "output_type": "stream",
     "text": [
      "[0]\ttrain-rmse:0.627176+0.00380922\ttest-rmse:0.627179+0.0151665\n",
      "[1]\ttrain-rmse:0.596884+0.00361874\ttest-rmse:0.597057+0.0142805\n",
      "[2]\ttrain-rmse:0.56812+0.00343786\ttest-rmse:0.568428+0.0135854\n",
      "[3]\ttrain-rmse:0.540817+0.00326277\ttest-rmse:0.54126+0.0127902\n",
      "[4]\ttrain-rmse:0.514895+0.00309088\ttest-rmse:0.515518+0.0120927\n",
      "[5]\ttrain-rmse:0.490278+0.00293562\ttest-rmse:0.491011+0.0114406\n",
      "[6]\ttrain-rmse:0.466929+0.00279694\ttest-rmse:0.467916+0.0107958\n",
      "[7]\ttrain-rmse:0.44475+0.00265136\ttest-rmse:0.445906+0.0101186\n",
      "[8]\ttrain-rmse:0.423689+0.00252973\ttest-rmse:0.425057+0.0095874\n",
      "[9]\ttrain-rmse:0.403694+0.00240633\ttest-rmse:0.405267+0.00905292\n",
      "[10]\ttrain-rmse:0.38473+0.00228871\ttest-rmse:0.386508+0.00858666\n",
      "[11]\ttrain-rmse:0.366744+0.00218557\ttest-rmse:0.368878+0.00818912\n",
      "[12]\ttrain-rmse:0.349679+0.00207518\ttest-rmse:0.351997+0.00769877\n",
      "[13]\ttrain-rmse:0.333481+0.00196993\ttest-rmse:0.336003+0.00725812\n",
      "[14]\ttrain-rmse:0.318121+0.00190449\ttest-rmse:0.320983+0.00694962\n",
      "[15]\ttrain-rmse:0.303559+0.001823\ttest-rmse:0.306744+0.0066403\n",
      "[16]\ttrain-rmse:0.289788+0.00172839\ttest-rmse:0.293247+0.00632959\n",
      "[17]\ttrain-rmse:0.27671+0.00165205\ttest-rmse:0.280505+0.00604448\n",
      "[18]\ttrain-rmse:0.264337+0.00159707\ttest-rmse:0.268435+0.00578425\n",
      "[19]\ttrain-rmse:0.252599+0.001535\ttest-rmse:0.257+0.00548667\n",
      "[20]\ttrain-rmse:0.241493+0.00147299\ttest-rmse:0.246211+0.00530147\n",
      "[21]\ttrain-rmse:0.230964+0.00141397\ttest-rmse:0.236058+0.00517328\n",
      "[22]\ttrain-rmse:0.220977+0.00137108\ttest-rmse:0.226426+0.00507843\n",
      "[23]\ttrain-rmse:0.211544+0.00131906\ttest-rmse:0.217379+0.00499551\n",
      "[24]\ttrain-rmse:0.202637+0.00129617\ttest-rmse:0.20887+0.00494217\n",
      "[25]\ttrain-rmse:0.194211+0.00127245\ttest-rmse:0.200853+0.00496914\n",
      "[26]\ttrain-rmse:0.186235+0.00125194\ttest-rmse:0.193277+0.00491254\n",
      "[27]\ttrain-rmse:0.17872+0.00122644\ttest-rmse:0.186141+0.00492327\n",
      "[28]\ttrain-rmse:0.171611+0.00121976\ttest-rmse:0.179443+0.00490399\n",
      "[29]\ttrain-rmse:0.164879+0.00119381\ttest-rmse:0.173134+0.00500872\n",
      "[30]\ttrain-rmse:0.158554+0.00118171\ttest-rmse:0.167276+0.00509939\n",
      "[31]\ttrain-rmse:0.152601+0.00115374\ttest-rmse:0.161786+0.00524587\n",
      "[32]\ttrain-rmse:0.147015+0.00114644\ttest-rmse:0.156623+0.00534191\n",
      "[33]\ttrain-rmse:0.14171+0.00112927\ttest-rmse:0.151814+0.00552188\n",
      "[34]\ttrain-rmse:0.136731+0.00117049\ttest-rmse:0.147422+0.00566346\n",
      "[35]\ttrain-rmse:0.132046+0.00116393\ttest-rmse:0.143194+0.00585884\n",
      "[36]\ttrain-rmse:0.12763+0.00115196\ttest-rmse:0.13925+0.00600719\n",
      "[37]\ttrain-rmse:0.123497+0.0011659\ttest-rmse:0.135574+0.00620049\n",
      "[38]\ttrain-rmse:0.119635+0.00120024\ttest-rmse:0.132143+0.00624933\n",
      "[39]\ttrain-rmse:0.115998+0.00119114\ttest-rmse:0.129008+0.00641375\n",
      "[40]\ttrain-rmse:0.112536+0.00125485\ttest-rmse:0.126112+0.00652443\n",
      "[41]\ttrain-rmse:0.109343+0.00129009\ttest-rmse:0.123365+0.00669409\n",
      "[42]\ttrain-rmse:0.106315+0.0013033\ttest-rmse:0.120914+0.00683083\n",
      "[43]\ttrain-rmse:0.103509+0.00133923\ttest-rmse:0.118588+0.00691135\n",
      "[44]\ttrain-rmse:0.100851+0.00133369\ttest-rmse:0.11649+0.00700027\n",
      "[45]\ttrain-rmse:0.0983772+0.00132023\ttest-rmse:0.114552+0.00711552\n",
      "[46]\ttrain-rmse:0.0960464+0.00135294\ttest-rmse:0.112726+0.00729391\n",
      "[47]\ttrain-rmse:0.0938418+0.00136823\ttest-rmse:0.110984+0.00738753\n",
      "[48]\ttrain-rmse:0.0917646+0.00137154\ttest-rmse:0.109407+0.0074792\n",
      "[49]\ttrain-rmse:0.0898264+0.00140431\ttest-rmse:0.107928+0.00760109\n",
      "[50]\ttrain-rmse:0.088069+0.00140937\ttest-rmse:0.106586+0.00771842\n",
      "[51]\ttrain-rmse:0.0863778+0.00141489\ttest-rmse:0.1054+0.00775879\n",
      "[52]\ttrain-rmse:0.0848282+0.00144498\ttest-rmse:0.104273+0.00785067\n",
      "[53]\ttrain-rmse:0.083349+0.00145071\ttest-rmse:0.103262+0.00784212\n",
      "[54]\ttrain-rmse:0.0819676+0.00148872\ttest-rmse:0.102333+0.0079014\n",
      "[55]\ttrain-rmse:0.0807014+0.00150186\ttest-rmse:0.101529+0.00798523\n",
      "[56]\ttrain-rmse:0.0795004+0.00147655\ttest-rmse:0.100755+0.00802181\n",
      "[57]\ttrain-rmse:0.0783954+0.00147203\ttest-rmse:0.1001+0.0080847\n",
      "[58]\ttrain-rmse:0.0773604+0.00150614\ttest-rmse:0.0994212+0.00815836\n",
      "[59]\ttrain-rmse:0.0763628+0.00150935\ttest-rmse:0.0988174+0.00811333\n",
      "[60]\ttrain-rmse:0.0754636+0.00150535\ttest-rmse:0.098272+0.00817977\n",
      "[61]\ttrain-rmse:0.0746056+0.00150724\ttest-rmse:0.0978306+0.0082335\n",
      "[62]\ttrain-rmse:0.0738016+0.00151929\ttest-rmse:0.0973122+0.0082171\n",
      "[63]\ttrain-rmse:0.0730296+0.00150153\ttest-rmse:0.0969102+0.00820133\n",
      "[64]\ttrain-rmse:0.0723158+0.00154482\ttest-rmse:0.0964976+0.00821341\n",
      "[65]\ttrain-rmse:0.0716452+0.00154085\ttest-rmse:0.0961826+0.00820705\n",
      "[66]\ttrain-rmse:0.0710094+0.00153813\ttest-rmse:0.0958578+0.00819112\n",
      "[67]\ttrain-rmse:0.0704138+0.00155656\ttest-rmse:0.0956076+0.00820423\n",
      "[68]\ttrain-rmse:0.0698782+0.00157529\ttest-rmse:0.0953108+0.00820992\n",
      "[69]\ttrain-rmse:0.0693602+0.00157575\ttest-rmse:0.0950476+0.00819797\n",
      "[70]\ttrain-rmse:0.0688678+0.00159507\ttest-rmse:0.0948364+0.00819089\n",
      "[71]\ttrain-rmse:0.0683974+0.0016075\ttest-rmse:0.0946074+0.00816255\n",
      "[72]\ttrain-rmse:0.0679438+0.00164815\ttest-rmse:0.0943788+0.00811826\n",
      "[73]\ttrain-rmse:0.067534+0.00166605\ttest-rmse:0.0942072+0.00809284\n",
      "[74]\ttrain-rmse:0.0671438+0.00169825\ttest-rmse:0.0940826+0.00806527\n",
      "[75]\ttrain-rmse:0.066805+0.00170056\ttest-rmse:0.0939726+0.00803264\n",
      "[76]\ttrain-rmse:0.0664464+0.00170992\ttest-rmse:0.093857+0.00802925\n",
      "[77]\ttrain-rmse:0.0661418+0.00171436\ttest-rmse:0.0937636+0.00800606\n",
      "[78]\ttrain-rmse:0.0658522+0.0017207\ttest-rmse:0.0936606+0.00798596\n",
      "[79]\ttrain-rmse:0.0655568+0.00175554\ttest-rmse:0.0935804+0.00797961\n",
      "[80]\ttrain-rmse:0.0653036+0.00174048\ttest-rmse:0.0935144+0.00793736\n",
      "[81]\ttrain-rmse:0.0650368+0.00174952\ttest-rmse:0.0934784+0.00796312\n",
      "[82]\ttrain-rmse:0.0647876+0.00176588\ttest-rmse:0.0933932+0.0079545\n",
      "[83]\ttrain-rmse:0.0645256+0.00175631\ttest-rmse:0.093304+0.00796594\n",
      "[84]\ttrain-rmse:0.0642846+0.00178159\ttest-rmse:0.0932102+0.00793591\n",
      "[85]\ttrain-rmse:0.0640382+0.00180116\ttest-rmse:0.0931464+0.00792877\n",
      "[86]\ttrain-rmse:0.063845+0.00179626\ttest-rmse:0.093071+0.00787946\n",
      "[87]\ttrain-rmse:0.0636204+0.00178767\ttest-rmse:0.0930306+0.00784866\n",
      "[88]\ttrain-rmse:0.0634216+0.00180381\ttest-rmse:0.0929782+0.0078207\n",
      "[89]\ttrain-rmse:0.0632204+0.00182418\ttest-rmse:0.0929344+0.00777457\n",
      "[90]\ttrain-rmse:0.063027+0.0018161\ttest-rmse:0.0929002+0.0077371\n",
      "[91]\ttrain-rmse:0.0628388+0.00180103\ttest-rmse:0.09286+0.00770746\n",
      "[92]\ttrain-rmse:0.0626556+0.00176739\ttest-rmse:0.092828+0.00771142\n",
      "[93]\ttrain-rmse:0.062465+0.00176741\ttest-rmse:0.092781+0.00766843\n",
      "[94]\ttrain-rmse:0.0622576+0.00176146\ttest-rmse:0.0927952+0.0076628\n",
      "[95]\ttrain-rmse:0.0620924+0.00177419\ttest-rmse:0.092758+0.00765954\n",
      "[96]\ttrain-rmse:0.0619384+0.00177375\ttest-rmse:0.0927566+0.00763263\n",
      "[97]\ttrain-rmse:0.0617762+0.00175489\ttest-rmse:0.0927502+0.00760985\n",
      "[98]\ttrain-rmse:0.0616312+0.00176393\ttest-rmse:0.092727+0.00758651\n",
      "[99]\ttrain-rmse:0.0614994+0.00175747\ttest-rmse:0.0926952+0.00756586\n",
      "[100]\ttrain-rmse:0.061314+0.00175919\ttest-rmse:0.0926908+0.00755087\n",
      "[101]\ttrain-rmse:0.0611708+0.00177126\ttest-rmse:0.0926736+0.00753261\n",
      "[102]\ttrain-rmse:0.0610382+0.00176267\ttest-rmse:0.0926514+0.00753057\n",
      "[103]\ttrain-rmse:0.0608958+0.00174738\ttest-rmse:0.092668+0.0075182\n",
      "[104]\ttrain-rmse:0.0607708+0.00172591\ttest-rmse:0.0926542+0.00752072\n",
      "[105]\ttrain-rmse:0.0606348+0.00172428\ttest-rmse:0.0926238+0.00752744\n",
      "[106]\ttrain-rmse:0.0605216+0.00169819\ttest-rmse:0.0926036+0.00752345\n",
      "[107]\ttrain-rmse:0.0604216+0.00169664\ttest-rmse:0.0925862+0.00752739\n",
      "[108]\ttrain-rmse:0.0603164+0.00168609\ttest-rmse:0.0926048+0.00750048\n",
      "[109]\ttrain-rmse:0.0601994+0.00169474\ttest-rmse:0.092607+0.00748949\n",
      "[110]\ttrain-rmse:0.0600884+0.00167914\ttest-rmse:0.0926424+0.00746332\n",
      "[111]\ttrain-rmse:0.0599778+0.0016776\ttest-rmse:0.0926514+0.0074421\n"
     ]
    }
   ],
   "source": [
    "result_bg = xgb.cv(param, dtrain_bg, num_round, nfold=5,\n",
    "                   metrics={'rmse'}, seed=42,\n",
    "                   callbacks=[xgb.callback.print_evaluation(show_stdv=True)],\n",
    "                   early_stopping_rounds=4)"
   ]
  },
  {
   "cell_type": "code",
   "execution_count": 23,
   "metadata": {},
   "outputs": [
    {
     "data": {
      "image/png": "[encoded data removed]",
      "text/plain": [
       "<matplotlib.figure.Figure at 0x109fbc210>"
      ]
     },
     "metadata": {},
     "output_type": "display_data"
    }
   ],
   "source": [
    "result_bg[['train-rmse-mean', 'test-rmse-mean']].plot();"
   ]
  },
  {
   "cell_type": "code",
   "execution_count": 24,
   "metadata": {},
   "outputs": [],
   "source": [
    "model_bg = xgb.train(param, dtrain_bg, len(result_bg))"
   ]
  },
  {
   "cell_type": "code",
   "execution_count": 25,
   "metadata": {},
   "outputs": [
    {
     "data": {
      "image/png": "[encoded data removed]",
      "text/plain": [
       "<matplotlib.figure.Figure at 0x109f9ef90>"
      ]
     },
     "metadata": {},
     "output_type": "display_data"
    }
   ],
   "source": [
    "plt.scatter(model_bg.predict(dtrain_bg), y_bg_train);"
   ]
  },
  {
   "cell_type": "markdown",
   "metadata": {},
   "source": [
    "### Output predictions"
   ]
  },
  {
   "cell_type": "code",
   "execution_count": 26,
   "metadata": {},
   "outputs": [],
   "source": [
    "predicted_bg = np.expm1(model_bg.predict(dtest))\n",
    "predicted_e0 = np.expm1(model_e0.predict(dtest))"
   ]
  },
  {
   "cell_type": "code",
   "execution_count": 27,
   "metadata": {},
   "outputs": [],
   "source": [
    "predicted = pd.DataFrame({'formation_energy_ev_natom': predicted_e0,\n",
    "                          'bandgap_energy_ev': predicted_bg}) \\\n",
    "              .reset_index().rename(columns={'index': 'id'})\n",
    "predicted['id'] += 1"
   ]
  },
  {
   "cell_type": "code",
   "execution_count": 28,
   "metadata": {},
   "outputs": [
    {
     "data": {
      "text/html": [
       "<div>\n",
       "<style scoped>\n",
       "    .dataframe tbody tr th:only-of-type {\n",
       "        vertical-align: middle;\n",
       "    }\n",
       "\n",
       "    .dataframe tbody tr th {\n",
       "        vertical-align: top;\n",
       "    }\n",
       "\n",
       "    .dataframe thead th {\n",
       "        text-align: right;\n",
       "    }\n",
       "</style>\n",
       "<table border=\"1\" class=\"dataframe\">\n",
       "  <thead>\n",
       "    <tr style=\"text-align: right;\">\n",
       "      <th></th>\n",
       "      <th>id</th>\n",
       "      <th>bandgap_energy_ev</th>\n",
       "      <th>formation_energy_ev_natom</th>\n",
       "    </tr>\n",
       "  </thead>\n",
       "  <tbody>\n",
       "    <tr>\n",
       "      <th>0</th>\n",
       "      <td>1</td>\n",
       "      <td>1.628758</td>\n",
       "      <td>0.204649</td>\n",
       "    </tr>\n",
       "    <tr>\n",
       "      <th>1</th>\n",
       "      <td>2</td>\n",
       "      <td>3.640649</td>\n",
       "      <td>0.064997</td>\n",
       "    </tr>\n",
       "    <tr>\n",
       "      <th>2</th>\n",
       "      <td>3</td>\n",
       "      <td>3.380768</td>\n",
       "      <td>0.159487</td>\n",
       "    </tr>\n",
       "    <tr>\n",
       "      <th>3</th>\n",
       "      <td>4</td>\n",
       "      <td>2.994715</td>\n",
       "      <td>0.030672</td>\n",
       "    </tr>\n",
       "    <tr>\n",
       "      <th>4</th>\n",
       "      <td>5</td>\n",
       "      <td>1.625701</td>\n",
       "      <td>0.139827</td>\n",
       "    </tr>\n",
       "  </tbody>\n",
       "</table>\n",
       "</div>"
      ],
      "text/plain": [
       "   id  bandgap_energy_ev  formation_energy_ev_natom\n",
       "0   1           1.628758                   0.204649\n",
       "1   2           3.640649                   0.064997\n",
       "2   3           3.380768                   0.159487\n",
       "3   4           2.994715                   0.030672\n",
       "4   5           1.625701                   0.139827"
      ]
     },
     "execution_count": 28,
     "metadata": {},
     "output_type": "execute_result"
    }
   ],
   "source": [
    "predicted.head()"
   ]
  },
  {
   "cell_type": "code",
   "execution_count": 29,
   "metadata": {},
   "outputs": [],
   "source": [
    "err_e0 = rmsle(np.expm1(model_e0.predict(dtrain_e0)), np.expm1(y_e0_train))\n",
    "err_bg = rmsle(np.expm1(model_bg.predict(dtrain_bg)), np.expm1(y_bg_train))"
   ]
  },
  {
   "cell_type": "code",
   "execution_count": 30,
   "metadata": {},
   "outputs": [
    {
     "name": "stdout",
     "output_type": "stream",
     "text": [
      "RMSLE BG: 0.0636890090164, RMSLE E0: 0.026646498519, RMSLE AVG: 0.0451677537677\n"
     ]
    }
   ],
   "source": [
    "# Training RMSLE values\n",
    "print \"RMSLE BG: {}, RMSLE E0: {}, RMSLE AVG: {}\".format(err_bg, err_e0,\n",
    "                                                         0.5 * (err_bg + err_e0))"
   ]
  },
  {
   "cell_type": "markdown",
   "metadata": {},
   "source": [
    "#### Write to file:"
   ]
  },
  {
   "cell_type": "code",
   "execution_count": 199,
   "metadata": {},
   "outputs": [],
   "source": [
    "now = dt.datetime.now().strftime(\"%Y%m%d-%H%M%S\")\n",
    "predicted.to_csv(os.path.join('output', 'xgb-{}.csv'.format(now)),\n",
    "                columns=['id', 'formation_energy_ev_natom', 'bandgap_energy_ev'],\n",
    "                index=False)"
   ]
  },
  {
   "cell_type": "code",
   "execution_count": null,
   "metadata": {},
   "outputs": [],
   "source": []
  }
 ],
 "metadata": {
  "kernelspec": {
   "display_name": "Python 2",
   "language": "python",
   "name": "python2"
  },
  "language_info": {
   "codemirror_mode": {
    "name": "ipython",
    "version": 2
   },
   "file_extension": ".py",
   "mimetype": "text/x-python",
   "name": "python",
   "nbconvert_exporter": "python",
   "pygments_lexer": "ipython2",
   "version": "2.7.14"
  }
 },
 "nbformat": 4,
 "nbformat_minor": 2
}
