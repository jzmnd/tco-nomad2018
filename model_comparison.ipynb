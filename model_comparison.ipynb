{
 "cells": [
  {
   "cell_type": "code",
   "execution_count": 1,
   "metadata": {},
   "outputs": [],
   "source": [
    "%matplotlib inline"
   ]
  },
  {
   "cell_type": "code",
   "execution_count": 2,
   "metadata": {},
   "outputs": [],
   "source": [
    "import os\n",
    "import sys"
   ]
  },
  {
   "cell_type": "code",
   "execution_count": 3,
   "metadata": {},
   "outputs": [
    {
     "name": "stdout",
     "output_type": "stream",
     "text": [
      "2.7.14 (default, Feb 15 2018, 20:22:28) \n",
      "[GCC 4.2.1 Compatible Apple LLVM 9.0.0 (clang-900.0.39.2)]\n"
     ]
    }
   ],
   "source": [
    "print sys.version"
   ]
  },
  {
   "cell_type": "code",
   "execution_count": 4,
   "metadata": {},
   "outputs": [],
   "source": [
    "import matplotlib.pyplot as plt\n",
    "import numpy as np\n",
    "import pandas as pd\n",
    "import seaborn as sns"
   ]
  },
  {
   "cell_type": "code",
   "execution_count": 5,
   "metadata": {},
   "outputs": [],
   "source": [
    "from xgboost import XGBRegressor\n",
    "from sklearn.pipeline import Pipeline\n",
    "from sklearn.decomposition import PCA\n",
    "from sklearn.decomposition import KernelPCA\n",
    "from sklearn.preprocessing import StandardScaler\n",
    "from sklearn.dummy import DummyRegressor"
   ]
  },
  {
   "cell_type": "code",
   "execution_count": 6,
   "metadata": {},
   "outputs": [],
   "source": [
    "from sklearn.metrics.scorer import make_scorer\n",
    "from sklearn.model_selection import cross_val_score"
   ]
  },
  {
   "cell_type": "code",
   "execution_count": 7,
   "metadata": {},
   "outputs": [
    {
     "name": "stderr",
     "output_type": "stream",
     "text": [
      "/usr/local/lib/python2.7/site-packages/pymatgen/__init__.py:87: UserWarning: \n",
      "Pymatgen will drop Py2k support from v2019.1.1. Pls consult the documentation\n",
      "at https://www.pymatgen.org for more details.\n",
      "  at https://www.pymatgen.org for more details.\"\"\")\n"
     ]
    }
   ],
   "source": [
    "from utils import rmsle, rmsle1m"
   ]
  },
  {
   "cell_type": "code",
   "execution_count": 8,
   "metadata": {},
   "outputs": [],
   "source": [
    "from dataload import load_features"
   ]
  },
  {
   "cell_type": "markdown",
   "metadata": {},
   "source": [
    "### Make RMSLE scorers"
   ]
  },
  {
   "cell_type": "code",
   "execution_count": 9,
   "metadata": {},
   "outputs": [],
   "source": [
    "rmsle_scorer = make_scorer(rmsle, greater_is_better=False)\n",
    "rmsle_scorer_1m = make_scorer(rmsle1m, greater_is_better=False)"
   ]
  },
  {
   "cell_type": "markdown",
   "metadata": {},
   "source": [
    "### Dictionary of RMSLE results"
   ]
  },
  {
   "cell_type": "code",
   "execution_count": 10,
   "metadata": {},
   "outputs": [],
   "source": [
    "rmsle_results_bg = {}\n",
    "rmsle_results_e0 = {}"
   ]
  },
  {
   "cell_type": "markdown",
   "metadata": {},
   "source": [
    "### Load basic data"
   ]
  },
  {
   "cell_type": "code",
   "execution_count": 11,
   "metadata": {},
   "outputs": [],
   "source": [
    "DATA_DIR = './data'"
   ]
  },
  {
   "cell_type": "code",
   "execution_count": 12,
   "metadata": {},
   "outputs": [],
   "source": [
    "train, test = load_features(DATA_DIR, with_ext=False, with_geo=False)"
   ]
  },
  {
   "cell_type": "markdown",
   "metadata": {},
   "source": [
    "### Build basic train and test data sets"
   ]
  },
  {
   "cell_type": "code",
   "execution_count": 13,
   "metadata": {},
   "outputs": [],
   "source": [
    "X_train = train.drop(['id', 'natoms', 'spacegroup',\n",
    "                      'alpha', 'beta', 'gamma',\n",
    "                      'ga', 'cellvol',\n",
    "                      'bandgap', 'E0'], axis=1)\n",
    "X_test = test.drop(['id', 'natoms', 'spacegroup',\n",
    "                    'alpha', 'beta', 'gamma',\n",
    "                    'ga', 'cellvol'], axis=1)"
   ]
  },
  {
   "cell_type": "code",
   "execution_count": 14,
   "metadata": {},
   "outputs": [],
   "source": [
    "# Use log1p of energies to correct for skew\n",
    "y_bg_train = train['bandgap']\n",
    "y_e0_train = np.log1p(train['E0'])"
   ]
  },
  {
   "cell_type": "code",
   "execution_count": 15,
   "metadata": {},
   "outputs": [],
   "source": [
    "# One-hot encode spacegroup_natoms\n",
    "X_train = pd.concat([X_train.drop('spacegroup_natoms', axis=1),\n",
    "                    pd.get_dummies(X_train['spacegroup_natoms'])], axis=1)\n",
    "X_test = pd.concat([X_test.drop('spacegroup_natoms', axis=1),\n",
    "                    pd.get_dummies(X_test['spacegroup_natoms'])], axis=1)"
   ]
  },
  {
   "cell_type": "markdown",
   "metadata": {},
   "source": [
    "### Test different models"
   ]
  },
  {
   "cell_type": "markdown",
   "metadata": {},
   "source": [
    "#### Output predictions (Mean model)"
   ]
  },
  {
   "cell_type": "code",
   "execution_count": 16,
   "metadata": {},
   "outputs": [
    {
     "data": {
      "text/plain": [
       "DummyRegressor(constant=None, quantile=None, strategy='mean')"
      ]
     },
     "execution_count": 16,
     "metadata": {},
     "output_type": "execute_result"
    }
   ],
   "source": [
    "est_bg = DummyRegressor(strategy='mean')\n",
    "est_e0 = DummyRegressor(strategy='mean')\n",
    "est_bg.fit(X_train, y_bg_train)\n",
    "est_e0.fit(X_train, y_e0_train)"
   ]
  },
  {
   "cell_type": "code",
   "execution_count": 17,
   "metadata": {},
   "outputs": [],
   "source": [
    "err_bg = -cross_val_score(est_bg, X_train, y_bg_train, scoring=rmsle_scorer, cv=5).mean()\n",
    "err_e0 = -cross_val_score(est_e0, X_train, y_e0_train, scoring=rmsle_scorer_1m, cv=5).mean()"
   ]
  },
  {
   "cell_type": "code",
   "execution_count": 19,
   "metadata": {},
   "outputs": [],
   "source": [
    "rmsle_results_bg['mean_model'] = err_bg\n",
    "rmsle_results_e0['mean_model'] = err_e0"
   ]
  },
  {
   "cell_type": "code",
   "execution_count": 20,
   "metadata": {},
   "outputs": [
    {
     "name": "stdout",
     "output_type": "stream",
     "text": [
      "RMSLE BG: 0.334607448934, RMSLE E0: 0.0865187157453, RMSLE AVG: 0.21056308234\n"
     ]
    }
   ],
   "source": [
    "# 5-fold CV Scores\n",
    "print \"RMSLE BG: {}, RMSLE E0: {}, RMSLE AVG: {}\".format(err_bg, err_e0,\n",
    "                                                         0.5 * (err_bg + err_e0))"
   ]
  },
  {
   "cell_type": "markdown",
   "metadata": {},
   "source": [
    "#### Output predictions (Basic model)"
   ]
  },
  {
   "cell_type": "code",
   "execution_count": 21,
   "metadata": {},
   "outputs": [],
   "source": [
    "pa_bg = {'learning_rate': 0.05,      # Step size shrinkage used in update (Learning rate)\n",
    "         'reg_alpha': 0.10,          # L1 regularization term on weights\n",
    "         'n_estimators': 120,\n",
    "         'max_depth': 5,\n",
    "         'subsample': 1,\n",
    "         'colsample_bytree': 0.90,\n",
    "         'colsample_bylevel': 0.90,\n",
    "         'silent': True,\n",
    "         'random_state': 42,\n",
    "         'objective': 'reg:linear'}\n",
    "pa_e0 = {'learning_rate': 0.05,      # Step size shrinkage used in update (Learning rate)\n",
    "         'reg_alpha': 0.10,          # L1 regularization term on weights\n",
    "         'n_estimators': 108,\n",
    "         'max_depth': 5,\n",
    "         'subsample': 1,\n",
    "         'colsample_bytree': 0.90,\n",
    "         'colsample_bylevel': 0.90,\n",
    "         'silent': True,\n",
    "         'random_state': 42,\n",
    "         'objective': 'reg:linear'}"
   ]
  },
  {
   "cell_type": "code",
   "execution_count": 22,
   "metadata": {},
   "outputs": [],
   "source": [
    "# Estimator pipeline\n",
    "est_bg = Pipeline([\n",
    "    ('xgbreg', XGBRegressor(**pa_bg)),\n",
    "])\n",
    "est_e0 = Pipeline([\n",
    "    ('xgbreg', XGBRegressor(**pa_e0)),\n",
    "])"
   ]
  },
  {
   "cell_type": "code",
   "execution_count": 23,
   "metadata": {},
   "outputs": [
    {
     "data": {
      "text/plain": [
       "Pipeline(memory=None,\n",
       "     steps=[('xgbreg', XGBRegressor(base_score=0.5, booster='gbtree', colsample_bylevel=0.9,\n",
       "       colsample_bytree=0.9, gamma=0, learning_rate=0.05, max_delta_step=0,\n",
       "       max_depth=5, min_child_weight=1, missing=None, n_estimators=120,\n",
       "       n_jobs=1, nthread=None, objective='reg:linear', random_state=42,\n",
       "       reg_alpha=0.1, reg_lambda=1, scale_pos_weight=1, seed=None,\n",
       "       silent=True, subsample=1))])"
      ]
     },
     "execution_count": 23,
     "metadata": {},
     "output_type": "execute_result"
    }
   ],
   "source": [
    "est_bg.fit(X_train, y_bg_train)"
   ]
  },
  {
   "cell_type": "code",
   "execution_count": 24,
   "metadata": {},
   "outputs": [
    {
     "data": {
      "text/plain": [
       "Pipeline(memory=None,\n",
       "     steps=[('xgbreg', XGBRegressor(base_score=0.5, booster='gbtree', colsample_bylevel=0.9,\n",
       "       colsample_bytree=0.9, gamma=0, learning_rate=0.05, max_delta_step=0,\n",
       "       max_depth=5, min_child_weight=1, missing=None, n_estimators=108,\n",
       "       n_jobs=1, nthread=None, objective='reg:linear', random_state=42,\n",
       "       reg_alpha=0.1, reg_lambda=1, scale_pos_weight=1, seed=None,\n",
       "       silent=True, subsample=1))])"
      ]
     },
     "execution_count": 24,
     "metadata": {},
     "output_type": "execute_result"
    }
   ],
   "source": [
    "est_e0.fit(X_train, y_e0_train)"
   ]
  },
  {
   "cell_type": "code",
   "execution_count": 25,
   "metadata": {},
   "outputs": [],
   "source": [
    "err_bg = -cross_val_score(est_bg, X_train, y_bg_train, scoring=rmsle_scorer, cv=5).mean()\n",
    "err_e0 = -cross_val_score(est_e0, X_train, y_e0_train, scoring=rmsle_scorer_1m, cv=5).mean()"
   ]
  },
  {
   "cell_type": "code",
   "execution_count": 26,
   "metadata": {},
   "outputs": [],
   "source": [
    "rmsle_results_bg['basic_model'] = err_bg\n",
    "rmsle_results_e0['basic_model'] = err_e0"
   ]
  },
  {
   "cell_type": "code",
   "execution_count": 27,
   "metadata": {},
   "outputs": [
    {
     "name": "stdout",
     "output_type": "stream",
     "text": [
      "RMSLE BG: 0.088773338009, RMSLE E0: 0.0332685633877, RMSLE AVG: 0.0610209506984\n"
     ]
    }
   ],
   "source": [
    "# 5-fold CV Scores\n",
    "print \"RMSLE BG: {}, RMSLE E0: {}, RMSLE AVG: {}\".format(err_bg, err_e0,\n",
    "                                                         0.5 * (err_bg + err_e0))"
   ]
  },
  {
   "cell_type": "markdown",
   "metadata": {},
   "source": [
    "### Load extra data"
   ]
  },
  {
   "cell_type": "code",
   "execution_count": 28,
   "metadata": {},
   "outputs": [],
   "source": [
    "train, test = load_features(DATA_DIR, with_ext=True, with_geo=False)"
   ]
  },
  {
   "cell_type": "markdown",
   "metadata": {},
   "source": [
    "### Build extra train and test data sets"
   ]
  },
  {
   "cell_type": "code",
   "execution_count": 29,
   "metadata": {},
   "outputs": [],
   "source": [
    "X_train = train.drop(['id', 'natoms', 'spacegroup',\n",
    "                      'alpha', 'beta', 'gamma',\n",
    "                      'ga', 'o_cnt', 'cellvol', 'o_fraction', 'avg_mass',\n",
    "                      'bandgap', 'E0'], axis=1)\n",
    "X_test = test.drop(['id', 'natoms', 'spacegroup',\n",
    "                    'alpha', 'beta', 'gamma',\n",
    "                    'ga', 'o_cnt', 'cellvol', 'o_fraction', 'avg_mass'], axis=1)"
   ]
  },
  {
   "cell_type": "code",
   "execution_count": 30,
   "metadata": {},
   "outputs": [],
   "source": [
    "# Use log1p of energies to correct for skew\n",
    "y_bg_train = train['bandgap']\n",
    "y_e0_train = np.log1p(train['E0'])"
   ]
  },
  {
   "cell_type": "code",
   "execution_count": 31,
   "metadata": {},
   "outputs": [],
   "source": [
    "# One-hot encode spacegroup_natoms\n",
    "X_train = pd.concat([X_train.drop('spacegroup_natoms', axis=1),\n",
    "                    pd.get_dummies(X_train['spacegroup_natoms'])], axis=1)\n",
    "X_test = pd.concat([X_test.drop('spacegroup_natoms', axis=1),\n",
    "                    pd.get_dummies(X_test['spacegroup_natoms'])], axis=1)"
   ]
  },
  {
   "cell_type": "markdown",
   "metadata": {},
   "source": [
    "### Test different models"
   ]
  },
  {
   "cell_type": "markdown",
   "metadata": {},
   "source": [
    "#### Output predictions (With ext model)"
   ]
  },
  {
   "cell_type": "code",
   "execution_count": 32,
   "metadata": {},
   "outputs": [],
   "source": [
    "pa_bg = {'learning_rate': 0.05,      # Step size shrinkage used in update (Learning rate)\n",
    "         'reg_alpha': 0.01,          # L1 regularization term on weights\n",
    "         'n_estimators': 290,\n",
    "         'max_depth': 3,\n",
    "         'subsample': 1,\n",
    "         'colsample_bytree': 0.90,\n",
    "         'colsample_bylevel': 0.90,\n",
    "         'silent': True,\n",
    "         'random_state': 42,\n",
    "         'objective': 'reg:linear'}\n",
    "pa_e0 = {'learning_rate': 0.05,      # Step size shrinkage used in update (Learning rate)\n",
    "         'reg_alpha': 0.10,          # L1 regularization term on weights\n",
    "         'n_estimators': 150,\n",
    "         'max_depth': 4,\n",
    "         'subsample': 1,\n",
    "         'colsample_bytree': 0.90,\n",
    "         'colsample_bylevel': 0.90,\n",
    "         'silent': True,\n",
    "         'random_state': 42,\n",
    "         'objective': 'reg:linear'}"
   ]
  },
  {
   "cell_type": "code",
   "execution_count": 33,
   "metadata": {},
   "outputs": [],
   "source": [
    "# Estimator pipeline\n",
    "est_bg = Pipeline([\n",
    "    ('scaler', StandardScaler()),\n",
    "    ('xgbreg', XGBRegressor(**pa_bg)),\n",
    "])\n",
    "est_e0 = Pipeline([\n",
    "    ('scaler', StandardScaler()),\n",
    "    ('xgbreg', XGBRegressor(**pa_e0)),\n",
    "])"
   ]
  },
  {
   "cell_type": "code",
   "execution_count": 34,
   "metadata": {},
   "outputs": [
    {
     "data": {
      "text/plain": [
       "Pipeline(memory=None,\n",
       "     steps=[('scaler', StandardScaler(copy=True, with_mean=True, with_std=True)), ('xgbreg', XGBRegressor(base_score=0.5, booster='gbtree', colsample_bylevel=0.9,\n",
       "       colsample_bytree=0.9, gamma=0, learning_rate=0.05, max_delta_step=0,\n",
       "       max_depth=3, min_child_weight=1, missing=None, n_estimators=290,\n",
       "       n_jobs=1, nthread=None, objective='reg:linear', random_state=42,\n",
       "       reg_alpha=0.01, reg_lambda=1, scale_pos_weight=1, seed=None,\n",
       "       silent=True, subsample=1))])"
      ]
     },
     "execution_count": 34,
     "metadata": {},
     "output_type": "execute_result"
    }
   ],
   "source": [
    "est_bg.fit(X_train, y_bg_train)"
   ]
  },
  {
   "cell_type": "code",
   "execution_count": 35,
   "metadata": {},
   "outputs": [
    {
     "data": {
      "text/plain": [
       "Pipeline(memory=None,\n",
       "     steps=[('scaler', StandardScaler(copy=True, with_mean=True, with_std=True)), ('xgbreg', XGBRegressor(base_score=0.5, booster='gbtree', colsample_bylevel=0.9,\n",
       "       colsample_bytree=0.9, gamma=0, learning_rate=0.05, max_delta_step=0,\n",
       "       max_depth=4, min_child_weight=1, missing=None, n_estimators=150,\n",
       "       n_jobs=1, nthread=None, objective='reg:linear', random_state=42,\n",
       "       reg_alpha=0.1, reg_lambda=1, scale_pos_weight=1, seed=None,\n",
       "       silent=True, subsample=1))])"
      ]
     },
     "execution_count": 35,
     "metadata": {},
     "output_type": "execute_result"
    }
   ],
   "source": [
    "est_e0.fit(X_train, y_e0_train)"
   ]
  },
  {
   "cell_type": "code",
   "execution_count": 36,
   "metadata": {},
   "outputs": [],
   "source": [
    "err_bg = -cross_val_score(est_bg, X_train, y_bg_train, scoring=rmsle_scorer, cv=5).mean()\n",
    "err_e0 = -cross_val_score(est_e0, X_train, y_e0_train, scoring=rmsle_scorer_1m, cv=5).mean()"
   ]
  },
  {
   "cell_type": "code",
   "execution_count": 37,
   "metadata": {},
   "outputs": [],
   "source": [
    "rmsle_results_bg['with_ext_model'] = err_bg\n",
    "rmsle_results_e0['with_ext_model'] = err_e0"
   ]
  },
  {
   "cell_type": "code",
   "execution_count": 38,
   "metadata": {},
   "outputs": [
    {
     "name": "stdout",
     "output_type": "stream",
     "text": [
      "RMSLE BG: 0.087336312961, RMSLE E0: 0.0328474454784, RMSLE AVG: 0.0600918792197\n"
     ]
    }
   ],
   "source": [
    "# 5-fold CV Scores\n",
    "print \"RMSLE BG: {}, RMSLE E0: {}, RMSLE AVG: {}\".format(err_bg, err_e0,\n",
    "                                                         0.5 * (err_bg + err_e0))"
   ]
  },
  {
   "cell_type": "markdown",
   "metadata": {},
   "source": [
    "### Load extra data and geo data"
   ]
  },
  {
   "cell_type": "code",
   "execution_count": 39,
   "metadata": {},
   "outputs": [],
   "source": [
    "train, test = load_features(DATA_DIR, with_ext=True, with_geo=True)"
   ]
  },
  {
   "cell_type": "markdown",
   "metadata": {},
   "source": [
    "### Build extra and geo train and test data sets"
   ]
  },
  {
   "cell_type": "code",
   "execution_count": 40,
   "metadata": {},
   "outputs": [],
   "source": [
    "X_train = train.drop(['id', 'natoms', 'spacegroup',\n",
    "                      'alpha', 'beta', 'gamma',\n",
    "                      'ga', 'o_cnt', 'cellvol', 'o_fraction', 'avg_mass',\n",
    "                      'bandgap', 'E0'], axis=1)\n",
    "X_test = test.drop(['id', 'natoms', 'spacegroup',\n",
    "                    'alpha', 'beta', 'gamma',\n",
    "                    'ga', 'o_cnt', 'cellvol', 'o_fraction', 'avg_mass'], axis=1)"
   ]
  },
  {
   "cell_type": "code",
   "execution_count": 41,
   "metadata": {},
   "outputs": [],
   "source": [
    "# Use log1p of energies to correct for skew\n",
    "y_bg_train = train['bandgap']\n",
    "y_e0_train = np.log1p(train['E0'])"
   ]
  },
  {
   "cell_type": "code",
   "execution_count": 42,
   "metadata": {},
   "outputs": [],
   "source": [
    "# One-hot encode spacegroup_natoms\n",
    "X_train = pd.concat([X_train.drop('spacegroup_natoms', axis=1),\n",
    "                    pd.get_dummies(X_train['spacegroup_natoms'])], axis=1)\n",
    "X_test = pd.concat([X_test.drop('spacegroup_natoms', axis=1),\n",
    "                    pd.get_dummies(X_test['spacegroup_natoms'])], axis=1)"
   ]
  },
  {
   "cell_type": "markdown",
   "metadata": {},
   "source": [
    "### Test different models"
   ]
  },
  {
   "cell_type": "markdown",
   "metadata": {},
   "source": [
    "#### Output predictions (With ext and geo model, no PCA)"
   ]
  },
  {
   "cell_type": "code",
   "execution_count": 43,
   "metadata": {},
   "outputs": [],
   "source": [
    "pa_bg = {'learning_rate': 0.02,      # Step size shrinkage used in update (Learning rate)\n",
    "         'reg_alpha': 0.05,          # L1 regularization term on weights\n",
    "         'n_estimators': 600,\n",
    "         'max_depth': 3,\n",
    "         'subsample': 1,\n",
    "         'colsample_bytree': 0.90,\n",
    "         'colsample_bylevel': 0.90,\n",
    "         'silent': True,\n",
    "         'random_state': 42,\n",
    "         'objective': 'reg:linear'}\n",
    "pa_e0 = {'learning_rate': 0.05,      # Step size shrinkage used in update (Learning rate)\n",
    "         'reg_alpha': 0.10,          # L1 regularization term on weights\n",
    "         'n_estimators': 500,\n",
    "         'max_depth': 4,\n",
    "         'subsample': 1,\n",
    "         'colsample_bytree': 0.90,\n",
    "         'colsample_bylevel': 0.90,\n",
    "         'silent': True,\n",
    "         'random_state': 42,\n",
    "         'objective': 'reg:linear'}"
   ]
  },
  {
   "cell_type": "code",
   "execution_count": 44,
   "metadata": {},
   "outputs": [],
   "source": [
    "# Estimator pipeline\n",
    "est_bg = Pipeline([\n",
    "    ('scaler', StandardScaler()),\n",
    "    ('xgbreg', XGBRegressor(**pa_bg)),\n",
    "])\n",
    "est_e0 = Pipeline([\n",
    "    ('scaler', StandardScaler()),\n",
    "    ('xgbreg', XGBRegressor(**pa_e0)),\n",
    "])"
   ]
  },
  {
   "cell_type": "code",
   "execution_count": 45,
   "metadata": {},
   "outputs": [
    {
     "data": {
      "text/plain": [
       "Pipeline(memory=None,\n",
       "     steps=[('scaler', StandardScaler(copy=True, with_mean=True, with_std=True)), ('xgbreg', XGBRegressor(base_score=0.5, booster='gbtree', colsample_bylevel=0.9,\n",
       "       colsample_bytree=0.9, gamma=0, learning_rate=0.02, max_delta_step=0,\n",
       "       max_depth=3, min_child_weight=1, missing=None, n_estimators=600,\n",
       "       n_jobs=1, nthread=None, objective='reg:linear', random_state=42,\n",
       "       reg_alpha=0.05, reg_lambda=1, scale_pos_weight=1, seed=None,\n",
       "       silent=True, subsample=1))])"
      ]
     },
     "execution_count": 45,
     "metadata": {},
     "output_type": "execute_result"
    }
   ],
   "source": [
    "est_bg.fit(X_train, y_bg_train)"
   ]
  },
  {
   "cell_type": "code",
   "execution_count": 46,
   "metadata": {},
   "outputs": [
    {
     "data": {
      "text/plain": [
       "Pipeline(memory=None,\n",
       "     steps=[('scaler', StandardScaler(copy=True, with_mean=True, with_std=True)), ('xgbreg', XGBRegressor(base_score=0.5, booster='gbtree', colsample_bylevel=0.9,\n",
       "       colsample_bytree=0.9, gamma=0, learning_rate=0.05, max_delta_step=0,\n",
       "       max_depth=4, min_child_weight=1, missing=None, n_estimators=500,\n",
       "       n_jobs=1, nthread=None, objective='reg:linear', random_state=42,\n",
       "       reg_alpha=0.1, reg_lambda=1, scale_pos_weight=1, seed=None,\n",
       "       silent=True, subsample=1))])"
      ]
     },
     "execution_count": 46,
     "metadata": {},
     "output_type": "execute_result"
    }
   ],
   "source": [
    "est_e0.fit(X_train, y_e0_train)"
   ]
  },
  {
   "cell_type": "code",
   "execution_count": 47,
   "metadata": {},
   "outputs": [],
   "source": [
    "err_bg = -cross_val_score(est_bg, X_train, y_bg_train, scoring=rmsle_scorer, cv=5).mean()\n",
    "err_e0 = -cross_val_score(est_e0, X_train, y_e0_train, scoring=rmsle_scorer_1m, cv=5).mean()"
   ]
  },
  {
   "cell_type": "code",
   "execution_count": 48,
   "metadata": {},
   "outputs": [],
   "source": [
    "rmsle_results_bg['with_ext_geo_model'] = err_bg\n",
    "rmsle_results_e0['with_ext_geo_model'] = err_e0"
   ]
  },
  {
   "cell_type": "code",
   "execution_count": 49,
   "metadata": {},
   "outputs": [
    {
     "name": "stdout",
     "output_type": "stream",
     "text": [
      "RMSLE BG: 0.0873208862721, RMSLE E0: 0.0286716670854, RMSLE AVG: 0.0579962766787\n"
     ]
    }
   ],
   "source": [
    "# 5-fold CV Scores\n",
    "print \"RMSLE BG: {}, RMSLE E0: {}, RMSLE AVG: {}\".format(err_bg, err_e0,\n",
    "                                                         0.5 * (err_bg + err_e0))"
   ]
  },
  {
   "cell_type": "markdown",
   "metadata": {},
   "source": [
    "#### Output predictions (With ext and geo model, with PCA)"
   ]
  },
  {
   "cell_type": "code",
   "execution_count": 50,
   "metadata": {},
   "outputs": [],
   "source": [
    "pa_bg = {'learning_rate': 0.05,      # Step size shrinkage used in update (Learning rate)\n",
    "         'reg_alpha': 0.05,          # L1 regularization term on weights\n",
    "         'n_estimators': 700,\n",
    "         'max_depth': 3,\n",
    "         'subsample': 1,\n",
    "         'colsample_bytree': 0.90,\n",
    "         'colsample_bylevel': 0.90,\n",
    "         'silent': True,\n",
    "         'random_state': 42,\n",
    "         'objective': 'reg:linear'}\n",
    "pa_e0 = {'learning_rate': 0.05,      # Step size shrinkage used in update (Learning rate)\n",
    "         'reg_alpha': 0.10,          # L1 regularization term on weights\n",
    "         'n_estimators': 800,\n",
    "         'max_depth': 4,\n",
    "         'subsample': 1,\n",
    "         'colsample_bytree': 0.90,\n",
    "         'colsample_bylevel': 0.90,\n",
    "         'silent': True,\n",
    "         'random_state': 42,\n",
    "         'objective': 'reg:linear'}"
   ]
  },
  {
   "cell_type": "code",
   "execution_count": 51,
   "metadata": {},
   "outputs": [],
   "source": [
    "# Estimator pipeline\n",
    "est_bg = Pipeline([\n",
    "    ('scaler', StandardScaler()),\n",
    "    ('pca', PCA(n_components=32, random_state=42)),\n",
    "    ('xgbreg', XGBRegressor(**pa_bg)),\n",
    "])\n",
    "est_e0 = Pipeline([\n",
    "    ('scaler', StandardScaler()),\n",
    "    ('pca', PCA(n_components=58, random_state=42)),\n",
    "    ('xgbreg', XGBRegressor(**pa_e0)),\n",
    "])"
   ]
  },
  {
   "cell_type": "code",
   "execution_count": 52,
   "metadata": {},
   "outputs": [
    {
     "data": {
      "text/plain": [
       "Pipeline(memory=None,\n",
       "     steps=[('scaler', StandardScaler(copy=True, with_mean=True, with_std=True)), ('pca', PCA(copy=True, iterated_power='auto', n_components=32, random_state=42,\n",
       "  svd_solver='auto', tol=0.0, whiten=False)), ('xgbreg', XGBRegressor(base_score=0.5, booster='gbtree', colsample_bylevel=0.9,\n",
       "       colsample...     reg_alpha=0.05, reg_lambda=1, scale_pos_weight=1, seed=None,\n",
       "       silent=True, subsample=1))])"
      ]
     },
     "execution_count": 52,
     "metadata": {},
     "output_type": "execute_result"
    }
   ],
   "source": [
    "est_bg.fit(X_train, y_bg_train)"
   ]
  },
  {
   "cell_type": "code",
   "execution_count": 53,
   "metadata": {},
   "outputs": [
    {
     "data": {
      "text/plain": [
       "Pipeline(memory=None,\n",
       "     steps=[('scaler', StandardScaler(copy=True, with_mean=True, with_std=True)), ('pca', PCA(copy=True, iterated_power='auto', n_components=58, random_state=42,\n",
       "  svd_solver='auto', tol=0.0, whiten=False)), ('xgbreg', XGBRegressor(base_score=0.5, booster='gbtree', colsample_bylevel=0.9,\n",
       "       colsample...      reg_alpha=0.1, reg_lambda=1, scale_pos_weight=1, seed=None,\n",
       "       silent=True, subsample=1))])"
      ]
     },
     "execution_count": 53,
     "metadata": {},
     "output_type": "execute_result"
    }
   ],
   "source": [
    "est_e0.fit(X_train, y_e0_train)"
   ]
  },
  {
   "cell_type": "code",
   "execution_count": 54,
   "metadata": {},
   "outputs": [],
   "source": [
    "err_bg = -cross_val_score(est_bg, X_train, y_bg_train, scoring=rmsle_scorer, cv=5).mean()\n",
    "err_e0 = -cross_val_score(est_e0, X_train, y_e0_train, scoring=rmsle_scorer_1m, cv=5).mean()"
   ]
  },
  {
   "cell_type": "code",
   "execution_count": 55,
   "metadata": {},
   "outputs": [],
   "source": [
    "rmsle_results_bg['with_ext_geo_pca_model'] = err_bg\n",
    "rmsle_results_e0['with_ext_geo_pca_model'] = err_e0"
   ]
  },
  {
   "cell_type": "code",
   "execution_count": 56,
   "metadata": {},
   "outputs": [
    {
     "name": "stdout",
     "output_type": "stream",
     "text": [
      "RMSLE BG: 0.0998628063497, RMSLE E0: 0.0339059468051, RMSLE AVG: 0.0668843765774\n"
     ]
    }
   ],
   "source": [
    "# 5-fold CV Scores\n",
    "print \"RMSLE BG: {}, RMSLE E0: {}, RMSLE AVG: {}\".format(err_bg, err_e0,\n",
    "                                                         0.5 * (err_bg + err_e0))"
   ]
  },
  {
   "cell_type": "markdown",
   "metadata": {},
   "source": [
    "#### Output predictions (With ext and geo model, with Kernal PCA)"
   ]
  },
  {
   "cell_type": "code",
   "execution_count": 57,
   "metadata": {},
   "outputs": [],
   "source": [
    "pa_bg = {'learning_rate': 0.05,      # Step size shrinkage used in update (Learning rate)\n",
    "         'reg_alpha': 0.05,          # L1 regularization term on weights\n",
    "         'n_estimators': 700,\n",
    "         'max_depth': 3,\n",
    "         'subsample': 1,\n",
    "         'colsample_bytree': 0.90,\n",
    "         'colsample_bylevel': 0.90,\n",
    "         'silent': True,\n",
    "         'random_state': 42,\n",
    "         'objective': 'reg:linear'}\n",
    "pa_e0 = {'learning_rate': 0.05,      # Step size shrinkage used in update (Learning rate)\n",
    "         'reg_alpha': 0.10,          # L1 regularization term on weights\n",
    "         'n_estimators': 800,\n",
    "         'max_depth': 4,\n",
    "         'subsample': 1,\n",
    "         'colsample_bytree': 0.90,\n",
    "         'colsample_bylevel': 0.90,\n",
    "         'silent': True,\n",
    "         'random_state': 42,\n",
    "         'objective': 'reg:linear'}"
   ]
  },
  {
   "cell_type": "code",
   "execution_count": 58,
   "metadata": {},
   "outputs": [],
   "source": [
    "# Estimator pipeline\n",
    "est_bg = Pipeline([\n",
    "    ('scaler', StandardScaler()),\n",
    "    ('kpca', KernelPCA(kernel='poly', fit_inverse_transform=True, n_components=32, random_state=42)),\n",
    "    ('xgbreg', XGBRegressor(**pa_bg)),\n",
    "])\n",
    "est_e0 = Pipeline([\n",
    "    ('scaler', StandardScaler()),\n",
    "    ('kpca', KernelPCA(kernel='poly', fit_inverse_transform=True, n_components=58, random_state=42)),\n",
    "    ('xgbreg', XGBRegressor(**pa_e0)),\n",
    "])"
   ]
  },
  {
   "cell_type": "code",
   "execution_count": 59,
   "metadata": {},
   "outputs": [
    {
     "data": {
      "text/plain": [
       "Pipeline(memory=None,\n",
       "     steps=[('scaler', StandardScaler(copy=True, with_mean=True, with_std=True)), ('kpca', KernelPCA(alpha=1.0, coef0=1, copy_X=True, degree=3, eigen_solver='auto',\n",
       "     fit_inverse_transform=True, gamma=None, kernel='poly',\n",
       "     kernel_params=None, max_iter=None, n_components=32, n_jobs=1,\n",
       "     random_s...     reg_alpha=0.05, reg_lambda=1, scale_pos_weight=1, seed=None,\n",
       "       silent=True, subsample=1))])"
      ]
     },
     "execution_count": 59,
     "metadata": {},
     "output_type": "execute_result"
    }
   ],
   "source": [
    "est_bg.fit(X_train, y_bg_train)"
   ]
  },
  {
   "cell_type": "code",
   "execution_count": 60,
   "metadata": {},
   "outputs": [
    {
     "data": {
      "text/plain": [
       "Pipeline(memory=None,\n",
       "     steps=[('scaler', StandardScaler(copy=True, with_mean=True, with_std=True)), ('kpca', KernelPCA(alpha=1.0, coef0=1, copy_X=True, degree=3, eigen_solver='auto',\n",
       "     fit_inverse_transform=True, gamma=None, kernel='poly',\n",
       "     kernel_params=None, max_iter=None, n_components=58, n_jobs=1,\n",
       "     random_s...      reg_alpha=0.1, reg_lambda=1, scale_pos_weight=1, seed=None,\n",
       "       silent=True, subsample=1))])"
      ]
     },
     "execution_count": 60,
     "metadata": {},
     "output_type": "execute_result"
    }
   ],
   "source": [
    "est_e0.fit(X_train, y_e0_train)"
   ]
  },
  {
   "cell_type": "code",
   "execution_count": 61,
   "metadata": {},
   "outputs": [],
   "source": [
    "err_bg = -cross_val_score(est_bg, X_train, y_bg_train, scoring=rmsle_scorer, cv=5).mean()\n",
    "err_e0 = -cross_val_score(est_e0, X_train, y_e0_train, scoring=rmsle_scorer_1m, cv=5).mean()"
   ]
  },
  {
   "cell_type": "code",
   "execution_count": 62,
   "metadata": {},
   "outputs": [
    {
     "name": "stdout",
     "output_type": "stream",
     "text": [
      "RMSLE BG: 0.104818336766, RMSLE E0: 0.0368459313898, RMSLE AVG: 0.070832134078\n"
     ]
    }
   ],
   "source": [
    "# 5-fold CV Scores\n",
    "print \"RMSLE BG: {}, RMSLE E0: {}, RMSLE AVG: {}\".format(err_bg, err_e0,\n",
    "                                                         0.5 * (err_bg + err_e0))"
   ]
  },
  {
   "cell_type": "markdown",
   "metadata": {},
   "source": [
    "### Plotting results"
   ]
  },
  {
   "cell_type": "code",
   "execution_count": 150,
   "metadata": {},
   "outputs": [],
   "source": [
    "models = ['with_ext_geo_pca_model', 'with_ext_geo_model', 'with_ext_model', 'basic_model', 'mean_model']"
   ]
  },
  {
   "cell_type": "code",
   "execution_count": 154,
   "metadata": {},
   "outputs": [],
   "source": [
    "rmsle_bg = [rmsle_results_bg[i] for i in models]\n",
    "rmsle_e0 = [rmsle_results_e0[i] for i in models]"
   ]
  },
  {
   "cell_type": "code",
   "execution_count": 155,
   "metadata": {},
   "outputs": [],
   "source": [
    "df = pd.DataFrame(map(list, zip(*[models, rmsle_bg, rmsle_e0])), columns=['model', 'bandgap', 'E0'])"
   ]
  },
  {
   "cell_type": "code",
   "execution_count": 167,
   "metadata": {},
   "outputs": [
    {
     "data": {
      "image/png": "[encoded data removed]",
      "text/plain": [
       "<matplotlib.figure.Figure at 0x10ca44dd0>"
      ]
     },
     "metadata": {},
     "output_type": "display_data"
    }
   ],
   "source": [
    "ax = df.plot.barh(x='model',\n",
    "             figsize=(8, 7), \n",
    "             xlim=[0.017, 0.103],\n",
    "             legend=False)\n",
    "plt.xlabel('RMSLE', fontsize=14)\n",
    "plt.ylabel('Model', fontsize=14)\n",
    "for i in range(len(df)):\n",
    "    ax.text(df.E0.iloc[i] - 0.01,\n",
    "            i + 0.075, str(round(df.E0.iloc[i], 5)),\n",
    "            color='white', fontweight='bold')\n",
    "    if df.bandgap.iloc[i] - 0.01 < 0.105:\n",
    "        ax.text(df.bandgap.iloc[i] - 0.01,\n",
    "                i-0.175, str(round(df.bandgap.iloc[i], 5)),\n",
    "                color='white', fontweight='bold')\n",
    "    else:\n",
    "        ax.text(0.105,\n",
    "                i-0.175, str(round(df.bandgap.iloc[i], 5)),\n",
    "                color='black', fontweight='bold')"
   ]
  },
  {
   "cell_type": "code",
   "execution_count": null,
   "metadata": {},
   "outputs": [],
   "source": []
  }
 ],
 "metadata": {
  "kernelspec": {
   "display_name": "Python 2",
   "language": "python",
   "name": "python2"
  },
  "varInspector": {
   "cols": {
    "lenName": 16,
    "lenType": 16,
    "lenVar": 40
   },
   "kernels_config": {
    "python": {
     "delete_cmd_postfix": "",
     "delete_cmd_prefix": "del ",
     "library": "var_list.py",
     "varRefreshCmd": "print(var_dic_list())"
    },
    "r": {
     "delete_cmd_postfix": ") ",
     "delete_cmd_prefix": "rm(",
     "library": "var_list.r",
     "varRefreshCmd": "cat(var_dic_list()) "
    }
   },
   "position": {
    "height": "318px",
    "left": "1069px",
    "right": "20px",
    "top": "120px",
    "width": "354px"
   },
   "types_to_exclude": [
    "module",
    "function",
    "builtin_function_or_method",
    "instance",
    "_Feature"
   ],
   "window_display": false
  }
 },
 "nbformat": 4,
 "nbformat_minor": 2
}
