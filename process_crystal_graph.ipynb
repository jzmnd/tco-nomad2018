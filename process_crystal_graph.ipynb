{
 "cells": [
  {
   "cell_type": "code",
   "execution_count": 1,
   "metadata": {},
   "outputs": [],
   "source": [
    "%matplotlib inline"
   ]
  },
  {
   "cell_type": "code",
   "execution_count": 2,
   "metadata": {},
   "outputs": [],
   "source": [
    "import os\n",
    "import sys"
   ]
  },
  {
   "cell_type": "code",
   "execution_count": 3,
   "metadata": {},
   "outputs": [
    {
     "name": "stdout",
     "output_type": "stream",
     "text": [
      "2.7.14 (default, Jan 17 2018, 15:13:18) \n",
      "[GCC 4.2.1 Compatible Apple LLVM 9.0.0 (clang-900.0.39.2)]\n"
     ]
    }
   ],
   "source": [
    "print sys.version"
   ]
  },
  {
   "cell_type": "code",
   "execution_count": 4,
   "metadata": {},
   "outputs": [],
   "source": [
    "import matplotlib.pyplot as plt\n",
    "import numpy as np\n",
    "import pandas as pd\n",
    "import seaborn as sns\n",
    "import networkx as nx\n",
    "from tqdm import tqdm_notebook"
   ]
  },
  {
   "cell_type": "code",
   "execution_count": 5,
   "metadata": {},
   "outputs": [],
   "source": [
    "from cgnode2vec import GraphNV"
   ]
  },
  {
   "cell_type": "code",
   "execution_count": 6,
   "metadata": {},
   "outputs": [
    {
     "name": "stderr",
     "output_type": "stream",
     "text": [
      "/usr/local/lib/python2.7/site-packages/pymatgen/__init__.py:87: UserWarning: \n",
      "Pymatgen will drop Py2k support from v2019.1.1. Pls consult the documentation\n",
      "at https://www.pymatgen.org for more details.\n",
      "  at https://www.pymatgen.org for more details.\"\"\")\n"
     ]
    }
   ],
   "source": [
    "from utils import get_xyz_data, get_size\n",
    "from utils import get_factor, get_crytal_graph, convert_to_red, get_shortest_distances"
   ]
  },
  {
   "cell_type": "code",
   "execution_count": 7,
   "metadata": {},
   "outputs": [],
   "source": [
    "from properties import get_element_properties\n",
    "from properties import ElementExtended"
   ]
  },
  {
   "cell_type": "code",
   "execution_count": 8,
   "metadata": {},
   "outputs": [],
   "source": [
    "DATA_DIR = './data'"
   ]
  },
  {
   "cell_type": "markdown",
   "metadata": {},
   "source": [
    "#### Get base train and test data"
   ]
  },
  {
   "cell_type": "code",
   "execution_count": 9,
   "metadata": {},
   "outputs": [],
   "source": [
    "train = pd.read_csv(os.path.join(DATA_DIR, 'train.csv'),\n",
    "                    names=['id', 'spacegroup', 'natoms', 'al',\n",
    "                           'ga', 'in', 'a', 'b', 'c',\n",
    "                           'alpha', 'beta',\n",
    "                           'gamma', 'E0',\n",
    "                           'bandgap'],\n",
    "                    header=0,\n",
    "                    sep=',')\n",
    "test = pd.read_csv(os.path.join(DATA_DIR, 'test.csv'),\n",
    "                    names=['id', 'spacegroup', 'natoms', 'al',\n",
    "                           'ga', 'in', 'a', 'b', 'c',\n",
    "                           'alpha', 'beta',\n",
    "                           'gamma'],\n",
    "                    header=0,\n",
    "                    sep=',')"
   ]
  },
  {
   "cell_type": "code",
   "execution_count": 10,
   "metadata": {},
   "outputs": [
    {
     "data": {
      "text/html": [
       "<div>\n",
       "<style scoped>\n",
       "    .dataframe tbody tr th:only-of-type {\n",
       "        vertical-align: middle;\n",
       "    }\n",
       "\n",
       "    .dataframe tbody tr th {\n",
       "        vertical-align: top;\n",
       "    }\n",
       "\n",
       "    .dataframe thead th {\n",
       "        text-align: right;\n",
       "    }\n",
       "</style>\n",
       "<table border=\"1\" class=\"dataframe\">\n",
       "  <thead>\n",
       "    <tr style=\"text-align: right;\">\n",
       "      <th></th>\n",
       "      <th>id</th>\n",
       "      <th>spacegroup</th>\n",
       "      <th>natoms</th>\n",
       "      <th>al</th>\n",
       "      <th>ga</th>\n",
       "      <th>in</th>\n",
       "      <th>a</th>\n",
       "      <th>b</th>\n",
       "      <th>c</th>\n",
       "      <th>alpha</th>\n",
       "      <th>beta</th>\n",
       "      <th>gamma</th>\n",
       "      <th>E0</th>\n",
       "      <th>bandgap</th>\n",
       "    </tr>\n",
       "  </thead>\n",
       "  <tbody>\n",
       "    <tr>\n",
       "      <th>0</th>\n",
       "      <td>1</td>\n",
       "      <td>33</td>\n",
       "      <td>80.0</td>\n",
       "      <td>0.6250</td>\n",
       "      <td>0.3750</td>\n",
       "      <td>0.000</td>\n",
       "      <td>9.9523</td>\n",
       "      <td>8.5513</td>\n",
       "      <td>9.1775</td>\n",
       "      <td>90.0026</td>\n",
       "      <td>90.0023</td>\n",
       "      <td>90.0017</td>\n",
       "      <td>0.0680</td>\n",
       "      <td>3.4387</td>\n",
       "    </tr>\n",
       "    <tr>\n",
       "      <th>1</th>\n",
       "      <td>2</td>\n",
       "      <td>194</td>\n",
       "      <td>80.0</td>\n",
       "      <td>0.6250</td>\n",
       "      <td>0.3750</td>\n",
       "      <td>0.000</td>\n",
       "      <td>6.1840</td>\n",
       "      <td>6.1838</td>\n",
       "      <td>23.6287</td>\n",
       "      <td>90.0186</td>\n",
       "      <td>89.9980</td>\n",
       "      <td>120.0025</td>\n",
       "      <td>0.2490</td>\n",
       "      <td>2.9210</td>\n",
       "    </tr>\n",
       "    <tr>\n",
       "      <th>2</th>\n",
       "      <td>3</td>\n",
       "      <td>227</td>\n",
       "      <td>40.0</td>\n",
       "      <td>0.8125</td>\n",
       "      <td>0.1875</td>\n",
       "      <td>0.000</td>\n",
       "      <td>9.7510</td>\n",
       "      <td>5.6595</td>\n",
       "      <td>13.9630</td>\n",
       "      <td>90.9688</td>\n",
       "      <td>91.1228</td>\n",
       "      <td>30.5185</td>\n",
       "      <td>0.1821</td>\n",
       "      <td>2.7438</td>\n",
       "    </tr>\n",
       "    <tr>\n",
       "      <th>3</th>\n",
       "      <td>4</td>\n",
       "      <td>167</td>\n",
       "      <td>30.0</td>\n",
       "      <td>0.7500</td>\n",
       "      <td>0.0000</td>\n",
       "      <td>0.250</td>\n",
       "      <td>5.0036</td>\n",
       "      <td>5.0034</td>\n",
       "      <td>13.5318</td>\n",
       "      <td>89.9888</td>\n",
       "      <td>90.0119</td>\n",
       "      <td>120.0017</td>\n",
       "      <td>0.2172</td>\n",
       "      <td>3.3492</td>\n",
       "    </tr>\n",
       "    <tr>\n",
       "      <th>4</th>\n",
       "      <td>5</td>\n",
       "      <td>194</td>\n",
       "      <td>80.0</td>\n",
       "      <td>0.0000</td>\n",
       "      <td>0.6250</td>\n",
       "      <td>0.375</td>\n",
       "      <td>6.6614</td>\n",
       "      <td>6.6612</td>\n",
       "      <td>24.5813</td>\n",
       "      <td>89.9960</td>\n",
       "      <td>90.0006</td>\n",
       "      <td>119.9893</td>\n",
       "      <td>0.0505</td>\n",
       "      <td>1.3793</td>\n",
       "    </tr>\n",
       "  </tbody>\n",
       "</table>\n",
       "</div>"
      ],
      "text/plain": [
       "   id  spacegroup  natoms      al      ga     in       a       b        c  \\\n",
       "0   1          33    80.0  0.6250  0.3750  0.000  9.9523  8.5513   9.1775   \n",
       "1   2         194    80.0  0.6250  0.3750  0.000  6.1840  6.1838  23.6287   \n",
       "2   3         227    40.0  0.8125  0.1875  0.000  9.7510  5.6595  13.9630   \n",
       "3   4         167    30.0  0.7500  0.0000  0.250  5.0036  5.0034  13.5318   \n",
       "4   5         194    80.0  0.0000  0.6250  0.375  6.6614  6.6612  24.5813   \n",
       "\n",
       "     alpha     beta     gamma      E0  bandgap  \n",
       "0  90.0026  90.0023   90.0017  0.0680   3.4387  \n",
       "1  90.0186  89.9980  120.0025  0.2490   2.9210  \n",
       "2  90.9688  91.1228   30.5185  0.1821   2.7438  \n",
       "3  89.9888  90.0119  120.0017  0.2172   3.3492  \n",
       "4  89.9960  90.0006  119.9893  0.0505   1.3793  "
      ]
     },
     "execution_count": 10,
     "metadata": {},
     "output_type": "execute_result"
    }
   ],
   "source": [
    "train.head()"
   ]
  },
  {
   "cell_type": "code",
   "execution_count": 11,
   "metadata": {},
   "outputs": [
    {
     "data": {
      "text/html": [
       "<div>\n",
       "<style scoped>\n",
       "    .dataframe tbody tr th:only-of-type {\n",
       "        vertical-align: middle;\n",
       "    }\n",
       "\n",
       "    .dataframe tbody tr th {\n",
       "        vertical-align: top;\n",
       "    }\n",
       "\n",
       "    .dataframe thead th {\n",
       "        text-align: right;\n",
       "    }\n",
       "</style>\n",
       "<table border=\"1\" class=\"dataframe\">\n",
       "  <thead>\n",
       "    <tr style=\"text-align: right;\">\n",
       "      <th></th>\n",
       "      <th>id</th>\n",
       "      <th>spacegroup</th>\n",
       "      <th>natoms</th>\n",
       "      <th>al</th>\n",
       "      <th>ga</th>\n",
       "      <th>in</th>\n",
       "      <th>a</th>\n",
       "      <th>b</th>\n",
       "      <th>c</th>\n",
       "      <th>alpha</th>\n",
       "      <th>beta</th>\n",
       "      <th>gamma</th>\n",
       "    </tr>\n",
       "  </thead>\n",
       "  <tbody>\n",
       "    <tr>\n",
       "      <th>0</th>\n",
       "      <td>1</td>\n",
       "      <td>33</td>\n",
       "      <td>80.0</td>\n",
       "      <td>0.1875</td>\n",
       "      <td>0.4688</td>\n",
       "      <td>0.3438</td>\n",
       "      <td>10.5381</td>\n",
       "      <td>9.0141</td>\n",
       "      <td>9.6361</td>\n",
       "      <td>89.9997</td>\n",
       "      <td>90.0003</td>\n",
       "      <td>90.0006</td>\n",
       "    </tr>\n",
       "    <tr>\n",
       "      <th>1</th>\n",
       "      <td>2</td>\n",
       "      <td>33</td>\n",
       "      <td>80.0</td>\n",
       "      <td>0.7500</td>\n",
       "      <td>0.2500</td>\n",
       "      <td>0.0000</td>\n",
       "      <td>9.8938</td>\n",
       "      <td>8.5014</td>\n",
       "      <td>9.1298</td>\n",
       "      <td>90.0038</td>\n",
       "      <td>90.0023</td>\n",
       "      <td>90.0015</td>\n",
       "    </tr>\n",
       "    <tr>\n",
       "      <th>2</th>\n",
       "      <td>3</td>\n",
       "      <td>167</td>\n",
       "      <td>30.0</td>\n",
       "      <td>0.6667</td>\n",
       "      <td>0.1667</td>\n",
       "      <td>0.1667</td>\n",
       "      <td>4.9811</td>\n",
       "      <td>4.9808</td>\n",
       "      <td>13.4799</td>\n",
       "      <td>89.9900</td>\n",
       "      <td>90.0109</td>\n",
       "      <td>120.0014</td>\n",
       "    </tr>\n",
       "    <tr>\n",
       "      <th>3</th>\n",
       "      <td>4</td>\n",
       "      <td>12</td>\n",
       "      <td>80.0</td>\n",
       "      <td>0.5625</td>\n",
       "      <td>0.4375</td>\n",
       "      <td>0.0000</td>\n",
       "      <td>24.3370</td>\n",
       "      <td>6.0091</td>\n",
       "      <td>5.7620</td>\n",
       "      <td>89.9995</td>\n",
       "      <td>103.8581</td>\n",
       "      <td>90.0002</td>\n",
       "    </tr>\n",
       "    <tr>\n",
       "      <th>4</th>\n",
       "      <td>5</td>\n",
       "      <td>12</td>\n",
       "      <td>80.0</td>\n",
       "      <td>0.1875</td>\n",
       "      <td>0.5000</td>\n",
       "      <td>0.3125</td>\n",
       "      <td>24.6443</td>\n",
       "      <td>6.2906</td>\n",
       "      <td>6.1589</td>\n",
       "      <td>90.0000</td>\n",
       "      <td>104.5929</td>\n",
       "      <td>90.0001</td>\n",
       "    </tr>\n",
       "  </tbody>\n",
       "</table>\n",
       "</div>"
      ],
      "text/plain": [
       "   id  spacegroup  natoms      al      ga      in        a       b        c  \\\n",
       "0   1          33    80.0  0.1875  0.4688  0.3438  10.5381  9.0141   9.6361   \n",
       "1   2          33    80.0  0.7500  0.2500  0.0000   9.8938  8.5014   9.1298   \n",
       "2   3         167    30.0  0.6667  0.1667  0.1667   4.9811  4.9808  13.4799   \n",
       "3   4          12    80.0  0.5625  0.4375  0.0000  24.3370  6.0091   5.7620   \n",
       "4   5          12    80.0  0.1875  0.5000  0.3125  24.6443  6.2906   6.1589   \n",
       "\n",
       "     alpha      beta     gamma  \n",
       "0  89.9997   90.0003   90.0006  \n",
       "1  90.0038   90.0023   90.0015  \n",
       "2  89.9900   90.0109  120.0014  \n",
       "3  89.9995  103.8581   90.0002  \n",
       "4  90.0000  104.5929   90.0001  "
      ]
     },
     "execution_count": 11,
     "metadata": {},
     "output_type": "execute_result"
    }
   ],
   "source": [
    "test.head()"
   ]
  },
  {
   "cell_type": "markdown",
   "metadata": {},
   "source": [
    "#### Get element properties from files (as check)"
   ]
  },
  {
   "cell_type": "code",
   "execution_count": 12,
   "metadata": {},
   "outputs": [],
   "source": [
    "elem_properties = get_element_properties(DATA_DIR)"
   ]
  },
  {
   "cell_type": "code",
   "execution_count": 13,
   "metadata": {},
   "outputs": [
    {
     "data": {
      "text/html": [
       "<div>\n",
       "<style scoped>\n",
       "    .dataframe tbody tr th:only-of-type {\n",
       "        vertical-align: middle;\n",
       "    }\n",
       "\n",
       "    .dataframe tbody tr th {\n",
       "        vertical-align: top;\n",
       "    }\n",
       "\n",
       "    .dataframe thead th {\n",
       "        text-align: right;\n",
       "    }\n",
       "</style>\n",
       "<table border=\"1\" class=\"dataframe\">\n",
       "  <thead>\n",
       "    <tr style=\"text-align: right;\">\n",
       "      <th></th>\n",
       "      <th>element</th>\n",
       "      <th>ea</th>\n",
       "      <th>ip</th>\n",
       "      <th>rs_max</th>\n",
       "      <th>rp_max</th>\n",
       "      <th>rd_max</th>\n",
       "    </tr>\n",
       "  </thead>\n",
       "  <tbody>\n",
       "    <tr>\n",
       "      <th>0</th>\n",
       "      <td>In</td>\n",
       "      <td>-0.312500</td>\n",
       "      <td>-5.537400</td>\n",
       "      <td>1.09</td>\n",
       "      <td>1.390000</td>\n",
       "      <td>1.940000</td>\n",
       "    </tr>\n",
       "    <tr>\n",
       "      <th>1</th>\n",
       "      <td>Ga</td>\n",
       "      <td>-0.108100</td>\n",
       "      <td>-5.818200</td>\n",
       "      <td>0.99</td>\n",
       "      <td>1.330000</td>\n",
       "      <td>2.160000</td>\n",
       "    </tr>\n",
       "    <tr>\n",
       "      <th>2</th>\n",
       "      <td>Al</td>\n",
       "      <td>-0.256300</td>\n",
       "      <td>-5.780000</td>\n",
       "      <td>1.13</td>\n",
       "      <td>1.500000</td>\n",
       "      <td>3.110000</td>\n",
       "    </tr>\n",
       "    <tr>\n",
       "      <th>3</th>\n",
       "      <td>O</td>\n",
       "      <td>-0.225633</td>\n",
       "      <td>-5.711867</td>\n",
       "      <td>1.07</td>\n",
       "      <td>1.406667</td>\n",
       "      <td>2.403333</td>\n",
       "    </tr>\n",
       "  </tbody>\n",
       "</table>\n",
       "</div>"
      ],
      "text/plain": [
       "  element        ea        ip  rs_max    rp_max    rd_max\n",
       "0      In -0.312500 -5.537400    1.09  1.390000  1.940000\n",
       "1      Ga -0.108100 -5.818200    0.99  1.330000  2.160000\n",
       "2      Al -0.256300 -5.780000    1.13  1.500000  3.110000\n",
       "3       O -0.225633 -5.711867    1.07  1.406667  2.403333"
      ]
     },
     "execution_count": 13,
     "metadata": {},
     "output_type": "execute_result"
    }
   ],
   "source": [
    "elem_properties"
   ]
  },
  {
   "cell_type": "markdown",
   "metadata": {},
   "source": [
    "#### Process an example file"
   ]
  },
  {
   "cell_type": "code",
   "execution_count": 14,
   "metadata": {},
   "outputs": [],
   "source": [
    "idx = 1\n",
    "fname = os.path.join(DATA_DIR, '{}', '{}', 'geometry.xyz').format('train', idx)"
   ]
  },
  {
   "cell_type": "code",
   "execution_count": 15,
   "metadata": {},
   "outputs": [],
   "source": [
    "pos, lat, natoms = get_xyz_data(fname)"
   ]
  },
  {
   "cell_type": "code",
   "execution_count": 16,
   "metadata": {},
   "outputs": [
    {
     "data": {
      "text/html": [
       "<div>\n",
       "<style scoped>\n",
       "    .dataframe tbody tr th:only-of-type {\n",
       "        vertical-align: middle;\n",
       "    }\n",
       "\n",
       "    .dataframe tbody tr th {\n",
       "        vertical-align: top;\n",
       "    }\n",
       "\n",
       "    .dataframe thead th {\n",
       "        text-align: right;\n",
       "    }\n",
       "</style>\n",
       "<table border=\"1\" class=\"dataframe\">\n",
       "  <thead>\n",
       "    <tr style=\"text-align: right;\">\n",
       "      <th></th>\n",
       "      <th>x</th>\n",
       "      <th>y</th>\n",
       "      <th>z</th>\n",
       "      <th>element</th>\n",
       "      <th>electroneg</th>\n",
       "      <th>atomic_mass</th>\n",
       "      <th>r_ionic</th>\n",
       "      <th>ea</th>\n",
       "      <th>ip</th>\n",
       "      <th>rs_max</th>\n",
       "      <th>rp_max</th>\n",
       "      <th>rd_max</th>\n",
       "    </tr>\n",
       "  </thead>\n",
       "  <tbody>\n",
       "    <tr>\n",
       "      <th>0</th>\n",
       "      <td>1.608888</td>\n",
       "      <td>7.276416</td>\n",
       "      <td>6.383155</td>\n",
       "      <td>Ga</td>\n",
       "      <td>1.81</td>\n",
       "      <td>69.723000</td>\n",
       "      <td>0.760</td>\n",
       "      <td>-0.1081</td>\n",
       "      <td>-5.8182</td>\n",
       "      <td>0.99</td>\n",
       "      <td>1.33</td>\n",
       "      <td>2.16</td>\n",
       "    </tr>\n",
       "    <tr>\n",
       "      <th>1</th>\n",
       "      <td>6.584932</td>\n",
       "      <td>7.252792</td>\n",
       "      <td>6.365826</td>\n",
       "      <td>Al</td>\n",
       "      <td>1.61</td>\n",
       "      <td>26.981539</td>\n",
       "      <td>0.675</td>\n",
       "      <td>-0.2563</td>\n",
       "      <td>-5.7800</td>\n",
       "      <td>1.13</td>\n",
       "      <td>1.50</td>\n",
       "      <td>3.11</td>\n",
       "    </tr>\n",
       "    <tr>\n",
       "      <th>2</th>\n",
       "      <td>3.435758</td>\n",
       "      <td>1.259776</td>\n",
       "      <td>1.794613</td>\n",
       "      <td>Al</td>\n",
       "      <td>1.61</td>\n",
       "      <td>26.981539</td>\n",
       "      <td>0.675</td>\n",
       "      <td>-0.2563</td>\n",
       "      <td>-5.7800</td>\n",
       "      <td>1.13</td>\n",
       "      <td>1.50</td>\n",
       "      <td>3.11</td>\n",
       "    </tr>\n",
       "    <tr>\n",
       "      <th>3</th>\n",
       "      <td>8.411802</td>\n",
       "      <td>1.236152</td>\n",
       "      <td>1.777284</td>\n",
       "      <td>Ga</td>\n",
       "      <td>1.81</td>\n",
       "      <td>69.723000</td>\n",
       "      <td>0.760</td>\n",
       "      <td>-0.1081</td>\n",
       "      <td>-5.8182</td>\n",
       "      <td>0.99</td>\n",
       "      <td>1.33</td>\n",
       "      <td>2.16</td>\n",
       "    </tr>\n",
       "    <tr>\n",
       "      <th>4</th>\n",
       "      <td>0.955880</td>\n",
       "      <td>2.998925</td>\n",
       "      <td>1.801351</td>\n",
       "      <td>Ga</td>\n",
       "      <td>1.81</td>\n",
       "      <td>69.723000</td>\n",
       "      <td>0.760</td>\n",
       "      <td>-0.1081</td>\n",
       "      <td>-5.8182</td>\n",
       "      <td>0.99</td>\n",
       "      <td>1.33</td>\n",
       "      <td>2.16</td>\n",
       "    </tr>\n",
       "  </tbody>\n",
       "</table>\n",
       "</div>"
      ],
      "text/plain": [
       "          x         y         z element  electroneg  atomic_mass  r_ionic  \\\n",
       "0  1.608888  7.276416  6.383155      Ga        1.81    69.723000    0.760   \n",
       "1  6.584932  7.252792  6.365826      Al        1.61    26.981539    0.675   \n",
       "2  3.435758  1.259776  1.794613      Al        1.61    26.981539    0.675   \n",
       "3  8.411802  1.236152  1.777284      Ga        1.81    69.723000    0.760   \n",
       "4  0.955880  2.998925  1.801351      Ga        1.81    69.723000    0.760   \n",
       "\n",
       "       ea      ip  rs_max  rp_max  rd_max  \n",
       "0 -0.1081 -5.8182    0.99    1.33    2.16  \n",
       "1 -0.2563 -5.7800    1.13    1.50    3.11  \n",
       "2 -0.2563 -5.7800    1.13    1.50    3.11  \n",
       "3 -0.1081 -5.8182    0.99    1.33    2.16  \n",
       "4 -0.1081 -5.8182    0.99    1.33    2.16  "
      ]
     },
     "execution_count": 16,
     "metadata": {},
     "output_type": "execute_result"
    }
   ],
   "source": [
    "pos.head()"
   ]
  },
  {
   "cell_type": "code",
   "execution_count": 17,
   "metadata": {},
   "outputs": [
    {
     "data": {
      "text/plain": [
       "array([[ 9.95208772e+00, -4.72482400e-02, -3.46579300e-02],\n",
       "       [ 4.03159900e-02,  8.55117485e+00, -9.53377000e-03],\n",
       "       [ 3.16403800e-02,  9.66592000e-03,  9.17743912e+00]])"
      ]
     },
     "execution_count": 17,
     "metadata": {},
     "output_type": "execute_result"
    }
   ],
   "source": [
    "lat"
   ]
  },
  {
   "cell_type": "code",
   "execution_count": 18,
   "metadata": {},
   "outputs": [
    {
     "data": {
      "text/plain": [
       "element\n",
       "Al    20\n",
       "Ga    12\n",
       "O     48\n",
       "dtype: int64"
      ]
     },
     "execution_count": 18,
     "metadata": {},
     "output_type": "execute_result"
    }
   ],
   "source": [
    "natoms"
   ]
  },
  {
   "cell_type": "code",
   "execution_count": 19,
   "metadata": {},
   "outputs": [],
   "source": [
    "pos_R = pos[['x', 'y', 'z']].as_matrix()"
   ]
  },
  {
   "cell_type": "code",
   "execution_count": 20,
   "metadata": {},
   "outputs": [],
   "source": [
    "pos_red = convert_to_red(pos_R, lat)"
   ]
  },
  {
   "cell_type": "code",
   "execution_count": 21,
   "metadata": {},
   "outputs": [
    {
     "data": {
      "text/html": [
       "<div>\n",
       "<style scoped>\n",
       "    .dataframe tbody tr th:only-of-type {\n",
       "        vertical-align: middle;\n",
       "    }\n",
       "\n",
       "    .dataframe tbody tr th {\n",
       "        vertical-align: top;\n",
       "    }\n",
       "\n",
       "    .dataframe thead th {\n",
       "        text-align: right;\n",
       "    }\n",
       "</style>\n",
       "<table border=\"1\" class=\"dataframe\">\n",
       "  <thead>\n",
       "    <tr style=\"text-align: right;\">\n",
       "      <th></th>\n",
       "      <th>x</th>\n",
       "      <th>y</th>\n",
       "      <th>z</th>\n",
       "      <th>element</th>\n",
       "      <th>electroneg</th>\n",
       "      <th>atomic_mass</th>\n",
       "      <th>r_ionic</th>\n",
       "      <th>ea</th>\n",
       "      <th>ip</th>\n",
       "      <th>rs_max</th>\n",
       "      <th>rp_max</th>\n",
       "      <th>rd_max</th>\n",
       "      <th>x_red</th>\n",
       "      <th>y_red</th>\n",
       "      <th>z_red</th>\n",
       "    </tr>\n",
       "  </thead>\n",
       "  <tbody>\n",
       "    <tr>\n",
       "      <th>0</th>\n",
       "      <td>1.608888</td>\n",
       "      <td>7.276416</td>\n",
       "      <td>6.383155</td>\n",
       "      <td>Ga</td>\n",
       "      <td>1.81</td>\n",
       "      <td>69.723000</td>\n",
       "      <td>0.760</td>\n",
       "      <td>-0.1081</td>\n",
       "      <td>-5.8182</td>\n",
       "      <td>0.99</td>\n",
       "      <td>1.33</td>\n",
       "      <td>2.16</td>\n",
       "      <td>0.156</td>\n",
       "      <td>0.851</td>\n",
       "      <td>0.697</td>\n",
       "    </tr>\n",
       "    <tr>\n",
       "      <th>1</th>\n",
       "      <td>6.584932</td>\n",
       "      <td>7.252792</td>\n",
       "      <td>6.365826</td>\n",
       "      <td>Al</td>\n",
       "      <td>1.61</td>\n",
       "      <td>26.981539</td>\n",
       "      <td>0.675</td>\n",
       "      <td>-0.2563</td>\n",
       "      <td>-5.7800</td>\n",
       "      <td>1.13</td>\n",
       "      <td>1.50</td>\n",
       "      <td>3.11</td>\n",
       "      <td>0.656</td>\n",
       "      <td>0.851</td>\n",
       "      <td>0.697</td>\n",
       "    </tr>\n",
       "    <tr>\n",
       "      <th>2</th>\n",
       "      <td>3.435758</td>\n",
       "      <td>1.259776</td>\n",
       "      <td>1.794613</td>\n",
       "      <td>Al</td>\n",
       "      <td>1.61</td>\n",
       "      <td>26.981539</td>\n",
       "      <td>0.675</td>\n",
       "      <td>-0.2563</td>\n",
       "      <td>-5.7800</td>\n",
       "      <td>1.13</td>\n",
       "      <td>1.50</td>\n",
       "      <td>3.11</td>\n",
       "      <td>0.344</td>\n",
       "      <td>0.149</td>\n",
       "      <td>0.197</td>\n",
       "    </tr>\n",
       "    <tr>\n",
       "      <th>3</th>\n",
       "      <td>8.411802</td>\n",
       "      <td>1.236152</td>\n",
       "      <td>1.777284</td>\n",
       "      <td>Ga</td>\n",
       "      <td>1.81</td>\n",
       "      <td>69.723000</td>\n",
       "      <td>0.760</td>\n",
       "      <td>-0.1081</td>\n",
       "      <td>-5.8182</td>\n",
       "      <td>0.99</td>\n",
       "      <td>1.33</td>\n",
       "      <td>2.16</td>\n",
       "      <td>0.844</td>\n",
       "      <td>0.149</td>\n",
       "      <td>0.197</td>\n",
       "    </tr>\n",
       "    <tr>\n",
       "      <th>4</th>\n",
       "      <td>0.955880</td>\n",
       "      <td>2.998925</td>\n",
       "      <td>1.801351</td>\n",
       "      <td>Ga</td>\n",
       "      <td>1.81</td>\n",
       "      <td>69.723000</td>\n",
       "      <td>0.760</td>\n",
       "      <td>-0.1081</td>\n",
       "      <td>-5.8182</td>\n",
       "      <td>0.99</td>\n",
       "      <td>1.33</td>\n",
       "      <td>2.16</td>\n",
       "      <td>0.094</td>\n",
       "      <td>0.351</td>\n",
       "      <td>0.197</td>\n",
       "    </tr>\n",
       "  </tbody>\n",
       "</table>\n",
       "</div>"
      ],
      "text/plain": [
       "          x         y         z element  electroneg  atomic_mass  r_ionic  \\\n",
       "0  1.608888  7.276416  6.383155      Ga        1.81    69.723000    0.760   \n",
       "1  6.584932  7.252792  6.365826      Al        1.61    26.981539    0.675   \n",
       "2  3.435758  1.259776  1.794613      Al        1.61    26.981539    0.675   \n",
       "3  8.411802  1.236152  1.777284      Ga        1.81    69.723000    0.760   \n",
       "4  0.955880  2.998925  1.801351      Ga        1.81    69.723000    0.760   \n",
       "\n",
       "       ea      ip  rs_max  rp_max  rd_max  x_red  y_red  z_red  \n",
       "0 -0.1081 -5.8182    0.99    1.33    2.16  0.156  0.851  0.697  \n",
       "1 -0.2563 -5.7800    1.13    1.50    3.11  0.656  0.851  0.697  \n",
       "2 -0.2563 -5.7800    1.13    1.50    3.11  0.344  0.149  0.197  \n",
       "3 -0.1081 -5.8182    0.99    1.33    2.16  0.844  0.149  0.197  \n",
       "4 -0.1081 -5.8182    0.99    1.33    2.16  0.094  0.351  0.197  "
      ]
     },
     "execution_count": 21,
     "metadata": {},
     "output_type": "execute_result"
    }
   ],
   "source": [
    "pos_all = pos.join(pd.DataFrame(pos_red, columns=['x_red', 'y_red', 'z_red']))\n",
    "pos_all.head()"
   ]
  },
  {
   "cell_type": "code",
   "execution_count": 22,
   "metadata": {},
   "outputs": [],
   "source": [
    "dists, Rij_min = get_shortest_distances(pos_red, lat)"
   ]
  },
  {
   "cell_type": "code",
   "execution_count": 23,
   "metadata": {},
   "outputs": [
    {
     "data": {
      "image/png": "[encoded data removed]",
      "text/plain": [
       "<matplotlib.figure.Figure at 0x108fd1350>"
      ]
     },
     "metadata": {},
     "output_type": "display_data"
    }
   ],
   "source": [
    "plt.subplots(figsize=(7, 7))\n",
    "sns.heatmap(dists, square=True);"
   ]
  },
  {
   "cell_type": "markdown",
   "metadata": {},
   "source": [
    "#### Make crystal graph"
   ]
  },
  {
   "cell_type": "code",
   "execution_count": 24,
   "metadata": {},
   "outputs": [
    {
     "name": "stdout",
     "output_type": "stream",
     "text": [
      "Spacegroup: 33.0\n",
      "Gamma: 90.0017\n",
      "CG Factor: 1.4\n",
      "Node count: 80\n",
      "Edge count: 176\n",
      "Ga_0    4   ['O_40', 'O_38', 'O_57', 'O_62']\n",
      "Al_1    4   ['O_39', 'O_41', 'O_56', 'O_63']\n",
      "Al_2    4   ['O_42', 'O_60', 'O_59', 'O_36']\n",
      "Ga_3    4   ['O_43', 'O_37', 'O_58', 'O_61']\n",
      "Ga_4    4   ['O_45', 'O_60', 'O_58', 'O_34']\n",
      "Al_5    4   ['O_59', 'O_44', 'O_35', 'O_61']\n",
      "Al_6    4   ['O_32', 'O_56', 'O_47', 'O_62']\n",
      "Al_7    4   ['O_33', 'O_57', 'O_46', 'O_63']\n",
      "Al_8    6   ['O_38', 'O_45', 'O_33', 'O_54', 'O_48', 'O_78']\n",
      "Ga_9    6   ['O_39', 'O_44', 'O_55', 'O_32', 'O_49', 'O_79']\n",
      "Ga_10   6   ['O_36', 'O_76', 'O_47', 'O_50', 'O_35', 'O_52']\n",
      "Al_11   6   ['O_37', 'O_77', 'O_46', 'O_51', 'O_53', 'O_34']\n",
      "Al_12   6   ['O_40', 'O_74', 'O_34', 'O_51', 'O_36', 'O_52']\n",
      "Ga_13   6   ['O_75', 'O_41', 'O_53', 'O_37', 'O_50', 'O_35']\n",
      "Al_14   6   ['O_42', 'O_38', 'O_72', 'O_54', 'O_32', 'O_49']\n",
      "Ga_15   6   ['O_55', 'O_43', 'O_39', 'O_73', 'O_33', 'O_48']\n",
      "Ga_16   6   ['O_64', 'O_42', 'O_38', 'O_73', 'O_58', 'O_48']\n",
      "Al_17   6   ['O_65', 'O_43', 'O_39', 'O_59', 'O_72', 'O_49']\n",
      "Ga_18   6   ['O_40', 'O_50', 'O_75', 'O_56', 'O_36', 'O_66']\n",
      "Al_19   6   ['O_37', 'O_67', 'O_74', 'O_41', 'O_57', 'O_51']\n",
      "Ga_20   6   ['O_76', 'O_46', 'O_62', 'O_34', 'O_68', 'O_52']\n",
      "Al_21   6   ['O_35', 'O_77', 'O_47', 'O_63', 'O_69', 'O_53']\n",
      "Al_22   6   ['O_54', 'O_60', 'O_44', 'O_70', 'O_32', 'O_78']\n",
      "Al_23   6   ['O_55', 'O_61', 'O_71', 'O_45', 'O_33', 'O_79']\n",
      "Ga_24   6   ['O_64', 'O_40', 'O_72', 'O_70', 'O_50', 'O_52']\n",
      "Al_25   6   ['O_65', 'O_41', 'O_73', 'O_71', 'O_51', 'O_53']\n",
      "Al_26   6   ['O_42', 'O_66', 'O_74', 'O_54', 'O_48', 'O_68']\n",
      "Al_27   6   ['O_43', 'O_75', 'O_67', 'O_55', 'O_49', 'O_69']\n",
      "Al_28   6   ['O_76', 'O_66', 'O_44', 'O_54', 'O_49', 'O_69']\n",
      "Ga_29   6   ['O_77', 'O_67', 'O_45', 'O_55', 'O_48', 'O_68']\n",
      "Al_30   6   ['O_64', 'O_46', 'O_71', 'O_52', 'O_51', 'O_78']\n",
      "Al_31   6   ['O_65', 'O_47', 'O_70', 'O_53', 'O_50', 'O_79']\n",
      "O_32    4   ['Ga_9', 'Al_22', 'Al_6', 'Al_14']\n",
      "O_33    4   ['Ga_15', 'Al_8', 'Al_7', 'Al_23']\n",
      "O_34    4   ['Ga_4', 'Al_12', 'Ga_20', 'Al_11']\n",
      "O_35    4   ['Al_21', 'Ga_10', 'Ga_13', 'Al_5']\n",
      "O_36    4   ['Al_2', 'Al_12', 'Ga_10', 'Ga_18']\n",
      "O_37    4   ['Al_11', 'Ga_13', 'Ga_3', 'Al_19']\n",
      "O_38    4   ['Al_8', 'Ga_16', 'Al_14', 'Ga_0']\n",
      "O_39    4   ['Ga_15', 'Al_1', 'Ga_9', 'Al_17']\n",
      "O_40    4   ['Ga_24', 'Al_12', 'Ga_0', 'Ga_18']\n",
      "O_41    4   ['Al_19', 'Al_1', 'Al_25', 'Ga_13']\n",
      "O_42    4   ['Al_2', 'Ga_16', 'Al_14', 'Al_26']\n",
      "O_43    4   ['Ga_15', 'Al_27', 'Ga_3', 'Al_17']\n",
      "O_44    4   ['Al_28', 'Al_22', 'Ga_9', 'Al_5']\n",
      "O_45    4   ['Ga_4', 'Al_8', 'Al_23', 'Ga_29']\n",
      "O_46    4   ['Al_11', 'Al_30', 'Ga_20', 'Al_7']\n",
      "O_47    4   ['Al_21', 'Al_31', 'Al_6', 'Ga_10']\n",
      "O_48    5   ['Ga_15', 'Al_8', 'Ga_16', 'Ga_29', 'Al_26']\n",
      "O_49    5   ['Al_28', 'Al_14', 'Ga_9', 'Al_27', 'Al_17']\n",
      "O_50    5   ['Ga_24', 'Al_31', 'Ga_10', 'Ga_13', 'Ga_18']\n",
      "O_51    5   ['Al_11', 'Al_12', 'Al_25', 'Al_30', 'Al_19']\n",
      "O_52    5   ['Ga_24', 'Al_12', 'Ga_20', 'Ga_10', 'Al_30']\n",
      "O_53    5   ['Al_21', 'Al_11', 'Al_31', 'Al_25', 'Ga_13']\n",
      "O_54    5   ['Al_28', 'Al_8', 'Al_22', 'Al_14', 'Al_26']\n",
      "O_55    5   ['Ga_15', 'Al_23', 'Ga_9', 'Ga_29', 'Al_27']\n",
      "O_56    3   ['Al_1', 'Al_6', 'Ga_18']\n",
      "O_57    3   ['Al_19', 'Ga_0', 'Al_7']\n",
      "O_58    3   ['Ga_4', 'Ga_16', 'Ga_3']\n",
      "O_59    3   ['Al_2', 'Al_17', 'Al_5']\n",
      "O_60    3   ['Al_2', 'Ga_4', 'Al_22']\n",
      "O_61    3   ['Al_23', 'Ga_3', 'Al_5']\n",
      "O_62    3   ['Ga_20', 'Al_6', 'Ga_0']\n",
      "O_63    3   ['Al_21', 'Al_1', 'Al_7']\n",
      "O_64    3   ['Ga_24', 'Al_30', 'Ga_16']\n",
      "O_65    3   ['Al_31', 'Al_25', 'Al_17']\n",
      "O_66    3   ['Al_28', 'Ga_18', 'Al_26']\n",
      "O_67    3   ['Al_19', 'Ga_29', 'Al_27']\n",
      "O_68    3   ['Ga_20', 'Ga_29', 'Al_26']\n",
      "O_69    3   ['Al_21', 'Al_28', 'Al_27']\n",
      "O_70    3   ['Ga_24', 'Al_22', 'Al_31']\n",
      "O_71    3   ['Al_23', 'Al_25', 'Al_30']\n",
      "O_72    3   ['Ga_24', 'Al_14', 'Al_17']\n",
      "O_73    3   ['Ga_15', 'Ga_16', 'Al_25']\n",
      "O_74    3   ['Al_19', 'Al_12', 'Al_26']\n",
      "O_75    3   ['Ga_18', 'Ga_13', 'Al_27']\n",
      "O_76    3   ['Al_28', 'Ga_20', 'Ga_10']\n",
      "O_77    3   ['Al_21', 'Al_11', 'Ga_29']\n",
      "O_78    3   ['Al_8', 'Al_22', 'Al_30']\n",
      "O_79    3   ['Al_23', 'Al_31', 'Ga_9']\n"
     ]
    }
   ],
   "source": [
    "cg_factor = get_factor(train.iloc[idx - 1].spacegroup, train.iloc[idx - 1].gamma)\n",
    "\n",
    "G = get_crytal_graph(pos_red, pos.element, dists, factor=cg_factor)\n",
    "\n",
    "print \"Spacegroup:\", train.iloc[idx - 1].spacegroup\n",
    "print \"Gamma:\", train.iloc[idx - 1].gamma\n",
    "print \"CG Factor:\", cg_factor\n",
    "print \"Node count:\", G.number_of_nodes()\n",
    "print \"Edge count:\", G.number_of_edges()\n",
    "\n",
    "for i in range(len(pos.element)):\n",
    "    sym_i = pos.element[i]\n",
    "    node_i = '{}_{}'.format(sym_i, i)\n",
    "    crdn_i = list(G.neighbors(node_i))\n",
    "    print \"{:8s}{:d}   {}\".format(node_i, len(crdn_i), crdn_i)"
   ]
  },
  {
   "cell_type": "code",
   "execution_count": 25,
   "metadata": {},
   "outputs": [
    {
     "data": {
      "text/plain": [
       "{'atomic_mass': 69.723, 'cn': 4, 'electroneg': 1.81, 'symbol': 'Ga'}"
      ]
     },
     "execution_count": 25,
     "metadata": {},
     "output_type": "execute_result"
    }
   ],
   "source": [
    "G.node['Ga_0']"
   ]
  },
  {
   "cell_type": "code",
   "execution_count": 26,
   "metadata": {},
   "outputs": [
    {
     "data": {
      "text/plain": [
       "{'bond_length': 1.808885609695628, 'symbol': 'Ga-O'}"
      ]
     },
     "execution_count": 26,
     "metadata": {},
     "output_type": "execute_result"
    }
   ],
   "source": [
    "G.edges[('Ga_0', 'O_38', 0)]"
   ]
  },
  {
   "cell_type": "code",
   "execution_count": 27,
   "metadata": {},
   "outputs": [
    {
     "data": {
      "text/plain": [
       "AdjacencyView({'O_40': {0: {'bond_length': 1.8271305422232218, 'symbol': 'Ga-O'}}, 'O_38': {0: {'bond_length': 1.808885609695628, 'symbol': 'Ga-O'}}, 'O_57': {0: {'bond_length': 1.781654092682299, 'symbol': 'Ga-O'}}, 'O_62': {0: {'bond_length': 1.859283310839619, 'symbol': 'Ga-O'}}})"
      ]
     },
     "execution_count": 27,
     "metadata": {},
     "output_type": "execute_result"
    }
   ],
   "source": [
    "G['Ga_0']"
   ]
  },
  {
   "cell_type": "code",
   "execution_count": 28,
   "metadata": {},
   "outputs": [
    {
     "data": {
      "image/png": "[encoded data removed]",
      "text/plain": [
       "<matplotlib.figure.Figure at 0x10993d6d0>"
      ]
     },
     "metadata": {},
     "output_type": "display_data"
    }
   ],
   "source": [
    "plt.figure(figsize=(10, 10))\n",
    "nx.draw_spring(G, with_labels=True, node_size=800, font_size=8, font_color='w', font_weight='bold');"
   ]
  },
  {
   "cell_type": "markdown",
   "metadata": {},
   "source": [
    "#### Get features from CG using Node2Vec"
   ]
  },
  {
   "cell_type": "code",
   "execution_count": 29,
   "metadata": {},
   "outputs": [],
   "source": [
    "from gensim.models import Word2Vec"
   ]
  },
  {
   "cell_type": "code",
   "execution_count": 30,
   "metadata": {},
   "outputs": [],
   "source": [
    "def learn_embeddings(walks, dimensions=8, workers=4, window=6, iter_num=200):\n",
    "    \"\"\"\n",
    "    Learn embeddings by optimizing the Skipgram objective using SGD.\n",
    "    \"\"\"\n",
    "    walks = [map(str, walk) for walk in walks]\n",
    "    model = Word2Vec(walks, size=dimensions, window=window,\n",
    "                     min_count=0, sg=1, workers=workers, iter=iter_num)\n",
    "    return model"
   ]
  },
  {
   "cell_type": "code",
   "execution_count": 31,
   "metadata": {},
   "outputs": [],
   "source": [
    "G_nv = GraphNV(G, 10, 0.6, is_directed=False, weight_key='bond_length')\n",
    "G_nv.preprocess_transition_probs()\n",
    "walks = G_nv.simulate_walks(10, 4)"
   ]
  },
  {
   "cell_type": "code",
   "execution_count": 32,
   "metadata": {},
   "outputs": [],
   "source": [
    "result = learn_embeddings(walks)"
   ]
  },
  {
   "cell_type": "code",
   "execution_count": 33,
   "metadata": {},
   "outputs": [],
   "source": [
    "word_vectors = result.wv"
   ]
  },
  {
   "cell_type": "code",
   "execution_count": 34,
   "metadata": {},
   "outputs": [
    {
     "data": {
      "text/plain": [
       "[('Ga_10', 0.9259599447250366),\n",
       " ('Ga_18', 0.8291816711425781),\n",
       " ('O_50', 0.8085079193115234),\n",
       " ('Al_12', 0.7867234945297241),\n",
       " ('O_52', 0.7796740531921387),\n",
       " ('O_76', 0.7710825204849243),\n",
       " ('Ga_24', 0.7657938599586487),\n",
       " ('O_47', 0.7166074514389038),\n",
       " ('O_70', 0.7151227593421936),\n",
       " ('O_66', 0.6947793960571289)]"
      ]
     },
     "execution_count": 34,
     "metadata": {},
     "output_type": "execute_result"
    }
   ],
   "source": [
    "word_vectors.most_similar('O_36')"
   ]
  },
  {
   "cell_type": "code",
   "execution_count": 35,
   "metadata": {},
   "outputs": [
    {
     "data": {
      "text/plain": [
       "array([-0.35378957, -0.4246783 ,  0.11872289,  0.6449348 ,  0.09961691,\n",
       "       -0.9499697 , -1.0767957 ,  1.7671896 ], dtype=float32)"
      ]
     },
     "execution_count": 35,
     "metadata": {},
     "output_type": "execute_result"
    }
   ],
   "source": [
    "word_vectors['O_36']"
   ]
  },
  {
   "cell_type": "markdown",
   "metadata": {},
   "source": [
    "#### Get features from CG"
   ]
  },
  {
   "cell_type": "code",
   "execution_count": 36,
   "metadata": {},
   "outputs": [],
   "source": [
    "a_list = []\n",
    "for n in G.nodes(data=True):\n",
    "    n[1]['id'] = n[0]\n",
    "    \n",
    "    bls = np.array([G.edges[(n[0], m, 0)]['bond_length'] for m in G.neighbors(n[0])])\n",
    "    n[1]['avg_m-o_bond_length'] = bls.mean()\n",
    "    n[1]['std_m-o_bond_length'] = bls.std()\n",
    "\n",
    "    for i in range(6):\n",
    "        n[1]['v_{}'.format(i)] = word_vectors[n[0]][i]\n",
    "        \n",
    "    a_list.append(n[1])\n",
    "\n",
    "a_df = pd.DataFrame(a_list).set_index('id')"
   ]
  },
  {
   "cell_type": "code",
   "execution_count": 37,
   "metadata": {},
   "outputs": [],
   "source": [
    "a_df_sum = a_df.groupby('symbol').mean()"
   ]
  },
  {
   "cell_type": "code",
   "execution_count": 92,
   "metadata": {},
   "outputs": [
    {
     "data": {
      "text/html": [
       "<div>\n",
       "<style scoped>\n",
       "    .dataframe tbody tr th:only-of-type {\n",
       "        vertical-align: middle;\n",
       "    }\n",
       "\n",
       "    .dataframe tbody tr th {\n",
       "        vertical-align: top;\n",
       "    }\n",
       "\n",
       "    .dataframe thead th {\n",
       "        text-align: right;\n",
       "    }\n",
       "</style>\n",
       "<table border=\"1\" class=\"dataframe\">\n",
       "  <thead>\n",
       "    <tr style=\"text-align: right;\">\n",
       "      <th></th>\n",
       "      <th>avg_m-o_bond_length</th>\n",
       "      <th>cn</th>\n",
       "      <th>std_m-o_bond_length</th>\n",
       "      <th>v_0</th>\n",
       "      <th>v_1</th>\n",
       "      <th>v_2</th>\n",
       "      <th>v_3</th>\n",
       "      <th>v_4</th>\n",
       "      <th>v_5</th>\n",
       "    </tr>\n",
       "    <tr>\n",
       "      <th>symbol</th>\n",
       "      <th></th>\n",
       "      <th></th>\n",
       "      <th></th>\n",
       "      <th></th>\n",
       "      <th></th>\n",
       "      <th></th>\n",
       "      <th></th>\n",
       "      <th></th>\n",
       "      <th></th>\n",
       "    </tr>\n",
       "  </thead>\n",
       "  <tbody>\n",
       "    <tr>\n",
       "      <th>Al</th>\n",
       "      <td>1.949009</td>\n",
       "      <td>5.500000</td>\n",
       "      <td>0.109757</td>\n",
       "      <td>0.139215</td>\n",
       "      <td>-0.956003</td>\n",
       "      <td>-0.086952</td>\n",
       "      <td>0.576718</td>\n",
       "      <td>-0.745852</td>\n",
       "      <td>-0.782636</td>\n",
       "    </tr>\n",
       "    <tr>\n",
       "      <th>Ga</th>\n",
       "      <td>1.943034</td>\n",
       "      <td>5.500000</td>\n",
       "      <td>0.093294</td>\n",
       "      <td>0.096080</td>\n",
       "      <td>-0.673305</td>\n",
       "      <td>-0.014040</td>\n",
       "      <td>0.739531</td>\n",
       "      <td>-0.821938</td>\n",
       "      <td>-0.918227</td>\n",
       "    </tr>\n",
       "    <tr>\n",
       "      <th>O</th>\n",
       "      <td>1.937629</td>\n",
       "      <td>3.666667</td>\n",
       "      <td>0.079646</td>\n",
       "      <td>0.007427</td>\n",
       "      <td>-0.693341</td>\n",
       "      <td>0.008101</td>\n",
       "      <td>0.713217</td>\n",
       "      <td>-0.869658</td>\n",
       "      <td>-0.863694</td>\n",
       "    </tr>\n",
       "  </tbody>\n",
       "</table>\n",
       "</div>"
      ],
      "text/plain": [
       "        avg_m-o_bond_length        cn  std_m-o_bond_length       v_0  \\\n",
       "symbol                                                                 \n",
       "Al                 1.949009  5.500000             0.109757  0.139215   \n",
       "Ga                 1.943034  5.500000             0.093294  0.096080   \n",
       "O                  1.937629  3.666667             0.079646  0.007427   \n",
       "\n",
       "             v_1       v_2       v_3       v_4       v_5  \n",
       "symbol                                                    \n",
       "Al     -0.956003 -0.086952  0.576718 -0.745852 -0.782636  \n",
       "Ga     -0.673305 -0.014040  0.739531 -0.821938 -0.918227  \n",
       "O      -0.693341  0.008101  0.713217 -0.869658 -0.863694  "
      ]
     },
     "execution_count": 92,
     "metadata": {},
     "output_type": "execute_result"
    }
   ],
   "source": [
    "a_df_sum.drop(['atomic_mass', 'electroneg'], axis=1)"
   ]
  },
  {
   "cell_type": "markdown",
   "metadata": {},
   "source": [
    "#### Process all files (test and train)"
   ]
  },
  {
   "cell_type": "code",
   "execution_count": 72,
   "metadata": {},
   "outputs": [],
   "source": [
    "def process_graph(batch='train'):\n",
    "    \"\"\"\n",
    "    Function to process each .xyz file and return the crystal graph data\n",
    "    \"\"\"\n",
    "    summary_result = []\n",
    "    \n",
    "    pbar = tqdm_notebook(os.listdir(os.path.join(DATA_DIR, batch)))\n",
    "    \n",
    "    for i in pbar:\n",
    "        # Load .xyz data\n",
    "        fname = os.path.join(DATA_DIR, batch, i, 'geometry.xyz')\n",
    "        pos, latvec, natoms = get_xyz_data(fname)\n",
    "        \n",
    "        # Element index\n",
    "        idx = int(i)\n",
    "        \n",
    "        # Calculate reduced coordinates\n",
    "        pos_R = pos[['x', 'y', 'z']].as_matrix()\n",
    "        pos_red = convert_to_red(pos_R, lat)\n",
    "        \n",
    "        # Get distances between pairs\n",
    "        dists, Rij_min = get_shortest_distances(pos_red, lat)\n",
    "        \n",
    "        # Make CG\n",
    "        if batch == 'train':\n",
    "            d = train.iloc[idx - 1]\n",
    "        elif batch == 'test':\n",
    "            d = test.iloc[idx - 1]\n",
    "        cg_factor = get_factor(d.spacegroup, d.gamma)\n",
    "        G = get_crytal_graph(pos_red, pos.element, dists, factor=cg_factor)\n",
    "        \n",
    "        # Perform N2V with bond_lengths as weights\n",
    "        G_nv = GraphNV(G, 10, 0.6, is_directed=False, weight_key='bond_length')\n",
    "        G_nv.preprocess_transition_probs()\n",
    "        walks = G_nv.simulate_walks(10, 4)\n",
    "        \n",
    "        result = learn_embeddings(walks)\n",
    "        word_vectors = result.wv\n",
    "        \n",
    "        # Create features\n",
    "        a_list = []\n",
    "        for n in G.nodes(data=True):\n",
    "            n[1]['id'] = n[0]\n",
    "\n",
    "            bls = np.array([G.edges[(n[0], m, 0)]['bond_length'] for m in G.neighbors(n[0])])\n",
    "            \n",
    "            if bls.size > 0:\n",
    "                n[1]['avg_m-o_bond_length'] = bls.mean()\n",
    "                n[1]['std_m-o_bond_length'] = bls.std()\n",
    "            else:\n",
    "                n[1]['avg_m-o_bond_length'] = 0.0\n",
    "                n[1]['std_m-o_bond_length'] = 0.0\n",
    "\n",
    "            for k in range(6):\n",
    "                n[1]['v_{}'.format(k)] = word_vectors[n[0]][k]\n",
    "\n",
    "            a_list.append(n[1])\n",
    "        \n",
    "        G.clear()\n",
    "\n",
    "        a_df = pd.DataFrame(a_list).set_index('id')\n",
    "        a_df_sum = a_df.groupby('symbol').mean()\n",
    "        \n",
    "        features = [idx]\n",
    "        for s in ['Al', 'In', 'Ga', 'O']:\n",
    "            try:\n",
    "                features += a_df_sum.drop(['atomic_mass', 'electroneg'], axis=1).loc[s].tolist()\n",
    "            except KeyError:\n",
    "                features += [0.0] * 9\n",
    "        \n",
    "        summary_result.append(features)\n",
    "    \n",
    "    return summary_result"
   ]
  },
  {
   "cell_type": "markdown",
   "metadata": {},
   "source": [
    "#### Process files"
   ]
  },
  {
   "cell_type": "code",
   "execution_count": 73,
   "metadata": {},
   "outputs": [
    {
     "data": {
      "application/vnd.jupyter.widget-view+json": {
       "model_id": "9a6f1c2da4fd4bc588d2d0d7cf909f36",
       "version_major": 2,
       "version_minor": 0
      },
      "text/html": [
       "<p>Failed to display Jupyter Widget of type <code>HBox</code>.</p>\n",
       "<p>\n",
       "  If you're reading this message in the Jupyter Notebook or JupyterLab Notebook, it may mean\n",
       "  that the widgets JavaScript is still loading. If this message persists, it\n",
       "  likely means that the widgets JavaScript library is either not installed or\n",
       "  not enabled. See the <a href=\"https://ipywidgets.readthedocs.io/en/stable/user_install.html\">Jupyter\n",
       "  Widgets Documentation</a> for setup instructions.\n",
       "</p>\n",
       "<p>\n",
       "  If you're reading this message in another frontend (for example, a static\n",
       "  rendering on GitHub or <a href=\"https://nbviewer.jupyter.org/\">NBViewer</a>),\n",
       "  it may mean that your frontend doesn't currently support widgets.\n",
       "</p>\n"
      ],
      "text/plain": [
       "HBox(children=(IntProgress(value=0, max=2400), HTML(value=u'')))"
      ]
     },
     "metadata": {},
     "output_type": "display_data"
    },
    {
     "name": "stdout",
     "output_type": "stream",
     "text": [
      "\n"
     ]
    }
   ],
   "source": [
    "data_train = process_graph(batch='train')"
   ]
  },
  {
   "cell_type": "code",
   "execution_count": 74,
   "metadata": {},
   "outputs": [
    {
     "data": {
      "application/vnd.jupyter.widget-view+json": {
       "model_id": "63a32bc3288a4c5e94ba7bc9b797a7b1",
       "version_major": 2,
       "version_minor": 0
      },
      "text/html": [
       "<p>Failed to display Jupyter Widget of type <code>HBox</code>.</p>\n",
       "<p>\n",
       "  If you're reading this message in the Jupyter Notebook or JupyterLab Notebook, it may mean\n",
       "  that the widgets JavaScript is still loading. If this message persists, it\n",
       "  likely means that the widgets JavaScript library is either not installed or\n",
       "  not enabled. See the <a href=\"https://ipywidgets.readthedocs.io/en/stable/user_install.html\">Jupyter\n",
       "  Widgets Documentation</a> for setup instructions.\n",
       "</p>\n",
       "<p>\n",
       "  If you're reading this message in another frontend (for example, a static\n",
       "  rendering on GitHub or <a href=\"https://nbviewer.jupyter.org/\">NBViewer</a>),\n",
       "  it may mean that your frontend doesn't currently support widgets.\n",
       "</p>\n"
      ],
      "text/plain": [
       "HBox(children=(IntProgress(value=0, max=600), HTML(value=u'')))"
      ]
     },
     "metadata": {},
     "output_type": "display_data"
    },
    {
     "name": "stdout",
     "output_type": "stream",
     "text": [
      "\n"
     ]
    }
   ],
   "source": [
    "data_test = process_graph(batch='test')"
   ]
  },
  {
   "cell_type": "code",
   "execution_count": 79,
   "metadata": {},
   "outputs": [
    {
     "data": {
      "text/plain": [
       "array([[ 1.06900000e+03,  1.89209799e+00,  7.80000000e+00, ...,\n",
       "         9.39420525e-01, -7.35231910e-01, -4.19473680e-02],\n",
       "       [ 1.85500000e+03,  1.93980178e+00,  5.44000000e+00, ...,\n",
       "         5.89523919e-01, -9.85791058e-01, -4.05812978e-01],\n",
       "       [ 7.97000000e+02,  2.00616283e+00,  6.00000000e+00, ...,\n",
       "         4.77233331e-01, -2.03986704e-03,  3.22256540e-01],\n",
       "       ...,\n",
       "       [ 1.47600000e+03,  0.00000000e+00,  0.00000000e+00, ...,\n",
       "         1.76482436e-01, -1.24055775e-01,  3.93376606e-01],\n",
       "       [ 1.64400000e+03,  1.96615049e+00,  6.00000000e+00, ...,\n",
       "         1.15421667e+00, -7.65470547e-01, -3.71078826e-01],\n",
       "       [ 9.86000000e+02,  1.82994502e+00,  7.15384615e+00, ...,\n",
       "         9.28527352e-01, -1.06221182e+00, -4.82650069e-01]])"
      ]
     },
     "execution_count": 79,
     "metadata": {},
     "output_type": "execute_result"
    }
   ],
   "source": [
    "np.array(data_train)"
   ]
  },
  {
   "cell_type": "code",
   "execution_count": 85,
   "metadata": {},
   "outputs": [],
   "source": [
    "columns = ['id', 'Al_avg_m-o_bond_length', 'Al_avg_cn', 'Al_std_m-o_bond_length',\n",
    "          'Al_v_0', 'Al_v_1', 'Al_v_2', 'Al_v_3', 'Al_v_4', 'Al_v_5',\n",
    "           \n",
    "          'In_avg_m-o_bond_length', 'In_avg_cn', 'In_std_m-o_bond_length',\n",
    "          'In_v_0', 'In_v_1', 'In_v_2', 'In_v_3', 'In_v_4', 'In_v_5',\n",
    "           \n",
    "          'Ga_avg_m-o_bond_length', 'Ga_avg_cn', 'Ga_std_m-o_bond_length',\n",
    "          'Ga_v_0', 'Ga_v_1', 'Ga_v_2', 'Ga_v_3', 'Ga_v_4', 'Ga_v_5',\n",
    "           \n",
    "          'O_avg_m-o_bond_length', 'O_avg_cn', 'O_std_m-o_bond_length',\n",
    "          'O_v_0', 'O_v_1', 'O_v_2', 'O_v_3', 'O_v_4', 'O_v_5',]"
   ]
  },
  {
   "cell_type": "code",
   "execution_count": 89,
   "metadata": {},
   "outputs": [],
   "source": [
    "df_train = pd.DataFrame(data_train, columns=columns).sort_values('id')"
   ]
  },
  {
   "cell_type": "code",
   "execution_count": 96,
   "metadata": {},
   "outputs": [
    {
     "data": {
      "text/html": [
       "<div>\n",
       "<style scoped>\n",
       "    .dataframe tbody tr th:only-of-type {\n",
       "        vertical-align: middle;\n",
       "    }\n",
       "\n",
       "    .dataframe tbody tr th {\n",
       "        vertical-align: top;\n",
       "    }\n",
       "\n",
       "    .dataframe thead th {\n",
       "        text-align: right;\n",
       "    }\n",
       "</style>\n",
       "<table border=\"1\" class=\"dataframe\">\n",
       "  <thead>\n",
       "    <tr style=\"text-align: right;\">\n",
       "      <th></th>\n",
       "      <th>id</th>\n",
       "      <th>Al_avg_m-o_bond_length</th>\n",
       "      <th>Al_avg_cn</th>\n",
       "      <th>Al_std_m-o_bond_length</th>\n",
       "      <th>Al_v_0</th>\n",
       "      <th>Al_v_1</th>\n",
       "      <th>Al_v_2</th>\n",
       "      <th>Al_v_3</th>\n",
       "      <th>Al_v_4</th>\n",
       "      <th>Al_v_5</th>\n",
       "      <th>...</th>\n",
       "      <th>Ga_v_5</th>\n",
       "      <th>O_avg_m-o_bond_length</th>\n",
       "      <th>O_avg_cn</th>\n",
       "      <th>O_std_m-o_bond_length</th>\n",
       "      <th>O_v_0</th>\n",
       "      <th>O_v_1</th>\n",
       "      <th>O_v_2</th>\n",
       "      <th>O_v_3</th>\n",
       "      <th>O_v_4</th>\n",
       "      <th>O_v_5</th>\n",
       "    </tr>\n",
       "  </thead>\n",
       "  <tbody>\n",
       "    <tr>\n",
       "      <th>1067</th>\n",
       "      <td>1</td>\n",
       "      <td>1.949009</td>\n",
       "      <td>5.500000</td>\n",
       "      <td>0.109757</td>\n",
       "      <td>0.263189</td>\n",
       "      <td>-0.884261</td>\n",
       "      <td>-0.036170</td>\n",
       "      <td>0.750605</td>\n",
       "      <td>-0.698487</td>\n",
       "      <td>-0.661276</td>\n",
       "      <td>...</td>\n",
       "      <td>-0.780323</td>\n",
       "      <td>1.937629</td>\n",
       "      <td>3.666667</td>\n",
       "      <td>0.079646</td>\n",
       "      <td>0.127069</td>\n",
       "      <td>-0.853100</td>\n",
       "      <td>0.163005</td>\n",
       "      <td>0.763118</td>\n",
       "      <td>-0.803645</td>\n",
       "      <td>-0.732734</td>\n",
       "    </tr>\n",
       "    <tr>\n",
       "      <th>2327</th>\n",
       "      <td>2</td>\n",
       "      <td>1.779137</td>\n",
       "      <td>6.500000</td>\n",
       "      <td>0.649896</td>\n",
       "      <td>0.032869</td>\n",
       "      <td>-0.554428</td>\n",
       "      <td>0.408196</td>\n",
       "      <td>1.157920</td>\n",
       "      <td>-1.205161</td>\n",
       "      <td>0.031592</td>\n",
       "      <td>...</td>\n",
       "      <td>0.283309</td>\n",
       "      <td>1.701934</td>\n",
       "      <td>4.687500</td>\n",
       "      <td>0.470738</td>\n",
       "      <td>-0.361125</td>\n",
       "      <td>-0.369090</td>\n",
       "      <td>-0.136622</td>\n",
       "      <td>1.129468</td>\n",
       "      <td>-1.253904</td>\n",
       "      <td>-0.090321</td>\n",
       "    </tr>\n",
       "    <tr>\n",
       "      <th>2219</th>\n",
       "      <td>3</td>\n",
       "      <td>1.883655</td>\n",
       "      <td>5.384615</td>\n",
       "      <td>0.224221</td>\n",
       "      <td>-0.312495</td>\n",
       "      <td>-1.304286</td>\n",
       "      <td>0.072648</td>\n",
       "      <td>0.015579</td>\n",
       "      <td>-0.544383</td>\n",
       "      <td>-0.327499</td>\n",
       "      <td>...</td>\n",
       "      <td>0.235588</td>\n",
       "      <td>1.886253</td>\n",
       "      <td>3.666667</td>\n",
       "      <td>0.206266</td>\n",
       "      <td>-0.161973</td>\n",
       "      <td>-1.233899</td>\n",
       "      <td>0.291731</td>\n",
       "      <td>0.097785</td>\n",
       "      <td>-0.647818</td>\n",
       "      <td>-0.186288</td>\n",
       "    </tr>\n",
       "    <tr>\n",
       "      <th>2201</th>\n",
       "      <td>4</td>\n",
       "      <td>2.012969</td>\n",
       "      <td>5.555556</td>\n",
       "      <td>0.141713</td>\n",
       "      <td>-0.371033</td>\n",
       "      <td>-0.838455</td>\n",
       "      <td>0.283264</td>\n",
       "      <td>0.640824</td>\n",
       "      <td>-0.380119</td>\n",
       "      <td>-0.257924</td>\n",
       "      <td>...</td>\n",
       "      <td>0.000000</td>\n",
       "      <td>2.023984</td>\n",
       "      <td>3.611111</td>\n",
       "      <td>0.115877</td>\n",
       "      <td>-0.578469</td>\n",
       "      <td>-0.738934</td>\n",
       "      <td>0.272375</td>\n",
       "      <td>0.632710</td>\n",
       "      <td>-0.161818</td>\n",
       "      <td>-0.045243</td>\n",
       "    </tr>\n",
       "    <tr>\n",
       "      <th>2342</th>\n",
       "      <td>5</td>\n",
       "      <td>0.000000</td>\n",
       "      <td>0.000000</td>\n",
       "      <td>0.000000</td>\n",
       "      <td>0.000000</td>\n",
       "      <td>0.000000</td>\n",
       "      <td>0.000000</td>\n",
       "      <td>0.000000</td>\n",
       "      <td>0.000000</td>\n",
       "      <td>0.000000</td>\n",
       "      <td>...</td>\n",
       "      <td>-0.524899</td>\n",
       "      <td>1.813465</td>\n",
       "      <td>4.958333</td>\n",
       "      <td>0.536679</td>\n",
       "      <td>-0.177194</td>\n",
       "      <td>-0.745338</td>\n",
       "      <td>0.727849</td>\n",
       "      <td>0.925179</td>\n",
       "      <td>-0.707048</td>\n",
       "      <td>-0.737106</td>\n",
       "    </tr>\n",
       "  </tbody>\n",
       "</table>\n",
       "<p>5 rows × 37 columns</p>\n",
       "</div>"
      ],
      "text/plain": [
       "      id  Al_avg_m-o_bond_length  Al_avg_cn  Al_std_m-o_bond_length    Al_v_0  \\\n",
       "1067   1                1.949009   5.500000                0.109757  0.263189   \n",
       "2327   2                1.779137   6.500000                0.649896  0.032869   \n",
       "2219   3                1.883655   5.384615                0.224221 -0.312495   \n",
       "2201   4                2.012969   5.555556                0.141713 -0.371033   \n",
       "2342   5                0.000000   0.000000                0.000000  0.000000   \n",
       "\n",
       "        Al_v_1    Al_v_2    Al_v_3    Al_v_4    Al_v_5    ...       Ga_v_5  \\\n",
       "1067 -0.884261 -0.036170  0.750605 -0.698487 -0.661276    ...    -0.780323   \n",
       "2327 -0.554428  0.408196  1.157920 -1.205161  0.031592    ...     0.283309   \n",
       "2219 -1.304286  0.072648  0.015579 -0.544383 -0.327499    ...     0.235588   \n",
       "2201 -0.838455  0.283264  0.640824 -0.380119 -0.257924    ...     0.000000   \n",
       "2342  0.000000  0.000000  0.000000  0.000000  0.000000    ...    -0.524899   \n",
       "\n",
       "      O_avg_m-o_bond_length  O_avg_cn  O_std_m-o_bond_length     O_v_0  \\\n",
       "1067               1.937629  3.666667               0.079646  0.127069   \n",
       "2327               1.701934  4.687500               0.470738 -0.361125   \n",
       "2219               1.886253  3.666667               0.206266 -0.161973   \n",
       "2201               2.023984  3.611111               0.115877 -0.578469   \n",
       "2342               1.813465  4.958333               0.536679 -0.177194   \n",
       "\n",
       "         O_v_1     O_v_2     O_v_3     O_v_4     O_v_5  \n",
       "1067 -0.853100  0.163005  0.763118 -0.803645 -0.732734  \n",
       "2327 -0.369090 -0.136622  1.129468 -1.253904 -0.090321  \n",
       "2219 -1.233899  0.291731  0.097785 -0.647818 -0.186288  \n",
       "2201 -0.738934  0.272375  0.632710 -0.161818 -0.045243  \n",
       "2342 -0.745338  0.727849  0.925179 -0.707048 -0.737106  \n",
       "\n",
       "[5 rows x 37 columns]"
      ]
     },
     "execution_count": 96,
     "metadata": {},
     "output_type": "execute_result"
    }
   ],
   "source": [
    "df_train.head()"
   ]
  },
  {
   "cell_type": "code",
   "execution_count": 97,
   "metadata": {},
   "outputs": [],
   "source": [
    "df_test = pd.DataFrame(data_test, columns=columns).sort_values('id')"
   ]
  },
  {
   "cell_type": "code",
   "execution_count": 98,
   "metadata": {},
   "outputs": [
    {
     "data": {
      "text/html": [
       "<div>\n",
       "<style scoped>\n",
       "    .dataframe tbody tr th:only-of-type {\n",
       "        vertical-align: middle;\n",
       "    }\n",
       "\n",
       "    .dataframe tbody tr th {\n",
       "        vertical-align: top;\n",
       "    }\n",
       "\n",
       "    .dataframe thead th {\n",
       "        text-align: right;\n",
       "    }\n",
       "</style>\n",
       "<table border=\"1\" class=\"dataframe\">\n",
       "  <thead>\n",
       "    <tr style=\"text-align: right;\">\n",
       "      <th></th>\n",
       "      <th>id</th>\n",
       "      <th>Al_avg_m-o_bond_length</th>\n",
       "      <th>Al_avg_cn</th>\n",
       "      <th>Al_std_m-o_bond_length</th>\n",
       "      <th>Al_v_0</th>\n",
       "      <th>Al_v_1</th>\n",
       "      <th>Al_v_2</th>\n",
       "      <th>Al_v_3</th>\n",
       "      <th>Al_v_4</th>\n",
       "      <th>Al_v_5</th>\n",
       "      <th>...</th>\n",
       "      <th>Ga_v_5</th>\n",
       "      <th>O_avg_m-o_bond_length</th>\n",
       "      <th>O_avg_cn</th>\n",
       "      <th>O_std_m-o_bond_length</th>\n",
       "      <th>O_v_0</th>\n",
       "      <th>O_v_1</th>\n",
       "      <th>O_v_2</th>\n",
       "      <th>O_v_3</th>\n",
       "      <th>O_v_4</th>\n",
       "      <th>O_v_5</th>\n",
       "    </tr>\n",
       "  </thead>\n",
       "  <tbody>\n",
       "    <tr>\n",
       "      <th>260</th>\n",
       "      <td>1</td>\n",
       "      <td>1.997013</td>\n",
       "      <td>5.666667</td>\n",
       "      <td>0.149430</td>\n",
       "      <td>-0.229542</td>\n",
       "      <td>-0.690060</td>\n",
       "      <td>-0.071598</td>\n",
       "      <td>1.570191</td>\n",
       "      <td>-0.040740</td>\n",
       "      <td>-0.687938</td>\n",
       "      <td>...</td>\n",
       "      <td>-0.722323</td>\n",
       "      <td>2.039899</td>\n",
       "      <td>4.083333</td>\n",
       "      <td>0.259720</td>\n",
       "      <td>0.060481</td>\n",
       "      <td>-0.246262</td>\n",
       "      <td>0.042607</td>\n",
       "      <td>1.223458</td>\n",
       "      <td>-0.488761</td>\n",
       "      <td>-0.947568</td>\n",
       "    </tr>\n",
       "    <tr>\n",
       "      <th>578</th>\n",
       "      <td>2</td>\n",
       "      <td>1.946632</td>\n",
       "      <td>5.500000</td>\n",
       "      <td>0.104698</td>\n",
       "      <td>0.240536</td>\n",
       "      <td>-0.306924</td>\n",
       "      <td>0.042656</td>\n",
       "      <td>0.527508</td>\n",
       "      <td>-1.204234</td>\n",
       "      <td>-0.554868</td>\n",
       "      <td>...</td>\n",
       "      <td>-0.607407</td>\n",
       "      <td>1.937739</td>\n",
       "      <td>3.666667</td>\n",
       "      <td>0.077864</td>\n",
       "      <td>0.218927</td>\n",
       "      <td>-0.319189</td>\n",
       "      <td>0.078719</td>\n",
       "      <td>0.532809</td>\n",
       "      <td>-1.276648</td>\n",
       "      <td>-0.548699</td>\n",
       "    </tr>\n",
       "    <tr>\n",
       "      <th>543</th>\n",
       "      <td>3</td>\n",
       "      <td>2.016860</td>\n",
       "      <td>6.000000</td>\n",
       "      <td>0.125847</td>\n",
       "      <td>-0.401368</td>\n",
       "      <td>-0.606386</td>\n",
       "      <td>0.310870</td>\n",
       "      <td>0.574860</td>\n",
       "      <td>-0.258066</td>\n",
       "      <td>0.559656</td>\n",
       "      <td>...</td>\n",
       "      <td>0.647948</td>\n",
       "      <td>2.016307</td>\n",
       "      <td>3.611111</td>\n",
       "      <td>0.102570</td>\n",
       "      <td>-0.635103</td>\n",
       "      <td>-0.748690</td>\n",
       "      <td>0.325465</td>\n",
       "      <td>0.460211</td>\n",
       "      <td>-0.197821</td>\n",
       "      <td>0.350782</td>\n",
       "    </tr>\n",
       "    <tr>\n",
       "      <th>539</th>\n",
       "      <td>4</td>\n",
       "      <td>1.851650</td>\n",
       "      <td>7.000000</td>\n",
       "      <td>0.391329</td>\n",
       "      <td>-0.253058</td>\n",
       "      <td>-0.822644</td>\n",
       "      <td>0.014520</td>\n",
       "      <td>0.620034</td>\n",
       "      <td>-1.219882</td>\n",
       "      <td>-0.182529</td>\n",
       "      <td>...</td>\n",
       "      <td>0.144882</td>\n",
       "      <td>1.837372</td>\n",
       "      <td>5.125000</td>\n",
       "      <td>0.467283</td>\n",
       "      <td>-0.000689</td>\n",
       "      <td>-0.711740</td>\n",
       "      <td>0.227946</td>\n",
       "      <td>0.971360</td>\n",
       "      <td>-1.139314</td>\n",
       "      <td>-0.059066</td>\n",
       "    </tr>\n",
       "    <tr>\n",
       "      <th>583</th>\n",
       "      <td>5</td>\n",
       "      <td>1.841404</td>\n",
       "      <td>6.333333</td>\n",
       "      <td>0.363869</td>\n",
       "      <td>-0.578203</td>\n",
       "      <td>-1.231069</td>\n",
       "      <td>0.219664</td>\n",
       "      <td>0.778618</td>\n",
       "      <td>-0.456018</td>\n",
       "      <td>-0.183017</td>\n",
       "      <td>...</td>\n",
       "      <td>-0.069742</td>\n",
       "      <td>1.942138</td>\n",
       "      <td>5.187500</td>\n",
       "      <td>0.484302</td>\n",
       "      <td>-0.489022</td>\n",
       "      <td>-1.321007</td>\n",
       "      <td>0.086943</td>\n",
       "      <td>0.762741</td>\n",
       "      <td>-0.402170</td>\n",
       "      <td>-0.122682</td>\n",
       "    </tr>\n",
       "  </tbody>\n",
       "</table>\n",
       "<p>5 rows × 37 columns</p>\n",
       "</div>"
      ],
      "text/plain": [
       "     id  Al_avg_m-o_bond_length  Al_avg_cn  Al_std_m-o_bond_length    Al_v_0  \\\n",
       "260   1                1.997013   5.666667                0.149430 -0.229542   \n",
       "578   2                1.946632   5.500000                0.104698  0.240536   \n",
       "543   3                2.016860   6.000000                0.125847 -0.401368   \n",
       "539   4                1.851650   7.000000                0.391329 -0.253058   \n",
       "583   5                1.841404   6.333333                0.363869 -0.578203   \n",
       "\n",
       "       Al_v_1    Al_v_2    Al_v_3    Al_v_4    Al_v_5    ...       Ga_v_5  \\\n",
       "260 -0.690060 -0.071598  1.570191 -0.040740 -0.687938    ...    -0.722323   \n",
       "578 -0.306924  0.042656  0.527508 -1.204234 -0.554868    ...    -0.607407   \n",
       "543 -0.606386  0.310870  0.574860 -0.258066  0.559656    ...     0.647948   \n",
       "539 -0.822644  0.014520  0.620034 -1.219882 -0.182529    ...     0.144882   \n",
       "583 -1.231069  0.219664  0.778618 -0.456018 -0.183017    ...    -0.069742   \n",
       "\n",
       "     O_avg_m-o_bond_length  O_avg_cn  O_std_m-o_bond_length     O_v_0  \\\n",
       "260               2.039899  4.083333               0.259720  0.060481   \n",
       "578               1.937739  3.666667               0.077864  0.218927   \n",
       "543               2.016307  3.611111               0.102570 -0.635103   \n",
       "539               1.837372  5.125000               0.467283 -0.000689   \n",
       "583               1.942138  5.187500               0.484302 -0.489022   \n",
       "\n",
       "        O_v_1     O_v_2     O_v_3     O_v_4     O_v_5  \n",
       "260 -0.246262  0.042607  1.223458 -0.488761 -0.947568  \n",
       "578 -0.319189  0.078719  0.532809 -1.276648 -0.548699  \n",
       "543 -0.748690  0.325465  0.460211 -0.197821  0.350782  \n",
       "539 -0.711740  0.227946  0.971360 -1.139314 -0.059066  \n",
       "583 -1.321007  0.086943  0.762741 -0.402170 -0.122682  \n",
       "\n",
       "[5 rows x 37 columns]"
      ]
     },
     "execution_count": 98,
     "metadata": {},
     "output_type": "execute_result"
    }
   ],
   "source": [
    "df_test.head()"
   ]
  },
  {
   "cell_type": "markdown",
   "metadata": {},
   "source": [
    "#### Write out geo test and train data files"
   ]
  },
  {
   "cell_type": "code",
   "execution_count": 99,
   "metadata": {},
   "outputs": [],
   "source": [
    "df_train.to_csv(os.path.join(DATA_DIR, 'train_geo.csv'), index=False)"
   ]
  },
  {
   "cell_type": "code",
   "execution_count": 100,
   "metadata": {},
   "outputs": [],
   "source": [
    "df_test.to_csv(os.path.join(DATA_DIR, 'test_geo.csv'), index=False)"
   ]
  },
  {
   "cell_type": "code",
   "execution_count": null,
   "metadata": {},
   "outputs": [],
   "source": []
  }
 ],
 "metadata": {
  "kernelspec": {
   "display_name": "Python 2",
   "language": "python",
   "name": "python2"
  },
  "language_info": {
   "codemirror_mode": {
    "name": "ipython",
    "version": 2
   },
   "file_extension": ".py",
   "mimetype": "text/x-python",
   "name": "python",
   "nbconvert_exporter": "python",
   "pygments_lexer": "ipython2",
   "version": "2.7.14"
  }
 },
 "nbformat": 4,
 "nbformat_minor": 2
}
